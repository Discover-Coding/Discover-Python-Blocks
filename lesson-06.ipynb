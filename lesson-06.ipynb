{
 "cells": [
  {
   "cell_type": "markdown",
   "metadata": {},
   "source": [
    "*Don't forget to run this code block first!*"
   ]
  },
  {
   "cell_type": "code",
   "execution_count": null,
   "metadata": {
    "scrolled": true
   },
   "outputs": [],
   "source": [
    "from setup import setup_lesson\n",
    "setup_lesson.setup_Lesson6()"
   ]
  },
  {
   "cell_type": "markdown",
   "metadata": {},
   "source": [
    "<img style=\"float:right;margin-left:50px;margin-right:50px;\" width=\"300\" src=\"images/discovercoding.png\">\n",
    "\n",
    "# Discover Python with Callysto\n",
    "Lesson created and taught by [Discover Coding](https://discovercoding.ca).\n",
    "\n",
    "With support and funding from [Callysto](https://callysto.ca/) and the [Pacific Institute for Mathematical Sciences](https://www.pims.math.ca/)\n",
    "\n",
    "# Lesson 6: Loops Continued\n",
    "\n",
    "This lesson will explore more:\n",
    "- 1. Review: comparisons, loops and conditionals\n",
    "- 2. Loops in Blockly & Python\n",
    "- 3. Loop challenges\n",
    "- 3. Extra loops challenges\n"
   ]
  },
  {
   "cell_type": "markdown",
   "metadata": {},
   "source": [
    "# 1. Review\n"
   ]
  },
  {
   "cell_type": "markdown",
   "metadata": {},
   "source": [
    "## 1.1 Math Operations\n",
    "\n",
    "Here's a reference page for our math operations:\n",
    "\n",
    "    Operation        What it does                                     Operator symbol\n",
    "    --------------   -----------------------------------------------  --------------\n",
    "    ADDITION         Add                                              +\n",
    "    SUBTRACT         Subtract                                         -\n",
    "    MULTIPLY         Multiplication                                   *\n",
    "    DIVIDE           Division                                         /\n",
    "    MODULO           Find the remainder                               %\n",
    "    FLOOR DIVISION   Divide and round down to the lower whole number  //\n",
    "    POWER            Multiply by the same number many times           **\n",
    "    \n",
    "*Activities:* \n",
    "\n",
    "a. Run code below to find the remainder of 1÷7, 2÷7, 3÷7, up to 21÷7.\n",
    "\n",
    "b. How can you tell if a number is divisible by 7? What is the output?\n",
    "\n",
    "c. What is the pattern?"
   ]
  },
  {
   "cell_type": "code",
   "execution_count": null,
   "metadata": {
    "scrolled": true
   },
   "outputs": [],
   "source": [
    "# RUN ME: What is the remainder of number / 7? (Check all of 1 to 10)\n",
    "number = 1\n",
    "while number <= 21:\n",
    "    remainder = number % 7\n",
    "    print(str(number) + \"÷7 has remainder \" + str(remainder))\n",
    "    number = number + 1"
   ]
  },
  {
   "cell_type": "markdown",
   "metadata": {},
   "source": [
    "## 1.2 Comparisons\n",
    "\n",
    "Recall that Python *compare* numbers and tell us if a *statement* is TRUE or FALSE. We use the following operators to create *BOOLEAN expressions*.\n",
    "\n",
    "    Equal:                    ==\n",
    "    Not equal:                !=\n",
    "    Less than:                <\n",
    "    Greater than:             >\n",
    "    Less than or equal to:    <=\n",
    "    Greater than or equal to: >=\n",
    "\n",
    "*Activities:*  Let's try a couple of comparisons using math operations.\n",
    "\n",
    "a. Is `number` less than 5? Try changing value of `number` and run code:"
   ]
  },
  {
   "cell_type": "code",
   "execution_count": null,
   "metadata": {
    "scrolled": true
   },
   "outputs": [],
   "source": [
    "# RUN ME: (change the 1 to something else)\n",
    "number = 1\n",
    "number < 5"
   ]
  },
  {
   "cell_type": "markdown",
   "metadata": {},
   "source": [
    "b. A number is divisible by 7 if the remainder is 0. Is `number` divisible by 7? Try change value of `number` and run code:"
   ]
  },
  {
   "cell_type": "code",
   "execution_count": null,
   "metadata": {
    "scrolled": true
   },
   "outputs": [],
   "source": [
    "# RUN ME: Is number divisible by 7?\n",
    "number = 14\n",
    "(number % 7) == 0"
   ]
  },
  {
   "cell_type": "markdown",
   "metadata": {},
   "source": [
    "c. EXTRA CHALLENGE: Let's use advanced operators and compare values in two variables. Is 2 to the power of 3 EQUAL TO 17 modulo 9?"
   ]
  },
  {
   "cell_type": "code",
   "execution_count": null,
   "metadata": {
    "scrolled": true
   },
   "outputs": [],
   "source": [
    "# FILL IN THE BLANK: (Hint: == checks if two things are equal)\n",
    "aPowerNumber = 2 ** 3\n",
    "aRemainder = 17 % 9\n",
    "aPowerNumber __ aRemainder"
   ]
  },
  {
   "cell_type": "markdown",
   "metadata": {},
   "source": [
    "## 2.1. Blockly Loops\n",
    "\n",
    "Loops are like conditionals, but help us run code *OVER and OVER and OVER and ...* \n",
    "\n",
    "We keep *looping* as long as the COMPARISON TEST is `True`.\n",
    "\n",
    "Code that is *indented* after the while loop are run each time.\n",
    "\n",
    "*Activities:*\n",
    "\n",
    "a. Try to create the simple loop below. What does it do?\n",
    "\n",
    "<img src=\"images/BlocklyLoopsExample.jpg\">\n",
    "\n",
    "b. Can you change the code so that the output prints numbers from 1 to 10?\n",
    "\n",
    "c. Can you change the code so that the output prints numbers from 314 to 330?\n",
    "\n",
    "d. Can you change the code so that the output prints ODD numbers from 1 to 20?\n",
    "\n",
    "e. Can you change the code so that the output prints numbers BACKWARDS from 5 to 1"
   ]
  },
  {
   "cell_type": "code",
   "execution_count": null,
   "metadata": {
    "scrolled": false
   },
   "outputs": [],
   "source": [
    "from IPython.display import Javascript, IFrame\n",
    "IFrame('blocks/6-1.html', 900, 800)"
   ]
  },
  {
   "cell_type": "markdown",
   "metadata": {},
   "source": [
    "## 2.2. Python Loops\n",
    "\n",
    "Here is one form of a Python loop:\n",
    "\n",
    "while COMPARISON :\n",
    "\n",
    "    run_this_code\n",
    "    and_run_this_code\n",
    "    \n",
    "We keep *looping* as long as the COMPARISON test is `True`.\n",
    "\n",
    "Code that is `indented` after the `while` loop are run each time.\n",
    "\n"
   ]
  },
  {
   "cell_type": "code",
   "execution_count": null,
   "metadata": {
    "scrolled": true
   },
   "outputs": [],
   "source": [
    "# DEBUG ME: (Hint: There are THREE bugs!)\n",
    "count = 4\n",
    "\n",
    "while count >= 0 \n",
    "print (count)\n",
    "count = count - 1"
   ]
  },
  {
   "cell_type": "markdown",
   "metadata": {},
   "source": [
    "*Activities:*\n",
    "\n",
    "a. Run the code below. What does it do?\n",
    "\n",
    "b. Can you change the code so that the output prints numbers from 1 to 10?\n",
    "\n",
    "c. Can you change the code so that the output prints numbers from 314 to 330?\n",
    "\n",
    "d. Can you change the code so that the output prints ODD numbers from 1 to 20?\n",
    "\n",
    "e. Can you change the code so that the output prints numbers BACKWARDS from 5 to 1"
   ]
  },
  {
   "cell_type": "code",
   "execution_count": null,
   "metadata": {
    "scrolled": true
   },
   "outputs": [],
   "source": [
    "# RUN ME:\n",
    "number = 1\n",
    "while number <= 3:\n",
    "    print (number)\n",
    "    number = number + 1"
   ]
  },
  {
   "cell_type": "markdown",
   "metadata": {},
   "source": [
    "# 3. Loop Challenges\n",
    "\n",
    "Loops are a super powerful tool used in all apps and games. Try some of these challenges: \n",
    "\n",
    "a. Fill-in-the-blanks to print the numbers 1 to 50:"
   ]
  },
  {
   "cell_type": "code",
   "execution_count": null,
   "metadata": {
    "scrolled": true
   },
   "outputs": [],
   "source": [
    "# Give the counter a starting point:\n",
    "counter = ___\n",
    "\n",
    "# Loops while the counter is <= 50:\n",
    "while _____ <= ____ __\n",
    "    print (counter)\n",
    "    # Remember to increase counter by 1 each loop:\n",
    "    counter = counter _ __"
   ]
  },
  {
   "cell_type": "markdown",
   "metadata": {},
   "source": [
    "b. Fill-in-the-blanks to print the numbers 5 to 100:"
   ]
  },
  {
   "cell_type": "code",
   "execution_count": null,
   "metadata": {},
   "outputs": [],
   "source": [
    "# Start from 5:\n",
    "counter = ___\n",
    "\n",
    "# Count up to 100, increasing counter by 1 each loop:\n",
    "while _____ <= ____ __\n",
    "    print (counter)\n",
    "    counter = _____ _ _"
   ]
  },
  {
   "cell_type": "markdown",
   "metadata": {},
   "source": [
    "c. Print the numbers 10 to 150, incrementing by 5."
   ]
  },
  {
   "cell_type": "code",
   "execution_count": null,
   "metadata": {},
   "outputs": [],
   "source": [
    "# Create a counter:\n",
    "_______ _ __\n",
    "\n",
    "# Create a while loop:\n",
    "_____ _______ <= ___ :\n",
    "    # Print the value of counter:\n",
    "    print(_______)\n",
    "    # Make counter go up by 5 each loop:\n",
    "    counter = _______ _ _"
   ]
  },
  {
   "cell_type": "markdown",
   "metadata": {},
   "source": [
    "d. Code your OWN loop to print 10 to 30."
   ]
  },
  {
   "cell_type": "code",
   "execution_count": null,
   "metadata": {
    "scrolled": true
   },
   "outputs": [],
   "source": [
    "# Create a counter that starts at 10, and a while loop to count up to 30:\n"
   ]
  },
  {
   "cell_type": "markdown",
   "metadata": {},
   "source": [
    "e. Print multiples of 7 from 0 to 100:"
   ]
  },
  {
   "cell_type": "code",
   "execution_count": null,
   "metadata": {
    "scrolled": true
   },
   "outputs": [],
   "source": [
    "# Hint: if number % 7 == 0, then it's a multiple of 7.\n",
    "number = 0\n",
    "\n",
    "while number <= 100:\n",
    "    if (number _ __ == __):\n",
    "        print(number)\n",
    "        \n",
    "    number = number + 1"
   ]
  },
  {
   "cell_type": "markdown",
   "metadata": {},
   "source": [
    "f. Fill-in-blank to print all numbers divisible by 9 between 1 to 100:"
   ]
  },
  {
   "cell_type": "code",
   "execution_count": null,
   "metadata": {
    "scrolled": true
   },
   "outputs": [],
   "source": [
    "# FILL IN THE BLANK: (Hint: It's similar to question e above)\n",
    "number = 1\n",
    "\n",
    "while ____ __ ___ __\n",
    "    if _____ __ ___ :\n",
    "        print (number)\n",
    "    \n",
    "    number = number + 1"
   ]
  },
  {
   "cell_type": "markdown",
   "metadata": {},
   "source": [
    "g. Code a waiting game: (Fill in 3 blanks with the correct variables)"
   ]
  },
  {
   "cell_type": "code",
   "execution_count": null,
   "metadata": {
    "scrolled": true
   },
   "outputs": [],
   "source": [
    "# Set up the variables:\n",
    "answer = \"y\"\n",
    "rounds = 1\n",
    "\n",
    "# Set up the loop (what variable is \"y\"? What variable counts the rounds?):\n",
    "while ______ == \"y\" :\n",
    "    answer = input(\"Do you want to play the waiting game? (y/n): \")\n",
    "    print(\"You've waited \" + str(______) + \" rounds.\")\n",
    "    ______ = rounds + 1"
   ]
  },
  {
   "cell_type": "markdown",
   "metadata": {},
   "source": [
    "h. Code a password-guessing game that uses an infinite loop (fill in the blanks!):"
   ]
  },
  {
   "cell_type": "code",
   "execution_count": null,
   "metadata": {},
   "outputs": [],
   "source": [
    "# Set up a password:\n",
    "password = \"_______\"\n",
    "\n",
    "while ____ :    # <--- Hint: How do we make an infinite loop that's always True?\n",
    "    guess = input(\"What's the password? \")\n",
    "    if guess == password :\n",
    "        print(\"__________________!\")\n",
    "        _____    # <--- Hint: How do we break out of a loop?\n",
    "    print(\"Nope! Try again.\")"
   ]
  },
  {
   "cell_type": "markdown",
   "metadata": {},
   "source": [
    "## 4 Extra Challenges\n",
    "\n",
    "### 4.1: The Fibonacci Sequence\n",
    "\n",
    "The fibonacci sequence is the SUM of the PREVIOUS TWO numbers.\n",
    "\n",
    "- The first numbers is **1**.\n",
    "- The next number is also **1**.\n",
    "- The next number is 1 *PLUS* 1, which is **2**.\n",
    "- The next number is 1 *PLUS* 2, which is **3**.\n",
    "- The next number is 2 *PLUS* 3, which is **5**.\n",
    "\n",
    "Check out this video to see it in action!\n",
    "\n",
    "[![Nature by Numbers](https://img.youtube.com/vi/kkGeOWYOFoA/0.jpg)](https://www.youtube.com/embed/kkGeOWYOFoA?start=14&end=26)\n",
    "\n",
    "The list of the numbers is called a *SEQUENCE*. Here is the first 16 numbers:\n",
    "\n",
    "<img src=\"images/fibonacci-example.png\" width=\"500\" style=\"\">"
   ]
  },
  {
   "cell_type": "markdown",
   "metadata": {},
   "source": [
    "<img src=\"images/fibonacci.png\" width=\"266\" style=\"float:right;\">    \n",
    "\n",
    "**CHALLENGE:** *Can you code a way to find the FIBONACCI numbers less than 200?*\n",
    "\n",
    "Here's a hint to get started:\n",
    "\n",
    "Put the first two numbers AND the sum into variables\n",
    "\n",
    "    N = 1\n",
    "    M = 1\n",
    "    sum = ...\n",
    "\n",
    "Next, make a loop that runs as long as N is less than 200\n",
    "\n",
    "    while N < 200:\n",
    "    \n",
    "Inside the loop, print the sum, and find **NEW values** for the variables\n",
    "\n",
    "    N = ?, M = ?, sum = ?"
   ]
  },
  {
   "cell_type": "code",
   "execution_count": null,
   "metadata": {
    "scrolled": true
   },
   "outputs": [],
   "source": [
    "# SOLVE ME: PRINT the FIBONACCI numbers smaller than 200\n",
    "\n",
    "# Start with two numbers, 1 and 1, find the sum\n",
    "N = _\n",
    "M = _ \n",
    "sum = _ + _\n",
    "\n",
    "# Print the sum, and find new values of N, M, and sum\n",
    "while sum < ___ :\n",
    "    print ( ___ )\n",
    "    N = _\n",
    "    M = ___\n",
    "    sum = _ + _"
   ]
  },
  {
   "cell_type": "markdown",
   "metadata": {},
   "source": [
    "### 4.2. Challenges with Really Big Numbers\n",
    "\n",
    "*Activities:*\n",
    "\n",
    "a. Code a loop to print 1 000 000 to 0 backwards by 5000's:\n",
    "\n",
    "    Example: \n",
    "    1000000 \n",
    "    995000\n",
    "    990000\n",
    "    985000\n",
    "    ...\n",
    "    ...\n",
    "    ...\n",
    "    0"
   ]
  },
  {
   "cell_type": "code",
   "execution_count": null,
   "metadata": {
    "scrolled": true
   },
   "outputs": [],
   "source": [
    "# CODE your own loop:\n"
   ]
  },
  {
   "cell_type": "markdown",
   "metadata": {},
   "source": [
    "b. Code a loop to print the SQUARES (a number to the POWER of 2) from 1 to 500:\n",
    "\n",
    "    Example:\n",
    "    1\n",
    "    4\n",
    "    9\n",
    "    16\n",
    "    25"
   ]
  },
  {
   "cell_type": "code",
   "execution_count": null,
   "metadata": {
    "scrolled": true
   },
   "outputs": [],
   "source": [
    "# CODE your own loop:\n"
   ]
  },
  {
   "cell_type": "markdown",
   "metadata": {},
   "source": [
    "c. Code a loop to print the EXPONENTIAL series of 2. This is 2 to the power 1, then to the power 2, then to the power 3, etc.:\n",
    "    \n",
    "    Example:\n",
    "    2\n",
    "    4\n",
    "    8\n",
    "    16\n",
    "    32"
   ]
  },
  {
   "cell_type": "code",
   "execution_count": null,
   "metadata": {
    "scrolled": true
   },
   "outputs": [],
   "source": [
    "# CODE your own loop:\n"
   ]
  },
  {
   "cell_type": "markdown",
   "metadata": {},
   "source": [
    "Final challenge: Can you make the exponential series go up to 10000000000000000000000000000000000000000?"
   ]
  }
 ],
 "metadata": {
  "kernelspec": {
   "display_name": "Python 3 (ipykernel)",
   "language": "python",
   "name": "python3"
  },
  "language_info": {
   "codemirror_mode": {
    "name": "ipython",
    "version": 3
   },
   "file_extension": ".py",
   "mimetype": "text/x-python",
   "name": "python",
   "nbconvert_exporter": "python",
   "pygments_lexer": "ipython3",
   "version": "3.9.6"
  }
 },
 "nbformat": 4,
 "nbformat_minor": 2
}
