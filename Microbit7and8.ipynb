{
 "cells": [
  {
   "cell_type": "markdown",
   "id": "45bd8af7",
   "metadata": {},
   "source": [
    "# Micro:bits Lesson 7 and 8\n",
    "\n",
    "<img align=right style=\"float:right;margin-left:100px;margin-right:100px;\" width=\"400\" src=\"https://learn.discovercoding.ca/jupyter/MicrobitImages/MicrobitBanner.png\">\n",
    "\n",
    "We will create with Python a:\n",
    " - Music Player that plays different songs\n",
    "    \n",
    "Student learning outcomes: \n",
    " - I can use *events* and *loops* in my code\n",
    " - I can use `random` in my code\n",
    " - I can use `if`, `elif,` and `else` *conditionals* in my code \n",
    " - *Extra: I can connect headphones to my hardware to transfer sound*\n"
   ]
  },
  {
   "cell_type": "markdown",
   "id": "d4b9b04d",
   "metadata": {},
   "source": [
    "# 1. Review of Micro:bits\n",
    "\n",
    "<img align=right style=\"float:right;margin-left:100px; margin-right:100px;\" width=\"200\" src=\"https://learn.discovercoding.ca/jupyter/MicrobitImages/PersonWithMicrobit.png\">\n",
    "\n",
    "The BBC micro:bit is a pocket-sized computer that introduces you to how software and hardware work together. It has an LED light display, buttons, sensors and many input/output features that, when programmed, let it interact with you and your world.\n"
   ]
  },
  {
   "cell_type": "markdown",
   "id": "33436701",
   "metadata": {},
   "source": [
    "# 2. Music Player Project\n",
    "<img align=right style=\"float:right;margin-left:100px;margin-right:100px;\" width=\"200\" src=\"https://learn.discovercoding.ca/jupyter/MicrobitImages/AppleIpodGen6.png\">\n",
    "\n",
    "You now know how to program a song, now add your songs onto a playlist! \n",
    "\n",
    "Time to create a music player to play all the songs you've created.\n",
    "\n",
    "*Pop Quiz: What is the name of this 2007 Apple music player shown on the right?*\n"
   ]
  },
  {
   "cell_type": "markdown",
   "id": "90b6ec81",
   "metadata": {},
   "source": [
    "## Step 1\n",
    "\n",
    "<img align=right style=\"float:right;margin-left:100px;margin-right:100px;\" width=\"200\" src=\"https://learn.discovercoding.ca/jupyter/MicrobitImages/NewProject.png\">\n",
    "\n",
    "Click on **New Project** on [MakeCode](https://makecode.microbit.org/)\n",
    "\n",
    "*Remember to code in \"Python\"!*\n"
   ]
  },
  {
   "cell_type": "markdown",
   "id": "5f8c78eb",
   "metadata": {},
   "source": [
    "## STEP 2: \n",
    "\n",
    "Create a list called `songList`.\n",
    "\n",
    "Add 4 built-in Micro:bit songs into the list: \n",
    "- Power Up\n",
    "- Nyan\n",
    "- Entertainer\n",
    "- Funk\n",
    "\n",
    "<img  align=left width=\"600\" src=\"https://learn.discovercoding.ca/jupyter/MicrobitImages/MusicPlayerStep2.png\">"
   ]
  },
  {
   "cell_type": "markdown",
   "id": "d314ac99",
   "metadata": {},
   "source": [
    "## STEP 3: \n",
    "\n",
    "Add another list called `songNameList`.\n",
    "\n",
    "In the same order as your songList, add the 4 Micro:bit song name strings into the list: \n",
    "- \"Power Up\"\n",
    "- \"Nyan\"\n",
    "- \"Entertainer\"\n",
    "- \"Funk\"\n",
    "\n",
    "Initialize a variable called `currentSongIndex` to 0.\n",
    "\n",
    "<img  align=left width=\"600\" src=\"https://learn.discovercoding.ca/jupyter/MicrobitImages/MusicPlayerStep3.png\">"
   ]
  },
  {
   "cell_type": "markdown",
   "id": "ea3e0cd7",
   "metadata": {},
   "source": [
    "## STEP 4: \n",
    "\n",
    "Create a function called `playCurrentSong`\n",
    "\n",
    "Code this function to:\n",
    "- Start playing the current song the index is set to\n",
    "- Display the name of the current song\n",
    "\n",
    "<img  align=left width=\"600\" src=\"https://learn.discovercoding.ca/jupyter/MicrobitImages/MusicPlayerStep4a.png\">"
   ]
  },
  {
   "cell_type": "markdown",
   "id": "524202c5",
   "metadata": {},
   "source": [
    "## STEP 5: \n",
    "\n",
    "Create a function called `stopSong`\n",
    "\n",
    "Code this function to:\n",
    "- Stop sounds\n",
    "\n",
    "<img  align=left width=\"600\" src=\"https://learn.discovercoding.ca/jupyter/MicrobitImages/MusicPlayerStep4.png\">"
   ]
  },
  {
   "cell_type": "markdown",
   "id": "5f26bc4f",
   "metadata": {},
   "source": [
    "## STEP 6: \n",
    "\n",
    "Create a function called `switchSong`\n",
    "\n",
    "Code this function to:\n",
    "- Access the global `currentSongIndex` variable\n",
    "- Change the (`currentSongIndex` by 1) % `len`(`songList`)\n",
    "\n",
    "<img  align=left width=\"600\" src=\"MicrobitImages/MusicPlayerStep6b.png\">"
   ]
  },
  {
   "cell_type": "markdown",
   "id": "e95654a3",
   "metadata": {},
   "source": [
    "## STEP 7: \n",
    "\n",
    "Create a function called `shuffle`\n",
    "\n",
    "Code this function to:\n",
    "- Access the global `currentSongIndex` variable\n",
    "- Clear the screen\n",
    "- Change the `currentSongIndex` to a random index place within the `songList` length\n",
    "- Play the currently selected song\n",
    "\n",
    "<img  align=left width=\"600\" src=\"https://learn.discovercoding.ca/jupyter/MicrobitImages/MusicPlayerStep7.png\">"
   ]
  },
  {
   "cell_type": "markdown",
   "id": "af82e760",
   "metadata": {},
   "source": [
    "## STEP 8: \n",
    "\n",
    "Set up your events:\n",
    "- Press `Button A` to switch the song\n",
    "- Press `Button B` to play the current song\n",
    "- Press `Button A` AND `Button B` to stop the song\n",
    "- Shake the Micro:bit to shuffle the song\n",
    "\n",
    "<img  align=left width=\"600\" src=\"https://learn.discovercoding.ca/jupyter/MicrobitImages/MusicPlayerStep8.png\">"
   ]
  },
  {
   "cell_type": "markdown",
   "id": "150c4ac8",
   "metadata": {},
   "source": [
    "## STEP 9: \n",
    "\n",
    "Connect your Microbit using alligator clips to your headphones: \n",
    "- Clip the **tip** of the headphone plug to `pin 0` on micro:bit. \n",
    "- Clip the **longer length** of the headphone plug to the `GND pin` on micro:bit.\n",
    "\n",
    "\n",
    "The gold pins on the bottom of the micro:bit are used for inputs and outputs. \n",
    "\n",
    "Here we use pin 0 as an output. The micro:bit sends pulses of electrical signals from pin 0 when it plays the tune. \n",
    "\n",
    "The headphones must also be connected to the GND pin on the micro:bit to complete the electrical circuit.\n",
    "\n",
    "<img  align=left width=\"600\" src=\"https://learn.discovercoding.ca/jupyter/MicrobitImages/connectheadphonesmicrobit.png\">\n"
   ]
  },
  {
   "cell_type": "markdown",
   "id": "1490cc7b",
   "metadata": {},
   "source": [
    "## STEP 10: \n",
    "\n",
    "<img align=right style=\"float:right;margin-left:100px;margin-right:100px;\" width=\"200\" src=\"https://learn.discovercoding.ca/jupyter/MicrobitImages/inthezonedancing.gif\">\n",
    "\n",
    "Congrats! You have now made your very own Music Player!\n",
    "\n",
    "Now time to jam to your tunes!\n",
    "\n",
    "**Extra challenges:**\n",
    "- Add more music to your playlist from the Micro:bit's [premade melodies](https://microbit-micropython.readthedocs.io/en/latest/tutorials/music.html)\n",
    "- Create your own music to add to the play list\n",
    "\n",
    "<img  align=left width=\"600\" src=\"https://learn.discovercoding.ca/jupyter/MicrobitImages/MusicPlayerStep8.png\">"
   ]
  }
 ],
 "metadata": {
  "kernelspec": {
   "display_name": "Python 3 (ipykernel)",
   "language": "python",
   "name": "python3"
  },
  "language_info": {
   "codemirror_mode": {
    "name": "ipython",
    "version": 3
   },
   "file_extension": ".py",
   "mimetype": "text/x-python",
   "name": "python",
   "nbconvert_exporter": "python",
   "pygments_lexer": "ipython3",
   "version": "3.11.4"
  },
  "varInspector": {
   "cols": {
    "lenName": 16,
    "lenType": 16,
    "lenVar": 40
   },
   "kernels_config": {
    "python": {
     "delete_cmd_postfix": "",
     "delete_cmd_prefix": "del ",
     "library": "var_list.py",
     "varRefreshCmd": "print(var_dic_list())"
    },
    "r": {
     "delete_cmd_postfix": ") ",
     "delete_cmd_prefix": "rm(",
     "library": "var_list.r",
     "varRefreshCmd": "cat(var_dic_list()) "
    }
   },
   "types_to_exclude": [
    "module",
    "function",
    "builtin_function_or_method",
    "instance",
    "_Feature"
   ],
   "window_display": false
  }
 },
 "nbformat": 4,
 "nbformat_minor": 5
}
