{
 "cells": [
  {
   "cell_type": "markdown",
   "metadata": {},
   "source": [
    "**<span style=\"color:red\">IMPORTANT! RUN THIS CODE BLOCK FIRST!</span>**"
   ]
  },
  {
   "cell_type": "code",
   "execution_count": null,
   "metadata": {},
   "outputs": [],
   "source": [
    "from setup import setup_lesson\n",
    "setup_lesson.setup_Lesson5()"
   ]
  },
  {
   "cell_type": "markdown",
   "metadata": {},
   "source": [
    "<img style=\"float:right;margin-left:50px;margin-right:50px;\" width=\"300\" src=\"images/discovercoding.png\">\n",
    "\n",
    "# Discover Python with Callysto\n",
    "Lesson created and taught by [Discover Coding](https://discovercoding.ca).\n",
    "\n",
    "With support and funding from [Callysto](https://callysto.ca/) and the [Pacific Institute for Mathematical Sciences](https://www.pims.math.ca/)\n",
    "\n",
    "# Lesson 5: Loops Continued\n",
    "\n",
    "This lesson will explore more:\n",
    "- REVIEW: comparisons, Loops and conditionals\n",
    "- loop challenges\n"
   ]
  },
  {
   "cell_type": "markdown",
   "metadata": {},
   "source": [
    "# 1. Review\n"
   ]
  },
  {
   "cell_type": "markdown",
   "metadata": {},
   "source": [
    "## 1.1 Math Operations\n",
    "\n",
    "Now, let's try some more interesting math operations:\n",
    "\n",
    "    Operation        What it does                                     Operator symbol\n",
    "    --------------   -----------------------------------------------  --------------\n",
    "    ADDITION         Add                                              +\n",
    "    SUBTRACT         Subtract                                         -\n",
    "    MULTIPLY         Multiplication                                   *\n",
    "    DIVIDE           Division                                         /\n",
    "    MODULO           Find the remainder                               %\n",
    "    FLOOR DIVISION   Divide and round down to the lower whole number  //\n",
    "    POWER            Multiply by the same number many times           **\n",
    "    \n",
    "*Activities:* \n",
    "\n",
    "a. Run code below to find the remainder of number divided by 7\n",
    "\n",
    "b. Change value of number and run code.\n",
    "\n",
    "c. How can you tell if a number is divisible by 7? What is the output?"
   ]
  },
  {
   "cell_type": "code",
   "execution_count": null,
   "metadata": {},
   "outputs": [],
   "source": [
    "# RUN ME: What is the remainder of number/7\n",
    "number = 36\n",
    "number % 7"
   ]
  },
  {
   "cell_type": "markdown",
   "metadata": {},
   "source": [
    "## 1.2 Comparisons\n",
    "\n",
    "Recall that Python *compare* numbers and tell us if a *statement* is TRUE or FALSE. We use the following operators to create *BOOLEAN expressions*.\n",
    "\n",
    "    Equal:         ==\n",
    "    Not equal:     !=\n",
    "    Less than:     <\n",
    "    Greater than:  >\n",
    "    Less than, or equal to:    <=\n",
    "    Greater than, or equal to: >=\n",
    "\n",
    "*Activities:*  Let's try a couple of comparisons using math operations.\n",
    "\n",
    "a. Is `number` less than 5? Try changing value of `number` and run code."
   ]
  },
  {
   "cell_type": "code",
   "execution_count": null,
   "metadata": {},
   "outputs": [],
   "source": [
    "# RUN ME: \n",
    "number = 1\n",
    "number < 5"
   ]
  },
  {
   "cell_type": "markdown",
   "metadata": {},
   "source": [
    "b. A number is divisible by 7 if the remainder is 0. Is `number` divisible by 7? Try change value of `number` and run code."
   ]
  },
  {
   "cell_type": "code",
   "execution_count": null,
   "metadata": {},
   "outputs": [],
   "source": [
    "# RUN ME: divide by 7, is it divisible by 7?\n",
    "number = 36\n",
    "(number % 7) == 0"
   ]
  },
  {
   "cell_type": "markdown",
   "metadata": {},
   "source": [
    "c. Check if `number` is NOT divisible by 7."
   ]
  },
  {
   "cell_type": "code",
   "execution_count": null,
   "metadata": {},
   "outputs": [],
   "source": [
    "# FILL IN THE BLANK\n",
    "number = 40\n",
    "(number__7) __ 0"
   ]
  },
  {
   "cell_type": "markdown",
   "metadata": {},
   "source": [
    "d. Let's compare your grade to the averge using variables and comparisons."
   ]
  },
  {
   "cell_type": "code",
   "execution_count": null,
   "metadata": {},
   "outputs": [],
   "source": [
    "# FILL IN THE BLANK: Check if myGrade is greater than or equal to average\n",
    "myGrade = (17/20) * 100\n",
    "average = 75\n",
    "myGrade ___ average"
   ]
  },
  {
   "cell_type": "markdown",
   "metadata": {},
   "source": [
    "e. EXTRA CHALLENGE: Let's try something more advanced now. Let's use advanced operators and compare values in two variables. Is 2 to the power of 3 EQUAL TO 17 modulo 9?"
   ]
  },
  {
   "cell_type": "code",
   "execution_count": null,
   "metadata": {},
   "outputs": [],
   "source": [
    "# FILL IN THE BLANK:\n",
    "aPowerNumber = 2 ** 3\n",
    "aRemainder = 17 % 9\n",
    "aPowerNumber __ aRemainder"
   ]
  },
  {
   "cell_type": "markdown",
   "metadata": {},
   "source": [
    "## 1.3. Blockly Loops\n",
    "\n",
    "Loops are like conditionals, but help us run code *OVER and OVER and OVER and ...* \n",
    "\n",
    "We keep *looping* as long as the COMPARISON TEST is `True`.\n",
    "\n",
    "Code that is *indented* after the while loop are run each time.\n",
    "\n",
    "*Activities:*\n",
    "\n",
    "a. Try to create the simple loop below. What does it do?\n",
    "\n",
    "<img src=\"images/BlocklyLoopsExample.jpg\">\n",
    "\n",
    "b. Can you change the code so that the output prints numbers from 1 to 10?\n",
    "\n",
    "c. Can you change the code so that the output prints numbers from 314 to 330?\n",
    "\n",
    "d. Can you change the code so that the output prints ODD numbers from 1 to 20?\n",
    "\n",
    "e. Can you change the code so that the output prints numbers BACKWARDS from 5 to 1"
   ]
  },
  {
   "cell_type": "code",
   "execution_count": null,
   "metadata": {},
   "outputs": [],
   "source": [
    "from IPython.display import Javascript, IFrame\n",
    "IFrame('blocks/5-1.html', 900, 700)"
   ]
  },
  {
   "cell_type": "markdown",
   "metadata": {},
   "source": [
    "## 1.4. Python Loops\n",
    "\n",
    "Here is one form of a Python loop:\n",
    "\n",
    "while COMPARISON :\n",
    "\n",
    "    run_this_code\n",
    "    and_run_this_code\n",
    "    \n",
    "We keep *looping* as long as the COMPARISON test is `True`.\n",
    "\n",
    "Code that is *indented* after the while loop are run each time.\n",
    "\n"
   ]
  },
  {
   "cell_type": "code",
   "execution_count": null,
   "metadata": {},
   "outputs": [],
   "source": [
    "# DEBUG ME\n",
    "count = 4\n",
    "\n",
    "while count >= 0 \n",
    "print (count)\n",
    "count = count - 1"
   ]
  },
  {
   "cell_type": "markdown",
   "metadata": {},
   "source": [
    "*Activities:*\n",
    "\n",
    "a. Run the code below. What does it do?\n",
    "\n",
    "b. Can you change the code so that the output prints numbers from 1 to 10?\n",
    "\n",
    "c. Can you change the code so that the output prints numbers from 314 to 330?\n",
    "\n",
    "d. Can you change the code so that the output prints ODD numbers from 1 to 20?\n",
    "\n",
    "e. Can you change the code so that the output prints numbers BACKWARDS from 5 to 1"
   ]
  },
  {
   "cell_type": "code",
   "execution_count": null,
   "metadata": {},
   "outputs": [],
   "source": [
    "# RUN ME:\n",
    "number = 1\n",
    "while number <= 3:\n",
    "    print (number)\n",
    "    aNumber = number + 1"
   ]
  },
  {
   "cell_type": "markdown",
   "metadata": {},
   "source": [
    "# 2. Loop Challenges\n",
    "\n",
    "Loops are a super powerful tool used in all apps and games. Try some of these challenges to get the \n",
    "\n",
    "a. Fill-in-the-blanks to print the numbers 1 to 50.\n",
    "\n",
    "b. Change the code to print the numbers 5 to 100.\n",
    "\n",
    "c. Change the code to print the numbers 10 to 150, incrementing by 5."
   ]
  },
  {
   "cell_type": "code",
   "execution_count": null,
   "metadata": {},
   "outputs": [],
   "source": [
    "# Give the counter a starting point\n",
    "counter = ___\n",
    "\n",
    "# Paste your code here to run\n",
    "while _____ <= ____ __\n",
    "    print (counter)\n",
    "    counter = _____ __ ___\n"
   ]
  },
  {
   "cell_type": "markdown",
   "metadata": {},
   "source": [
    "d. Code your OWN loop to print 10 to 30."
   ]
  },
  {
   "cell_type": "code",
   "execution_count": null,
   "metadata": {},
   "outputs": [],
   "source": [
    "# CODE your own loop\n"
   ]
  },
  {
   "cell_type": "markdown",
   "metadata": {},
   "source": [
    "e. Code your own loop to print multiples of 6 from 0 to 100."
   ]
  },
  {
   "cell_type": "code",
   "execution_count": null,
   "metadata": {},
   "outputs": [],
   "source": [
    "# CODE your own loop\n"
   ]
  },
  {
   "cell_type": "markdown",
   "metadata": {},
   "source": [
    "f. Fill-in-blank to print all numbers divisible by 7 between 1 to 100. \n",
    "\n",
    "Reminder:\n",
    "\n",
    "\n",
    "if COMPARISON :\n",
    "\n",
    "    run_this_code\n",
    "    "
   ]
  },
  {
   "cell_type": "code",
   "execution_count": null,
   "metadata": {},
   "outputs": [],
   "source": [
    "# FILL IN THE BLANK\n",
    "number = 1\n",
    "\n",
    "while ____ __ ___ __\n",
    "    if _____ __ ___ :\n",
    "        print (number)\n",
    "    \n",
    "    number = number + 1"
   ]
  },
  {
   "cell_type": "markdown",
   "metadata": {},
   "source": [
    "g. Create your OWN sequence using loops. "
   ]
  },
  {
   "cell_type": "code",
   "execution_count": null,
   "metadata": {},
   "outputs": [],
   "source": [
    "# CODE your own loop\n"
   ]
  },
  {
   "cell_type": "markdown",
   "metadata": {},
   "source": [
    "## 3. FIBONACCI SEQUENCE\n",
    "\n",
    "The fibonacci sequence is the SUM of the PREVIOUS TWO numbers.\n",
    "\n",
    "- The first numbers is **1**.\n",
    "- The next number is also **1**.\n",
    "- The next number is 1 *PLUS* 1, which is **2**.\n",
    "- The next number is 1 *PLUS* 2, which is **3**.\n",
    "- The next number is 2 *PLUS* 3, which is **5**.\n",
    "\n",
    "Check out this video to see it in action!\n",
    "\n",
    "[![Nature by Numbers](https://img.youtube.com/vi/kkGeOWYOFoA/0.jpg)](https://www.youtube.com/embed/kkGeOWYOFoA?start=14&end=26)\n",
    "\n",
    "The list of the numbers is called a *SEQUENCE*. Here is the first 16 numbers:\n",
    "\n",
    "<img src=\"images/fibonacci-example.png\" width=\"500\" style=\"\">"
   ]
  },
  {
   "cell_type": "markdown",
   "metadata": {},
   "source": [
    "<img src=\"images/fibonacci.png\" width=\"266\" style=\"float:right;\">    \n",
    "\n",
    "**CHALLENGE:** *Can you code a way to find the FIBONACCI numbers less than 200?*\n",
    "\n",
    "Here's a hint to get started:\n",
    "\n",
    "Put the first two numbers AND the sum into variables\n",
    "\n",
    "    N = 1\n",
    "    M = 1\n",
    "    sum = ...\n",
    "\n",
    "Next, make a loop that runs as long as N is less than 200\n",
    "\n",
    "    while N < 200:\n",
    "    \n",
    "Inside the loop, print the sum, and find **NEW values** for the variables\n",
    "\n",
    "    N = ?, M = ?, sum = ?"
   ]
  },
  {
   "cell_type": "code",
   "execution_count": null,
   "metadata": {},
   "outputs": [],
   "source": [
    "# SOLVE ME: PRINT the FIBONACCI numbers smaller than 200\n",
    "\n",
    "# Start with two numbers, 1 and 1, find the sum\n",
    "N = _\n",
    "M = _ \n",
    "sum = _ + _\n",
    "\n",
    "# Print the sum, and find new values of N, M, and sum\n",
    "while sum < ___ :\n",
    "    print ( ___ )\n",
    "    N = _\n",
    "    M = ___\n",
    "    sum = _ + _"
   ]
  },
  {
   "cell_type": "markdown",
   "metadata": {},
   "source": [
    "# 4. EXTRA CHALLENGES: Loops\n",
    "\n",
    "*Activities:*\n",
    "\n",
    "a. Code a loop to print 1000 to 800 backwards by 20's.\n",
    "\n",
    "Example: \n",
    "    \n",
    "    1000 \n",
    "    \n",
    "    980\n",
    "    \n",
    "    960\n",
    "    \n",
    "    940\n",
    "    \n",
    "    .\n",
    "    .\n",
    "    .\n",
    "    800"
   ]
  },
  {
   "cell_type": "code",
   "execution_count": null,
   "metadata": {},
   "outputs": [],
   "source": [
    "# CODE your own loop\n"
   ]
  },
  {
   "cell_type": "markdown",
   "metadata": {},
   "source": [
    "b. Code a loop to print the SQUARES (a number to the POWER of 2) from 1 to 5.\n",
    "\n",
    "Example:\n",
    "1\n",
    "4\n",
    "9\n",
    "16\n",
    "25"
   ]
  },
  {
   "cell_type": "code",
   "execution_count": null,
   "metadata": {},
   "outputs": [],
   "source": [
    "# CODE your own loop\n"
   ]
  },
  {
   "cell_type": "markdown",
   "metadata": {},
   "source": [
    "c. Code a loop to print the EXPONENTIAL series of 2. This is 2 to the power 1, then to the power 2, then to the power 3, etc.\n",
    "    \n",
    "Example:\n",
    "2\n",
    "4\n",
    "8\n",
    "16\n",
    "32"
   ]
  },
  {
   "cell_type": "code",
   "execution_count": null,
   "metadata": {},
   "outputs": [],
   "source": [
    "# CODE your own loop\n"
   ]
  }
 ],
 "metadata": {
  "kernelspec": {
   "display_name": "Python 3 (ipykernel)",
   "language": "python",
   "name": "python3"
  },
  "language_info": {
   "codemirror_mode": {
    "name": "ipython",
    "version": 3
   },
   "file_extension": ".py",
   "mimetype": "text/x-python",
   "name": "python",
   "nbconvert_exporter": "python",
   "pygments_lexer": "ipython3",
   "version": "3.9.6"
  }
 },
 "nbformat": 4,
 "nbformat_minor": 2
}
