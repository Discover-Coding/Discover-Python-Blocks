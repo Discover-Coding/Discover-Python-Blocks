{
 "cells": [
  {
   "cell_type": "code",
   "execution_count": null,
   "metadata": {
    "scrolled": false
   },
   "outputs": [],
   "source": [
    "from setup import setup_lesson\n",
    "setup_lesson.setup_Lesson2()"
   ]
  },
  {
   "cell_type": "markdown",
   "metadata": {},
   "source": [
    "*Remember: Run the top block of code first! (It sets up the lesson)*\n",
    "\n",
    "# Discover Python with Callysto\n",
    "\n",
    "<img align=right style=\"float:right;margin-left:50px;margin-right:50px;\" width=\"300\" src=\"https://learn.discovercoding.ca/jupyter/images/discovercoding.png\">\n",
    "\n",
    "Lesson created and taught by [Discover Coding](https://discovercoding.ca).\n",
    "\n",
    "With support and funding from [Callysto](https://callysto.ca/) and the [Pacific Institute for Mathematical Sciences](https://www.pims.math.ca/)\n",
    "\n",
    "# Lesson 2: Variables and Conditionals\n",
    "\n",
    "In this lesson, we will explore:\n",
    "- 1. Review: print and math operations\n",
    "- 2. Variables\n",
    "- 3. User Inputs\n",
    "- 4. Comparisons\n",
    "- 5. Conditionals\n",
    "\n",
    "*Note: The **EXTRA CHALLENGES** below are designed for grades 7 to 9, but anyone can try them!*"
   ]
  },
  {
   "cell_type": "markdown",
   "metadata": {},
   "source": [
    "# 1. Review\n",
    "\n",
    "## 1.1. Print\n",
    "\n",
    "Use the `print()` function to display a string or a number. Everything in between the pair of quotation marks is a string.\n",
    "\n",
    "<img style=\"float:right;margin-left:50px;margin-right:50px;\" width=\"300\" src=\"https://learn.discovercoding.ca/jupyter/images/Print_Review.jpg\">"
   ]
  },
  {
   "cell_type": "code",
   "execution_count": null,
   "metadata": {
    "code_folding": [],
    "scrolled": false
   },
   "outputs": [],
   "source": [
    "# RUN ME:\n",
    "print(\"What is Pi?\")\n",
    "print(3.14159)"
   ]
  },
  {
   "cell_type": "code",
   "execution_count": null,
   "metadata": {
    "scrolled": false
   },
   "outputs": [],
   "source": [
    "# DEBUG ME:\n",
    "print(Can you find the problem\")"
   ]
  },
  {
   "cell_type": "markdown",
   "metadata": {},
   "source": [
    "Use `+` to JOIN strings and numbers. But remember to convert the number to a string using the function `str()`."
   ]
  },
  {
   "cell_type": "code",
   "execution_count": null,
   "metadata": {
    "scrolled": false
   },
   "outputs": [],
   "source": [
    "# RUN ME:\n",
    "print(\"The speed of light is \" + str(299792458) + \" metres per second.\")"
   ]
  },
  {
   "cell_type": "markdown",
   "metadata": {},
   "source": [
    "## 1.2. Math\n",
    "\n",
    "Number data types, such as *int* (integer) or *float* let us do math and calculations.\n",
    "\n",
    "We can use the following *OPERATORS* (i.e. *symbols*) to add, subtract, multiply, and divide numbers:\n",
    "\n",
    "    ADD:       +\n",
    "    SUBTRACT:  -\n",
    "    MULTIPLY:  *\n",
    "    DIVIDE:    /\n"
   ]
  },
  {
   "cell_type": "code",
   "execution_count": null,
   "metadata": {
    "scrolled": false
   },
   "outputs": [],
   "source": [
    "# RUN ME:\n",
    "print(4+2)\n",
    "print(10-0.5)\n",
    "print(50/5)"
   ]
  },
  {
   "cell_type": "markdown",
   "metadata": {},
   "source": [
    "<img align=right style=\"float:right;\" width=\"400px\" src=\"https://learn.discovercoding.ca/jupyter/images/variable.jpg\">\n",
    "\n",
    "# 2. Variables\n",
    "\n",
    "A **VARIABLE** is just *name* that holds a value, such as numbers (`integers` and `floats`) or strings (`text` in quotations `\" \"`).\n",
    "\n",
    "It's a just box you put text or numbers into!\n"
   ]
  },
  {
   "cell_type": "markdown",
   "metadata": {},
   "source": [
    "<img align=right style=\"float:right;margin-right:50px;\" width=\"400px\" src=\"https://learn.discovercoding.ca/jupyter/images/BlocklyVariables.jpg\">\n",
    "\n",
    "## 2.1. Blockly Variables\n",
    "\n",
    "a. `Run Code` to see how variables are used in Blockly.\n",
    "\n",
    "b. Try to change the string value. `Run Code`\n",
    "\n",
    "c. `Create variable` called *myNumber*, assign a number value and print it."
   ]
  },
  {
   "cell_type": "code",
   "execution_count": null,
   "metadata": {
    "scrolled": false
   },
   "outputs": [],
   "source": [
    "from IPython.display import Javascript, IFrame\n",
    "IFrame('https://learn.discovercoding.ca/jupyter/blocks/2-2.html', 900, 700)"
   ]
  },
  {
   "cell_type": "markdown",
   "metadata": {},
   "source": [
    "## 2.2 Python Variables\n",
    "\n",
    "A **variable** starts with a lower case letter and has no spaces. We assign a value to a variable with `=`.\n",
    "\n",
    "a. `Run` the code below to see how variables are created and printed.\n",
    "\n",
    "b. Change the variable values. `Run` the code again.\n",
    "\n",
    "c. Create your own variable and print it."
   ]
  },
  {
   "cell_type": "code",
   "execution_count": null,
   "metadata": {
    "code_folding": [],
    "scrolled": false
   },
   "outputs": [],
   "source": [
    "# RUN ME:\n",
    "mynumber = 10\n",
    "mystring = \"a secret message\"\n",
    "print(mynumber)\n",
    "print(mystring)"
   ]
  },
  {
   "cell_type": "markdown",
   "metadata": {},
   "source": [
    "d. **EXTRA CHALLENGE**: Use the `+` to join two things inside one variable:"
   ]
  },
  {
   "cell_type": "code",
   "execution_count": null,
   "metadata": {
    "code_folding": [],
    "scrolled": false
   },
   "outputs": [],
   "source": [
    "# CODE YOUR VARIABLE AND PRINT:\n",
    "__________ = ___ + ___\n",
    "print(__________)"
   ]
  },
  {
   "cell_type": "markdown",
   "metadata": {},
   "source": [
    "<img align=right style=\"float:left;margin-right:30px;\" width=\"350px\" src=\"https://learn.discovercoding.ca/jupyter/images/input.png\">\n",
    "\n",
    "# 3. Inputs\n",
    "So far, we've created **OUTPUT** with Python, and printed numbers and strings. \n",
    "\n",
    "**Q:** How can we get **INPUT** from a user into our program?\n",
    "\n",
    "**A:** We can use the `input()` function.\n",
    "\n",
    "Try running the program below. It'll ask you a question and you can enter your answer."
   ]
  },
  {
   "cell_type": "code",
   "execution_count": null,
   "metadata": {
    "scrolled": false
   },
   "outputs": [],
   "source": [
    "# RUN ME:\n",
    "name = input(\"What is your name? \")\n",
    "\n",
    "print(\"Hello, \" + name + \"!\")"
   ]
  },
  {
   "cell_type": "code",
   "execution_count": null,
   "metadata": {
    "scrolled": false
   },
   "outputs": [],
   "source": [
    "# RUN ME:\n",
    "age = input(\"How old are you? \")\n",
    "\n",
    "print(\"It's pretty cool that you can code at \" + age + \"years old! \\(^_^)/\")"
   ]
  },
  {
   "cell_type": "markdown",
   "metadata": {},
   "source": [
    "Create your own questions and response:"
   ]
  },
  {
   "cell_type": "code",
   "execution_count": null,
   "metadata": {
    "scrolled": false
   },
   "outputs": [],
   "source": [
    "# FILL IN THE BLANKS:\n",
    "_____ = input(\"______\")\n",
    "print(\"__\" + _____)"
   ]
  },
  {
   "cell_type": "markdown",
   "metadata": {},
   "source": [
    "<img align=right width=\"350px\" style=\"margin:50px\" src=\"https://learn.discovercoding.ca/jupyter/images/ComparisonTrueFalse.jpg\">\n",
    "\n",
    "# 4. Comparisons\n",
    "\n",
    "Another way to represent data is by using **booleans** to tell if a relationship is `True` or `False`.\n",
    "\n",
    "To help computers make decisions, we do *COMPARISONS* on numbers or strings and tell us if something is `True` or `False`. "
   ]
  },
  {
   "cell_type": "markdown",
   "metadata": {},
   "source": [
    "## 4.1. Blockly Comparisons\n",
    "\n",
    "<img width=\"300px\" style=\"margin:50px\" src=\"https://learn.discovercoding.ca/jupyter/images/BlocklyComparisons.jpg\">\n",
    "\n",
    "Blockly uses the following **Logic** operators to do comparisons:\n",
    "\n",
    "a. Predict the output, then `Run Code`.\n",
    "\n",
    "b. Try changing the values and operators to get different output.\n",
    "\n",
    "c. Create two of your own comparisons."
   ]
  },
  {
   "cell_type": "code",
   "execution_count": null,
   "metadata": {
    "scrolled": false
   },
   "outputs": [],
   "source": [
    "from IPython.display import Javascript, IFrame\n",
    "IFrame('https://learn.discovercoding.ca/jupyter/blocks/2-4.html', 900, 700)"
   ]
  },
  {
   "cell_type": "markdown",
   "metadata": {},
   "source": [
    "## 4.2. Python Comparisons\n",
    "\n",
    "Python uses the following comparison operators:\n",
    "\n",
    "    Is Equal:              ==\n",
    "    Not equal:             !=\n",
    "    Less than:             <\n",
    "    Greater than:          >\n",
    "    Less than or equal:    <=\n",
    "    Greater than or equal: >="
   ]
  },
  {
   "cell_type": "markdown",
   "metadata": {},
   "source": [
    "\n",
    "Python will tell us if these are `True` or `False`"
   ]
  },
  {
   "cell_type": "code",
   "execution_count": null,
   "metadata": {
    "scrolled": false
   },
   "outputs": [],
   "source": [
    "# RUN ME: (Is 5 less than 7?)\n",
    "5 < 7"
   ]
  },
  {
   "cell_type": "code",
   "execution_count": null,
   "metadata": {
    "scrolled": false
   },
   "outputs": [],
   "source": [
    "# RUN ME: (Is one-half (1/2) EQUAL TO two-quarters (2/4)?)\n",
    "1/2 == 2/4"
   ]
  },
  {
   "cell_type": "code",
   "execution_count": null,
   "metadata": {
    "scrolled": false
   },
   "outputs": [],
   "source": [
    "# SOLVE THIS: (Is two-thirds (2/3) greater than three-quarters (3/4)?)\n"
   ]
  },
  {
   "cell_type": "markdown",
   "metadata": {},
   "source": [
    "We can also use comparison on strings, but usually we only use EQUAL (`==`) or NOT EQUAL (`!=`)"
   ]
  },
  {
   "cell_type": "code",
   "execution_count": null,
   "metadata": {
    "scrolled": false
   },
   "outputs": [],
   "source": [
    "# RUN ME: (Is this True or False?)\n",
    "\"hello\" == \"HELLO\""
   ]
  },
  {
   "cell_type": "code",
   "execution_count": null,
   "metadata": {
    "scrolled": false
   },
   "outputs": [],
   "source": [
    "# RUN ME: (Is this True or False?)\n",
    "\"String One\" != \"A different string\""
   ]
  },
  {
   "cell_type": "markdown",
   "metadata": {},
   "source": [
    "<img align=right style=\"float:right;margin-left:30px;\" width=\"400px\" src=\"https://learn.discovercoding.ca/jupyter/images/simonsays1.JPG\">\n",
    "\n",
    "# 5. Conditionals\n",
    "\n",
    "CONDITIONALS are how programs make decisions. A conditional works like this:\n",
    "\n",
    "- If (`if`) a **COMPARISON** is `True`, then\n",
    "    - run some code; \n",
    "\n",
    "It's like playing **Simon Says** with the computer.\n",
    "\n",
    "Here is the most basic form of a comparison:\n",
    "\n",
    "    if COMPARISON :\n",
    "        run_this_code\n",
    "        and_run_this_code\n",
    "\n"
   ]
  },
  {
   "cell_type": "markdown",
   "metadata": {},
   "source": [
    "## 5.1. Blockly Conditionals\n",
    "\n",
    "To get on a bus you need $3.50 or more. Try this example of a condition that checks if you have enough bus fare to get on the bus.\n",
    "\n",
    "### 5.1.1 Activity 1: Bus Fare\n",
    "\n",
    "a. Create the following code, using the blocks in \"Logic\", \"Text\", and \"Variables\". Use the \"gear\" icon to add an \"else\" block to the \"if\" block.\n",
    "\n",
    "<img style=\"float:right;margin-left:30px;\" width=\"400px\" src=\"https://learn.discovercoding.ca/jupyter/images/BlocklyIfStatement.jpg\">\n",
    "\n",
    "b. Test your code by clicking `Run Code` -- what is the output?\n",
    "\n",
    "c. Try changing the value of `busFare`.\n"
   ]
  },
  {
   "cell_type": "code",
   "execution_count": null,
   "metadata": {
    "scrolled": false
   },
   "outputs": [],
   "source": [
    "from IPython.display import Javascript, IFrame\n",
    "IFrame('https://learn.discovercoding.ca/jupyter/blocks/2-5.html', 900, 800)"
   ]
  },
  {
   "cell_type": "markdown",
   "metadata": {},
   "source": [
    "### 5.1.2 Blockly Challenge:\n",
    "\n",
    "When the temperature is lower than -23 Degrees Celsuis, we get INDOOR RECESS! Create this conditional to check if the class should have indoor recess:"
   ]
  },
  {
   "cell_type": "code",
   "execution_count": null,
   "metadata": {
    "scrolled": false
   },
   "outputs": [],
   "source": [
    "from IPython.display import Javascript, IFrame\n",
    "IFrame('https://learn.discovercoding.ca/jupyter/blocks/2-5b.html', 900, 700)"
   ]
  },
  {
   "cell_type": "markdown",
   "metadata": {},
   "source": [
    "## 5.2. Python Conditionals\n",
    "\n",
    "<img align=right style=\"float:right;margin-left:30px;\" width=\"500px\" src=\"https://learn.discovercoding.ca/jupyter/images/ConditionalExample.jpg\">\n",
    "\n",
    "Here is the most basic form of a Python conditional:\n",
    "\n",
    "    if COMPARISON :\n",
    "        run_this_code\n",
    "        and_run_this_code\n",
    "        \n",
    "4 parts of a if-statement:\n",
    "\n",
    "1. Starts with `if`\n",
    "2. Has a `comparison`\n",
    "3. Has a `:`\n",
    "4. Has an `indent`  ( `four spaces` or a `tab` )\n",
    "\n",
    "\n",
    "Let's try running the conditionals below. For each one, try:\n",
    "\n",
    "1. Fill in a value for each variable.\n",
    "2. What happens when the comparison is true?\n",
    "3. What happens when the comparison is false?"
   ]
  },
  {
   "cell_type": "code",
   "execution_count": null,
   "metadata": {
    "scrolled": false
   },
   "outputs": [],
   "source": [
    "# RUN ME:\n",
    "coins = 33\n",
    "if coins == 50 :\n",
    "    print(\"a\")\n",
    "    print(\"b\")\n",
    "\n",
    "print(\"c\")"
   ]
  },
  {
   "cell_type": "markdown",
   "metadata": {},
   "source": [
    "a. To get on a bus you need $3.50 or more. Try this conditional to check if you have enough bus fare to get on the bus:"
   ]
  },
  {
   "cell_type": "code",
   "execution_count": null,
   "metadata": {
    "scrolled": false
   },
   "outputs": [],
   "source": [
    "# FILL IN THE BLANK: (set the value of the bus fare)\n",
    "\n",
    "bus_fare = ___\n",
    "if bus_fare == 3.50 :\n",
    "    print( \"Thanks for paying,\" )\n",
    "    print( \"come on the bus!\" )"
   ]
  },
  {
   "cell_type": "markdown",
   "metadata": {},
   "source": [
    "b. We get indoor recess if it's -23 or colder outside. Fill in the blanks to complete the conditional:"
   ]
  },
  {
   "cell_type": "code",
   "execution_count": null,
   "metadata": {
    "scrolled": false
   },
   "outputs": [],
   "source": [
    "# FILL IN THE BLANKS: (What word and what symbol is missing?)\n",
    "\n",
    "temperature = -25\n",
    "__ temperature < -23 __\n",
    "    print( \"Brrr. It's cold.\")\n",
    "    print( \"Indoor recess!\")"
   ]
  },
  {
   "cell_type": "markdown",
   "metadata": {},
   "source": [
    "c. When the battery level, on your cell phone, is less than 3 bars you have low batteries. Try to create this conditional to check if you need to charge your phone:"
   ]
  },
  {
   "cell_type": "code",
   "execution_count": null,
   "metadata": {
    "scrolled": false
   },
   "outputs": [],
   "source": [
    "# FILL IN THE BLANKS: (if the battery level is less then 3, charge your phone)\n",
    "\n",
    "battery = __\n",
    "__ battery __ 3 __\n",
    "    print( \"Charge your phone \")\n"
   ]
  },
  {
   "cell_type": "markdown",
   "metadata": {},
   "source": [
    "d. Sunday is the only day you can sleep in. Every other day, you must WAKE UP! Try to create this conditional to check if you need to wake up:"
   ]
  },
  {
   "cell_type": "code",
   "execution_count": null,
   "metadata": {
    "scrolled": false
   },
   "outputs": [],
   "source": [
    "# FILL IN THE LINE OF BLANKS:\n",
    "\n",
    "day = input(\"Enter in the day of the week: \")\n",
    "__ day __ \"Sunday\" __\n",
    "    print(\" WAKE UP! \")"
   ]
  },
  {
   "cell_type": "markdown",
   "metadata": {},
   "source": [
    "e. If the user enters in the correct password, then the door will open. Create this conditional check if the password is correct:"
   ]
  },
  {
   "cell_type": "code",
   "execution_count": null,
   "metadata": {
    "scrolled": false
   },
   "outputs": [],
   "source": [
    "# FILL IN THE LINE OF CODE:\n",
    "\n",
    "password = input(\"Enter your password: \")\n",
    "__ ________ == \"______\" __\n",
    "    print(\" Open Sesame! A door opens \")"
   ]
  },
  {
   "cell_type": "markdown",
   "metadata": {},
   "source": [
    "\n",
    "Well done!! In this lesson, you learned to use:\n",
    "\n",
    "  - **Variables** to store data\n",
    "\n",
    "  - **User Input** to get INPUT from a user to be used in a program\n",
    "    \n",
    "  - **Comparison operators** to compare two values in an expression that yields true or false\n",
    "    \n",
    "  - **if statements** to handle a decision, test or check"
   ]
  }
 ],
 "metadata": {
  "kernelspec": {
   "display_name": "Python 3 (ipykernel)",
   "language": "python",
   "name": "python3"
  },
  "language_info": {
   "codemirror_mode": {
    "name": "ipython",
    "version": 3
   },
   "file_extension": ".py",
   "mimetype": "text/x-python",
   "name": "python",
   "nbconvert_exporter": "python",
   "pygments_lexer": "ipython3",
   "version": "3.11.4"
  },
  "varInspector": {
   "cols": {
    "lenName": 16,
    "lenType": 16,
    "lenVar": 40
   },
   "kernels_config": {
    "python": {
     "delete_cmd_postfix": "",
     "delete_cmd_prefix": "del ",
     "library": "var_list.py",
     "varRefreshCmd": "print(var_dic_list())"
    },
    "r": {
     "delete_cmd_postfix": ") ",
     "delete_cmd_prefix": "rm(",
     "library": "var_list.r",
     "varRefreshCmd": "cat(var_dic_list()) "
    }
   },
   "types_to_exclude": [
    "module",
    "function",
    "builtin_function_or_method",
    "instance",
    "_Feature"
   ],
   "window_display": false
  }
 },
 "nbformat": 4,
 "nbformat_minor": 2
}
