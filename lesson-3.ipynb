{
 "cells": [
  {
   "cell_type": "code",
   "execution_count": null,
   "metadata": {},
   "outputs": [],
   "source": [
    "from setup import setup_lesson\n",
    "setup_lesson.setup_Lesson3()"
   ]
  },
  {
   "cell_type": "markdown",
   "metadata": {},
   "source": [
    "<img style=\"float:right;margin-left:50px;margin-right:50px;\" width=\"300\" src=\"images/discovercoding.png\">\n",
    "\n",
    "# Discover Python with Callysto\n",
    "Lesson created and taught by [Discover Coding](https://discovercoding.ca).\n",
    "\n",
    "With support and funding from [Callysto](https://callysto.ca/) and the [Pacific Institute for Mathematical Sciences](https://www.pims.math.ca/)\n",
    "\n",
    "# Lesson 3: More Conditionals\n",
    "\n",
    "This lesson will explore more:\n",
    "- REVIEW: variables, comparisons, if statements\n",
    "- if-else statements\n",
    "- if-elif-else statements\n"
   ]
  },
  {
   "cell_type": "markdown",
   "metadata": {},
   "source": [
    "# 1. Review\n",
    "\n",
    "## 1.1. Variables\n",
    "<img align=right style=\"float:right;\" width=\"500px\" src=\"images/variable.jpg\">\n",
    "\n",
    "A **VARIABLE** is just *name* that holds a value, such as numbers or strings (words in quotations \" \").\n",
    "\n",
    "It starts with a lower case letter and has no spaces.\n"
   ]
  },
  {
   "cell_type": "code",
   "execution_count": null,
   "metadata": {},
   "outputs": [],
   "source": [
    "# RUN ME:\n",
    "mynumber = 10\n",
    "mystring = \"a secret message\"\n",
    "print(mynumber)\n",
    "print(mystring)"
   ]
  },
  {
   "cell_type": "markdown",
   "metadata": {},
   "source": [
    "<img align=right style=\"float:right;\" width=\"250px\" src=\"images/BlocklyComparisons2.jpg\">\n",
    "\n",
    "## 1.2. Comparisons\n",
    "\n",
    "Python uses the following comparison operators:\n",
    "\n",
    "    Is Equal:              ==\n",
    "    Not equal:             !=\n",
    "    Less than:             <\n",
    "    Greater than:          >\n",
    "    Less than or equal:    <=\n",
    "    Greater than or equal: >="
   ]
  },
  {
   "cell_type": "code",
   "execution_count": null,
   "metadata": {},
   "outputs": [],
   "source": [
    "# RUN ME:\n",
    "\"hello\" == \"HELLO\""
   ]
  },
  {
   "cell_type": "code",
   "execution_count": null,
   "metadata": {},
   "outputs": [],
   "source": [
    "# RUN ME:\n",
    "10 < (10+2)"
   ]
  },
  {
   "cell_type": "markdown",
   "metadata": {},
   "source": [
    "## 1.3. Blockly Conditionals: If-statement\n",
    "\n",
    "<img align=right style=\"float:right;\" width=\"400px\" src=\"images/BlocklyIfStatement.jpg\">\n",
    "\n",
    "CONDITIONALS are how programs make decisions. \n",
    "\n",
    "Here is the most basic form of a comparison:\n",
    "\n",
    "    if COMPARISON :\n",
    "        run_this_code\n",
    "        and_run_this_code\n",
    "\n",
    "To get on a bus you need $3.50 or more. This if statement checks if you have enough bus fare to get on the bus.\n",
    "\n"
   ]
  },
  {
   "cell_type": "markdown",
   "metadata": {},
   "source": [
    "*ACTIVITY:* \n",
    "\n",
    "If the battery level is less than 3 bars, then print \"charge your phone.\" Try to create this conditional."
   ]
  },
  {
   "cell_type": "code",
   "execution_count": null,
   "metadata": {},
   "outputs": [],
   "source": [
    "from IPython.display import Javascript, IFrame\n",
    "IFrame('blocks/3-1.html', 900, 700)"
   ]
  },
  {
   "cell_type": "markdown",
   "metadata": {},
   "source": [
    "## 1.4. Python Conditionals: If-statement\n",
    "\n",
    "<img align=right style=\"float:right;\" width=\"600px\" src=\"images/ConditionalExample.jpg\">\n",
    "\n",
    "Here is the most basic form of a Python conditional:\n",
    "\n",
    "if COMPARISON :\n",
    "    run_this_code\n",
    "    and_run_this_code\n",
    "4 parts of a if-statement:\n",
    "\n",
    "1. Starts with `if`\n",
    "2. Has a COMPARISON\n",
    "3. Has a `:` COLON after the COMPARISON\n",
    "4. Has SPACES in front of the code that is part of the condition. If statement ends when there are no spaces before lines of code."
   ]
  },
  {
   "cell_type": "code",
   "execution_count": null,
   "metadata": {},
   "outputs": [],
   "source": [
    "# RUN ME:\n",
    "\n",
    "password = input(\"Enter your password: \")\n",
    "if password == \"qwerty\" :\n",
    "    print(\" Open Sesame! A door opens \")"
   ]
  },
  {
   "cell_type": "code",
   "execution_count": null,
   "metadata": {},
   "outputs": [],
   "source": [
    "# DEBUG ME:\n",
    "\n",
    "age = 25\n",
    "if age >= 18 \n",
    "print(\"You can vote!\")"
   ]
  },
  {
   "cell_type": "code",
   "execution_count": null,
   "metadata": {},
   "outputs": [],
   "source": [
    "# FILL IN THE BLANKS (test if a number is negative, positive or neither)\n",
    "\n",
    "myNumber = -6\n",
    "__ myNumber __ 0 __\n",
    "    print( \"This is a negative number \")\n",
    "    \n",
    "__ myNumber __ 0 __\n",
    "    print( \"This is a positive number \")"
   ]
  },
  {
   "cell_type": "markdown",
   "metadata": {},
   "source": [
    "## 2. Conditional: If-else Statement\n",
    "<img style=\"float:left;margin-right:30px;\" width=\"500px\" src=\"images/simonsays2.JPG\">\n",
    "\n",
    "So we know how to run some code *IF* the comparison is true. Now, let's run some different code when the comparison is *NOT* true. We will add an `else` block that works like this:\n",
    "\n",
    "- If (`if`) a **COMPARISON** is `True`, then run some code; \n",
    "- Otherwise (`else`), run other code *INSTEAD*\n",
    "\n",
    "\n"
   ]
  },
  {
   "cell_type": "markdown",
   "metadata": {},
   "source": [
    "## 2.1. Blockly Conditional: If-else Statement\n",
    "\n",
    "<img  width=\"700px\" src=\"images/howToCreateIfElseStatement.jpg\">\n",
    "\n",
    "*Activities:*\n",
    "\n",
    "<img align=right style=\"float:right;\" width=\"400px\" src=\"images/BlocklyIfElseExample.jpg\">\n",
    "\n",
    "a. If you are 18 or over you can vote. Try creating this conditional to check if you are 18 or over, then print \"You can vote!\". Otherwise, print \"You are not old enough to vote.\"\n"
   ]
  },
  {
   "cell_type": "code",
   "execution_count": null,
   "metadata": {},
   "outputs": [],
   "source": [
    "from IPython.display import Javascript, IFrame\n",
    "IFrame('blocks/3-1.html', 900, 700)"
   ]
  },
  {
   "cell_type": "markdown",
   "metadata": {},
   "source": [
    "b. If you have $3.50 or more bus fare, then print \"Thanks for paying, you may get on the bus.\" Otherwise, print \"Sorry, that is not enough.\"\n",
    "\n",
    "<img style=\"float:right;\" src=\"images/PythonIfElse.jpg\">\n"
   ]
  },
  {
   "cell_type": "code",
   "execution_count": null,
   "metadata": {},
   "outputs": [],
   "source": [
    "from IPython.display import Javascript, IFrame\n",
    "IFrame('blocks/3-1.html', 900, 700)"
   ]
  },
  {
   "cell_type": "markdown",
   "metadata": {},
   "source": [
    "## 2.2. Python Conditional: If-else Statement\n",
    "\n",
    "In Python, the conditional code looks like this:\n",
    "\n",
    "    if COMPARISON :\n",
    "        run_this_code\n",
    "        and_run_this_code\n",
    "        \n",
    "    else :\n",
    "        run_this_code_instead\n",
    "        this_code_too\n",
    "\n",
    "**Again, NOTICE** the COLONS at the end\n",
    "\n",
    "**Again, NOTICE** the SPACES in front of the code that is part of the `else`. The code that is grouped together with the same number of spaces in front is called a **code block**\n",
    "\n",
    "Let's try running these new conditionals. For each one, try:\n",
    "\n",
    "1. Fill in a value for each variable\n",
    "1. What happens when the comparison is true?\n",
    "1. *NOW* what happens when the comparison is false?\n"
   ]
  },
  {
   "cell_type": "code",
   "execution_count": null,
   "metadata": {},
   "outputs": [],
   "source": [
    "# FILL IN THE BLANK (set the value of the bus fare)\n",
    "\n",
    "bus_fare = ____\n",
    "if bus_fare == 3.50 :\n",
    "    print( \"Thanks for paying,\" )\n",
    "    print( \"come on the bus!\" )\n",
    "else :\n",
    "    print( \"That's not the EXACT amount...\" )"
   ]
  },
  {
   "cell_type": "code",
   "execution_count": null,
   "metadata": {},
   "outputs": [],
   "source": [
    "# DEBUG ME\n",
    "\n",
    "a = 5\n",
    "b = 8\n",
    "if a > b :\n",
    "    print (\"a is greater than b\")\n",
    "else\n",
    "print (\"a is less than or equal b\")"
   ]
  },
  {
   "cell_type": "code",
   "execution_count": null,
   "metadata": {},
   "outputs": [],
   "source": [
    "# FILL IN THE BLANK (What word and symbol is missing?)\n",
    "\n",
    "temperature = ____\n",
    "if temperature < -23 :\n",
    "    print( \"Brrr. It's cold.\")\n",
    "    print( \"Indoor recess!\")\n",
    "_____ __\n",
    "    print ( \"Go play outside!\" )"
   ]
  },
  {
   "cell_type": "code",
   "execution_count": null,
   "metadata": {},
   "outputs": [],
   "source": [
    "# FILL IN THE LINE OF CODE \n",
    "\n",
    "password = input(\"Enter your password: \")\n",
    "__ ________ == \"______\" __\n",
    "    print(\" Open Sesame! A door opens \")\n",
    "____ __\n",
    "    print(\" You cannot enter\")"
   ]
  },
  {
   "cell_type": "markdown",
   "metadata": {},
   "source": [
    "## 3. If-elif-else Statements\n",
    "\n",
    "<img style=\"float:right;margin-left:30px;\" width=\"500px\" src=\"images/simonsays3.JPG\">\n",
    "\n",
    "Great, we know how to do something if a comparison is `True` and when it's not. But what if we want to test more than one comparison? We can use an *else if* statement to add more comparisons. It works like this:\n",
    "\n",
    "- If (`if`) a **COMPARISON** is `True`\n",
    "    - then run some code\n",
    "- Or, if (`elif`) another **COMPARISON** is `True`\n",
    "    - run some other code *INSTEAD*\n",
    "- Otherwise (`else`)\n",
    "    - run a third piece of code *INSTEAD*\n",
    "\n"
   ]
  },
  {
   "cell_type": "markdown",
   "metadata": {},
   "source": [
    "## 3.1. Blockly Conditional: If - else if - else\n",
    "\n",
    "<img style=\"float:right;\" src=\"images/BlocklyHowToCreateIfElifElse.jpg\">\n",
    "\n",
    "\n",
    "*Activities:*\n",
    "\n",
    "a. Create a conditional to check if a number is negative, positive or neither:\n",
    "\n",
    "<img src=\"images/BlocklyIfElifElseExample.jpg\">\n"
   ]
  },
  {
   "cell_type": "code",
   "execution_count": null,
   "metadata": {},
   "outputs": [],
   "source": [
    "from IPython.display import Javascript, IFrame\n",
    "IFrame('blocks/3-1.html', 900, 700)"
   ]
  },
  {
   "cell_type": "markdown",
   "metadata": {},
   "source": [
    "b. Create a conditional to check if bus fare is the exact amount, too much or too little.\n",
    "\n",
    "   If `busFare` is $3.50,\n",
    "   \n",
    "      then print \"Thanks for paying! Come on the bus!\"\n",
    "   \n",
    "   Or if `busFare` is greater than $3.50,\n",
    "   \n",
    "      then print \"Too much.\"\n",
    "   \n",
    "   Otherwise,\n",
    "   \n",
    "      print \"Too little.\""
   ]
  },
  {
   "cell_type": "code",
   "execution_count": null,
   "metadata": {},
   "outputs": [],
   "source": [
    "from IPython.display import Javascript, IFrame\n",
    "IFrame('blocks/3-1.html', 900, 700)"
   ]
  },
  {
   "cell_type": "markdown",
   "metadata": {},
   "source": [
    "## 3.2. Python Conditional: If-elif-else Statement\n",
    "\n",
    "Python looks like this:\n",
    "\n",
    "    if COMPARISON1 :\n",
    "        run_this_code\n",
    "        and_run_this_code\n",
    "        \n",
    "    elif COMPARISON2 :\n",
    "        run_different_code\n",
    "        and_more_different_code\n",
    "        \n",
    "    else :\n",
    "        run_this_code_instead\n",
    "        this_code_too\n",
    "\n",
    "Let's try our conditionals again:"
   ]
  },
  {
   "cell_type": "code",
   "execution_count": null,
   "metadata": {},
   "outputs": [],
   "source": [
    "# FILL IN THE BLANK (set the value of the bus fare)\n",
    "bus_fare = ____\n",
    "if bus_fare == 3.50 :\n",
    "    print( \"Thanks for paying,\" )\n",
    "    print( \"come on the bus!\" )\n",
    "elif bus_fare > 3.50 :\n",
    "    print( \"You paid too much!\" )\n",
    "else :\n",
    "    print( \"You paid too little!\" )"
   ]
  },
  {
   "cell_type": "code",
   "execution_count": null,
   "metadata": {},
   "outputs": [],
   "source": [
    "# FILL IN THE BLANKS (what word and symbol is missing?)\n",
    "temperature = ____\n",
    "if temperature < -23 :\n",
    "    print( \"Brrr. It's cold.\")\n",
    "    print( \"Indoor recess!\")\n",
    "____ temperature > 30 __\n",
    "    print ( \"So hot. Let's go swimming.\")\n",
    "____ __\n",
    "    print ( \"Go play outside!\" )"
   ]
  },
  {
   "cell_type": "code",
   "execution_count": null,
   "metadata": {},
   "outputs": [],
   "source": [
    "# FILL IN THE BLANKS: Check for two different passwords.\n",
    "password = input(\"Enter your password: \")\n",
    "if password __ \"______\"\n",
    "    print(\" _______ \")\n",
    "elif password __ \"_______\"\n",
    "    print(\" _______ \")\n",
    "else\n",
    "    print(\" _______ \")"
   ]
  },
  {
   "cell_type": "markdown",
   "metadata": {},
   "source": [
    "# 4. Extra Challenge: More Conditionals\n",
    "\n",
    "a. Green traffic light means GO. Yellow traffic light means go SLOW. Red traffic light means STOP. Create conditionals to tell the AI driver what to do when the light changes to colours: green, yellow, red, or another colour."
   ]
  },
  {
   "cell_type": "code",
   "execution_count": null,
   "metadata": {},
   "outputs": [],
   "source": [
    "# FILL IN THE LINE OF CODE\n",
    "#   Add an *IF* statement so that you tell your driver what to do when they see a light\n",
    "light = input(\"Is the light green, yellow or red: \")\n",
    "if light == \"green\" :\n",
    "    print( \"GO\" )\n",
    "elif light ___ \"yellow\" __\n",
    "    print( \"SLOW\" )\n",
    "elif ________ == \"______\" __\n",
    "    print(\"STOP\")\n",
    "else :\n",
    "    print(\"That's not a traffic light colour!\")\n"
   ]
  },
  {
   "cell_type": "markdown",
   "metadata": {},
   "source": [
    "b. If you are 16 years old or more then you can start driving. Create a conditional to check if you are old enough to drive. Otherwise, calculate how many years until you can drive."
   ]
  },
  {
   "cell_type": "code",
   "execution_count": null,
   "metadata": {},
   "outputs": [],
   "source": [
    "# FILL IN THE LINE OF CODE\n",
    "#   Add an *IF* statement so you can tell the user if they are 16 or over, then they can drive\n",
    "age = ___ \n",
    "__ ________ __ \"______\" __\n",
    "    print(\" Yay, you can drive \")\n",
    "__  __\n",
    "    print(\" Sorry, but you have \" + (16-age) + \" years until you can drive.\" )"
   ]
  },
  {
   "cell_type": "markdown",
   "metadata": {},
   "source": [
    "c. Each day of the week, you have a different activity. Create a conditional to remind you what activity you have for the day.\n",
    "    \n",
    "    Monday:         swimming\n",
    "    Tuesday:        reading\n",
    "    Wednesday:      hockey\n",
    "    Thursday:       coding\n",
    "    Friday:         hockey\n",
    "    Saturday:       running\n",
    "    Sunday:         rest\n"
   ]
  },
  {
   "cell_type": "code",
   "execution_count": null,
   "metadata": {},
   "outputs": [],
   "source": [
    "# Complete the conditional\n",
    "day = input(\"Enter in the day of the week: \")\n",
    "if day == \"Monday\" :\n",
    "    print(\"swimming\")\n",
    "elif day == \"Tuesday\" :\n",
    "    print(\"reading\")\n"
   ]
  },
  {
   "cell_type": "markdown",
   "metadata": {},
   "source": [
    "# 5. Extra Challenge: Basic Loops\n",
    "\n",
    "If you made it here, you have the basics of doing `if` then `else`; but let's add something to keep doing the conditional over and over: We will use an **INFINITE LOOP**. \n",
    "\n",
    "An *infinite loop* starts with `while True :`\n",
    "\n",
    "And when we want to stop the loop, we'll use `break`\n",
    "\n",
    "Let's use this to build a very basic game:"
   ]
  },
  {
   "cell_type": "code",
   "execution_count": null,
   "metadata": {},
   "outputs": [],
   "source": [
    "# RUN ME\n",
    "print (\"SAY MY NAME GAME\")\n",
    "while True :\n",
    "    name = input (\"Say my name : \")\n",
    "    if name == \"my name\" :\n",
    "        print (\"You win!\")\n",
    "        break\n",
    "    else :\n",
    "        print (\"Nope. Try again. I said: say my name\")    "
   ]
  },
  {
   "cell_type": "markdown",
   "metadata": {},
   "source": [
    "*Activity:*\n",
    "\n",
    "You now have the basics to write a simple trivia game: *Who am I?* or *What am I?*\n",
    "\n",
    "Here's how your game will work:\n",
    "\n",
    "1. Describe something to the user (i.e. \"I have four legs\", or use some ascii art)\n",
    "1. Use a while True loop\n",
    "1. Ask them for a guess\n",
    "1. Use a conditional to say if the guess is right or wrong\n",
    "1. Use break to exit the loop\n"
   ]
  },
  {
   "cell_type": "code",
   "execution_count": null,
   "metadata": {},
   "outputs": [],
   "source": [
    "# FILL IN THE BLANKS\n",
    "print(\"________\")\n",
    "while True :\n",
    "    ______ = input(\"_________\")\n",
    "    if _____ :\n",
    "        print (\"________\")\n",
    "    _____ :\n",
    "        print (\"_________)"
   ]
  },
  {
   "cell_type": "markdown",
   "metadata": {},
   "source": [
    "# Summary\n",
    "\n",
    "Well done!! In this lesson, you learned to use the following conditionals to code decisions, tests or checks:\n",
    "\n",
    "- **if-else statements**\n",
    "\n",
    "    if COMPARISON :\n",
    "        run_this_code\n",
    "        and_run_this_code\n",
    "        \n",
    "    else :\n",
    "        run_this_code_instead\n",
    "        this_code_too\n",
    "\n",
    "- **if-elif-else statements**\n",
    "\n",
    "    if COMPARISON1 :\n",
    "        run_this_code\n",
    "        and_run_this_code\n",
    "        \n",
    "    elif COMPARISON2 :\n",
    "        run_different_code\n",
    "        and_more_different_code\n",
    "        \n",
    "    else :\n",
    "        run_this_code_instead\n",
    "        this_code_too"
   ]
  }
 ],
 "metadata": {
  "kernelspec": {
   "display_name": "Python 3 (ipykernel)",
   "language": "python",
   "name": "python3"
  },
  "language_info": {
   "codemirror_mode": {
    "name": "ipython",
    "version": 3
   },
   "file_extension": ".py",
   "mimetype": "text/x-python",
   "name": "python",
   "nbconvert_exporter": "python",
   "pygments_lexer": "ipython3",
   "version": "3.9.6"
  }
 },
 "nbformat": 4,
 "nbformat_minor": 2
}
