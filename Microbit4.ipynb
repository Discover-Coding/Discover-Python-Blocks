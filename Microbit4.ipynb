{
 "cells": [
  {
   "cell_type": "markdown",
   "id": "45bd8af7",
   "metadata": {},
   "source": [
    "# Micro:bits Lesson 4\n",
    "\n",
    "<img align=right style=\"float:right;margin-left:100px;margin-right:100px;\" width=\"400\" src=\"https://learn.discovercoding.ca/jupyter/MicrobitImages/MicrobitBanner.png\">\n",
    "\n",
    "We will create with Python a:\n",
    " - Rock, Paper, Scissors Game\n",
    " - Tug of LED Game\n",
    "    \n",
    "Student learning outcomes: \n",
    " - I can use *loops* to repeat code\n",
    " - I can use *variables* in my code\n",
    " - I can use `if`, `else`, and `elif` *conditionals* in my code\n",
    "\n",
    "*As you complete each tutorial, remember to click \"Python\"!*"
   ]
  },
  {
   "cell_type": "markdown",
   "id": "d4b9b04d",
   "metadata": {},
   "source": [
    "# 1. Review of Micro:bits\n",
    "\n",
    "<img align=right style=\"float:right;margin-left:100px; margin-right:100px;\" width=\"200\" src=\"https://learn.discovercoding.ca/jupyter/MicrobitImages/PersonWithMicrobit.png\">\n",
    "\n",
    "The BBC micro:bit is a pocket-sized computer that introduces you to how software and hardware work together. It has an LED light display, buttons, sensors and many input/output features that, when programmed, let it interact with you and your world."
   ]
  },
  {
   "cell_type": "markdown",
   "id": "33436701",
   "metadata": {},
   "source": [
    "# 2. Rock, Paper, Scissors Project\n",
    "<img align=right style=\"float:right;margin-left:100px;margin-right:100px;\" width=\"200\" src=\"https://learn.discovercoding.ca/jupyter/MicrobitImages/RockPaperScissorsGame2.png\">\n",
    "\n",
    "Play the game Rock, Paper, Scissors with your Micro:bit! Code the Micro:bit to randomly generate rock, paper, and scissors. Can you beat the computer? *Variables*, *Conditionals* and *loops* are used to make this game.\n",
    "\n",
    "\n",
    "Click on the **Rock, Paper, Scissors Tutorial** in the **Games** section on [MakeCode](https://makecode.microbit.org/)\n",
    "\n",
    "<br>\n",
    "\n",
    "<img  align=left width=\"200\" src=\"https://learn.discovercoding.ca/jupyter/MicrobitImages/RockPaperScissors.png\">\n",
    "\n",
    "<br>\n"
   ]
  },
  {
   "cell_type": "markdown",
   "id": "0746a66c",
   "metadata": {},
   "source": [
    "# 3. Tug Of LED Project\n",
    "\n",
    "<img align=right style=\"float:right;margin-left:100px;margin-right:100px;\" width=\"200\" src=\"https://learn.discovercoding.ca/jupyter/MicrobitImages/TugOfLED.gif\">\n",
    "\n",
    "Code a 2-player game of tug-of-war on your Micro:bit! Players press their button as fast as they can to try and pull the LED light to reach their side of the screen. *Variables*, *Conditionals* and *loops* are used to make this game.\n",
    "\n",
    "Click on the **Tug of LED Tutorial** in the **Games** section on [MakeCode](https://makecode.microbit.org/)\n",
    "\n",
    "<img align=left style=\"float:right;margin-left:100px;margin-right:100px;\" width=\"200\" src=\"https://learn.discovercoding.ca/jupyter/MicrobitImages/TugOfLED.png\">\n"
   ]
  }
 ],
 "metadata": {
  "kernelspec": {
   "display_name": "Python 3 (ipykernel)",
   "language": "python",
   "name": "python3"
  },
  "language_info": {
   "codemirror_mode": {
    "name": "ipython",
    "version": 3
   },
   "file_extension": ".py",
   "mimetype": "text/x-python",
   "name": "python",
   "nbconvert_exporter": "python",
   "pygments_lexer": "ipython3",
   "version": "3.9.6"
  }
 },
 "nbformat": 4,
 "nbformat_minor": 5
}
