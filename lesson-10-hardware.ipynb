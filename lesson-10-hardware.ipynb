{
 "cells": [
  {
   "cell_type": "code",
   "execution_count": null,
   "id": "2fb28d41",
   "metadata": {},
   "outputs": [],
   "source": [
    "from setup import setup_lesson\n",
    "setup_lesson.setup_Lesson10()"
   ]
  },
  {
   "cell_type": "markdown",
   "id": "1923d5d4",
   "metadata": {},
   "source": [
    "<img align=right style=\"float:right;margin-left:50px;margin-right:50px;\" width=\"300\" src=\"images/discovercoding.png\">\n",
    "\n",
    "# Discover Python with Callysto\n",
    "Lesson created and taught by [Discover Coding](https://discovercoding.ca).\n",
    "\n",
    "With support and funding from [Callysto](https://callysto.ca/) and the [Pacific Institute for Mathematical Sciences](https://www.pims.math.ca/)\n",
    "\n",
    "# Lesson 10: Hardware\n",
    "\n",
    "This lesson will explore:\n",
    "- Inside a computer\n",
    "- What each part does\n",
    "- How the computer parts link together"
   ]
  },
  {
   "cell_type": "markdown",
   "id": "61086ca7",
   "metadata": {},
   "source": [
    "## 1. Motherboard\n",
    "<img align=right style=\"float:right;margin-left:50px;margin-right:50px;\" width=\"250\" src=\"images/motherboard.jpg\">\n",
    "\n",
    "**The motherboard is the backbone of a computer, acting like an information highway between all the different components.** The motherboard is like the central nervous system of the computer.\n",
    "\n",
    "- All other parts of the computer attach to this piece so they can communicate with one another.\n",
    "- Information travels through small lines on the board, which forms the circuit of the board.\n",
    "\n",
    "Can you find the small circuit lines on the Microbit?"
   ]
  },
  {
   "cell_type": "markdown",
   "id": "a1634592",
   "metadata": {},
   "source": [
    "## 2. Central Processing Unit (CPU)\n",
    "\n",
    "<img align=right style=\"float:right;margin-left:50px;margin-right:50px;\" width=\"250\" src=\"images/cpu2.png\">\n",
    "\n",
    "The CPU is the \"brain\" of the computer. **The CPU tells all the other parts what to do and when to do it.**\n",
    "\n",
    "- It does most of the processing (sending instructions, doing math, checking values)\n",
    "- Billions of switches inside the CPU turn on and off billions of times a second!\n",
    "\n",
    "All that switching uses a lot of energy and the CPU gets very hot - enough to boil water! "
   ]
  },
  {
   "cell_type": "markdown",
   "id": "44c14435",
   "metadata": {},
   "source": [
    "## 3. Heatsink & Fan\n",
    "\n",
    "<img align=right style=\"float:right;margin-left:50px;margin-right:50px;\" width=\"200\" src=\"images/heatsink_and_fan.jpg\">\n",
    "\n",
    "When humans are active and moving around, we get hot. To cool off, our body sweats. \n",
    "\n",
    "When computers work hard, they also produce heat. But computers can't sweat! So, it uses other means to cool down.\n",
    "\n",
    "The **most common way to cool down a computer is with a heatsink and fan**.\n",
    "\n",
    "- The heatsink aborbs all the heat. \n",
    "- The fan blows the heat away. \n",
    "- These both need to be placed strategically to blow the hot air away from the CPU and out of the computer.\n",
    "\n",
    "Why do you thing the heatsink is designed with a bunch of skinny slabs? "
   ]
  },
  {
   "cell_type": "markdown",
   "id": "f9ff3acf",
   "metadata": {},
   "source": [
    "## 4. Memory \n",
    "\n",
    "While the CPU processes data, the computer needs to store data somewhere safe, even when the computer turns off.\n",
    "\n",
    "Two places data is saved in is in a:\n",
    "- Hard Drive\n",
    "- Solid State Drive (SDD)\n",
    "\n",
    "<img align=right style=\"float:right;margin-left:50px;margin-right:50px;\" width=\"300\" src=\"images/harddrive1.jpeg\">\n",
    "\n",
    "### 4.1 Hard Drive\n",
    "\n",
    "\n",
    "**A hard drive stores and keeps information safe on a spinning metal disk.** A little magnetic arm reads and writes to the disk.\n",
    "- The hard drive is designed carefully. The arm has to be extremely precise to be able to write trillions of bits of information to this disk, and the disk can spin really fast to save and load it up quickly. \n",
    "- A hard drive can spin at over 5000 times per minute, even up to 7200 times per minute. \n",
    "- Because of how precise a hard drive must be, they are often sealed so nothing gets inside. Even a speck of dust could ruin a hard drive!\n",
    "\n",
    "Can you find the magnetic arm in the photo?"
   ]
  },
  {
   "cell_type": "markdown",
   "id": "6a6a2a6c",
   "metadata": {},
   "source": [
    "### 4.2 Solid State Drive (SSD)\n",
    "<img align=right style=\"float:right;margin-left:50px;margin-right:50px;\" width=\"300\" src=\"images/ssd.png\">\n",
    "\n",
    "A **solid state drive also stores information long term**, but in a different way than hard drives. \n",
    "\n",
    "A solid state drive does not spin or move in any way. \n",
    "- Inside, compact circuits store little charges. \n",
    "- These charges stay in place, and the computer can check to see if a charge is saved in a particular spot or not.\n",
    "- This lets the computer access memory without having to spin a disk to the right spot which makes them much faster."
   ]
  },
  {
   "cell_type": "markdown",
   "id": "d2c75b9e",
   "metadata": {},
   "source": [
    "### 4.3 History of the Save Symbol\n",
    "\n",
    "<img align=right style=\"float:right;margin-left:50px;margin-right:50px;\" width=\"125\" src=\"images/floppydisk.jpeg\">\n",
    "\n",
    "<img align=right style=\"float:right;margin-left:50px;margin-right:50px;\" width=\"100\" src=\"images/save.png\">\n",
    "\n",
    "\n",
    "In many computer programs, websites, and apps, you will see a *save* symbol. Clicking it let's you save your work. Where have you seen this symbol before?\n",
    "\n",
    "- This symbol is from a piece of hardware called a floppy disk! **A floppy disk is old technology that was used to save and store information. It is rarely used anymore.** \n",
    "- People often saved files to these floppy disks, so this is why programmers used the image of a floppy disk as the *Save* button. \n",
    "\n",
    "How is a floppy disk similar to a hard drive?\n",
    "<img align=right style=\"float:right;margin-left:50px;margin-right:50px;\" width=\"150\" src=\"images/floppy2.png\"> \n"
   ]
  },
  {
   "cell_type": "markdown",
   "id": "11ffefbb",
   "metadata": {},
   "source": [
    "## 5. Random Access Memory (RAM)\n",
    "<img align=right style=\"float:right;margin-left:50px;margin-right:50px;\" width=\"300\" src=\"images/ram.jpg\">\n",
    "\n",
    "If we humans do mental math, we need to remember the numbers we are working with WHILE we make a calculation. For humans, we is call this our \"working memory\".\n",
    "\n",
    "A computer needs RAM to be able to do the same thing. **RAM will store simple instructions and information for a short time that the CPU will be use.**  \n",
    "\n",
    "Because it is short term memory, when the computer turns off, anything that RAM was storing gets lost. This is why it is important to save your work into the long-term memory often!"
   ]
  },
  {
   "cell_type": "markdown",
   "id": "4a5d9338",
   "metadata": {},
   "source": [
    "## 6. Power Supply\n",
    "<!-- URL:https://www.clipartmax.com/max/m2K9A0m2i8G6H7H7/ -->\n",
    "<img align=right style=\"float:right;margin-left:50px;margin-right:50px;\" width=\"100\" src=\"images/lightning.png\">\n",
    "\n",
    "The power supply gives the computer electricity to perform all the various operations it can do. Without electrical energy, our computers are useless!\n",
    "\n",
    "There are many ways power can be generated, but there are only two ways our computer can use power:\n",
    " - Power Supply Unit\n",
    " - Battery"
   ]
  },
  {
   "cell_type": "markdown",
   "id": "28a94608",
   "metadata": {},
   "source": [
    "### 6.1 Power Supply Unit (PSU)\n",
    "<img align=right style=\"float:right;margin-left:50px;margin-right:50px;\" width=\"200\" src=\"images/psu.jpg\">\n",
    "\n",
    "**The Power Supply Unit is used to turn electricity from the outlets of your house into something a computer can use.**\n",
    "- Electricity can be AC (Alternating Current) or DC (Direct Current). \n",
    "- Our computers like DC electricity becausea it is stable and doesn't change a lot, but our houses get AC electricity since it is far more effective to send over very long distances.\n",
    "- This box changes the AC electricity from the outlet into DC electricity for the computer."
   ]
  },
  {
   "cell_type": "markdown",
   "id": "31cb4dd4",
   "metadata": {},
   "source": [
    "### 6.2 Battery\n",
    "<!-- URL:https://www.clipartmax.com/max/m2H7G6m2i8i8Z5b1/ -->\n",
    "<img align=right style=\"float:right;margin-left:50px;margin-right:50px;\" width=\"200\" src=\"images/battery.png\">\n",
    "\n",
    "**A battery supplies DC electricity which our portable computers can use to power themselves.** Some computers don't need to be plugged in to be used thanks to the battery. \n",
    "- These batteries are often rechargable and require a regular Power Supply Unit to help the batteries recharge.\n",
    "\n",
    "What are other technologies you have used that use a battery? "
   ]
  },
  {
   "cell_type": "markdown",
   "id": "f384d8f4",
   "metadata": {},
   "source": [
    "## 7. Expansions\n",
    "<!--img align=right style=\"float:right;margin-left:50px;margin-right:50px;\" width=\"300\" src=\"images/expansions.png\"-->\n",
    "If you have everything above you will have a completely working computer. However, most computers today now have even more features than listed above!\n",
    "\n",
    "Computers can run complex games, connect online, and use other parts like keyboards, mice, and joysticks. Motherboards have expansion slots to connect extra parts so a computer can perform more functions."
   ]
  },
  {
   "cell_type": "markdown",
   "id": "e4309540",
   "metadata": {},
   "source": [
    "### 7.1 Graphical Processing Unit (GPU)\n",
    "<img align=right style=\"float:right;margin-left:50px;margin-right:50px;\" width=\"300\" src=\"images/gpu.png\">\n",
    "\n",
    "An important expansion to modern computers is the Graphics Processing Unit, or GPU. **The GPU updates your screen to display complicated pictures like ones in video games.** They can update millions of pixels multiple times per second to help you watch videos or play very graphics-heavy games.\n",
    "\n",
    "GPUs also get really hot like our CPU. What is the part needed to help keep it cool?"
   ]
  },
  {
   "cell_type": "markdown",
   "id": "52172e22",
   "metadata": {},
   "source": [
    "### 7.2 Network Card\n",
    "<img align=right style=\"float:right;margin-left:50px;margin-right:50px;\" width=\"200\" src=\"images/networkcard.png\">\n",
    "\n",
    "**A network card is often added to connect to an internet cable.** This card: \n",
    "- *send outs* information from the computer to the internet\n",
    "- *receives* information from the internet and prepares it so the computer can understand the information."
   ]
  },
  {
   "cell_type": "markdown",
   "id": "711a1a7a",
   "metadata": {},
   "source": [
    "### 7.3 Wireless Network Card\n",
    "<img align=right style=\"float:right;margin-left:50px;margin-right:50px;\" width=\"150\" src=\"images/router.png\">\n",
    "\n",
    "Not all computers get plugged in directly to internet with a cable. \n",
    "\n",
    "- Laptops, phones, and more portable computers will often use a wireless network card to connect to the internet. \n",
    "- **Wireless network cards do the same thing as a network card, but instead of through a cable, they communicate with wireless signals through the air.** This is wireless communication is called *wifi*. \n"
   ]
  },
  {
   "cell_type": "markdown",
   "id": "38c0d7ac",
   "metadata": {},
   "source": [
    "### 7.4 Sound card\n",
    "<img align=right style=\"float:right;margin-left:50px;margin-right:50px;\" width=\"200\" src=\"images/sound_card.png\">\n",
    "\n",
    "**Sound cards helps your computer play and recieve sound.** While some computers have built-in sound cards, the sound quality may be poor. Adding special sound cards can make the sounds from your computer sound even better! Sound cards can also help process sound that is put into your computer, so that you sound good to other people.\n",
    "\n",
    "What situations would someone want to have a better sound card in their computer?"
   ]
  },
  {
   "cell_type": "markdown",
   "id": "2019f9f6",
   "metadata": {},
   "source": [
    "## 8. Build a Computer - Memory Game\n",
    "<img align=right style=\"float:right;margin-left:50px;margin-right:50px;\" width=\"200\" src=\"images/memorygame.png\">\n",
    "\n",
    "Think you can remember all the part names? Practice playing this [Build A Computer Memory Game](https://matchthememory.com/buildacomputer)\n"
   ]
  },
  {
   "cell_type": "markdown",
   "id": "27d7faf6",
   "metadata": {},
   "source": [
    "## 9. Computers are EVERYWHERE!\n",
    "<img align=right style=\"float:right;margin-left:50px;margin-right:50px;\" width=\"300\" src=\"images/case.jpg\">\n",
    "\n",
    "The parts we've learned about are used in all computers! They come different sizes and shapes though to fit their different needs.\n",
    "\n",
    "Think about the technology in your life. \n",
    "- What are other computers are in your life that you don't normally think about? (example: microwave, smart watch)\n",
    "- Do they need a CPU? A motherboard? RAM? What about a power supply? \n",
    "- How are those parts different between those computers? How are they the same?"
   ]
  },
  {
   "cell_type": "markdown",
   "id": "fbf9a985",
   "metadata": {},
   "source": [
    "# ---------------------------------------------------------------------\n",
    "# ---------------------------------------------------------------------\n",
    "# ---------------------------------------------------------------------"
   ]
  },
  {
   "cell_type": "markdown",
   "id": "ac6e4d43",
   "metadata": {},
   "source": [
    "# Lesson 10: Build your Own\n",
    "\n",
    "<img align=right style=\"float:right;margin-left:50px;margin-right:50px;\" width=\"500\" src=\"images/kidbuildcomputer.png\">\n",
    "\n",
    "\n",
    "Time to build a computer!\n",
    "\n",
    "In this section, we will learn: \n",
    "- how to build a computer \n",
    "- compatability\n",
    "- safety"
   ]
  },
  {
   "cell_type": "markdown",
   "id": "cf88debe",
   "metadata": {},
   "source": [
    "## 1. List of Computer Parts\n",
    "\n",
    "### 1.1  Parts we are Using\n",
    "\n",
    "We will be building a computer with the following parts:\n",
    "\n",
    "| Part | Description |\n",
    "|:---- |:---- |\n",
    "| Case | The outside of the computer that holds all your components. This keeps them all safe and clean |\n",
    "| Motherboard | The main communication highway of our computer that will connect all of our parts together |\n",
    "| CPU | The brain of our computer, does the primary processing for everything that runs on it |\n",
    "| Cables | Not everything plugs directly into one another, so additional cables can be used to connect components, or to help redirect the connection for more specialized builds |\n",
    "| Hard drive(s) | The long term storage of our computer. Some computers can have more than one hard drive, depending on how much information you have to store |\n",
    "| RAM | The short term memory of your computer. It helps your CPU process data and instructions |\n",
    "| Power Supply Unit | This provides the electricity for our computer and needs to supply enough for all our parts |\n",
    "| Heatsink & Fan | The heatsink and fan for the CPU is important to reduce the heat produced by the CPU so it runs efficiently |\n",
    "\n",
    "### 1.2 Extra Parts\n",
    "\n",
    "If you want to build your own computer, you may want use other parts for your own use. Below is a list of extras parts to consider:\n",
    "\n",
    "| Part | Description |\n",
    "|:-----: |:-----: |\n",
    "| GPU | This part helps render your graphics in your computer games and videos |\n",
    "| USB Ports | Since not everything we use with a computer is built in, making sure you have some USB ports will help |\n",
    "| Keyboard | A common input device tha tis a necessity to be able to input text |\n",
    "| Mouse | With windows and buttons to press, a mouse gives the easiest means of controlling your cursor on the screen |\n",
    "| Monitor | A screen to display your computer programs is a must. Make sure it is able to be positioned at the right height for you when seated |\n",
    "| Speakers | Having a sound card is useless without something to play the sound out of |\n",
    "| Headphones | While playing out loud is useful, sometimes only playing sounds for yourself is more polite to your roommates |\n",
    "| Fans | Additional fans to help control the airflow in your computer helps it run efficiently and reduce wear |\n",
    "| Cable Management Solutions | Inside a computer can be a lot of cables, and having them organized can help with debugging problems during setup, or expanding the rig later on |\n",
    "| LEDS | Sometimes you want a flashy computer, and nothing is more flashy than LEDS |\n",
    "| Liquid Cooling | For high end or advanced computer rigs, liquid cooling is a fancy way to keep things safe from overheating |\n",
    "| DVD Drive | For being able to load in videos or CDs. These can be build into the computer or external |"
   ]
  },
  {
   "cell_type": "markdown",
   "id": "730f92bd",
   "metadata": {},
   "source": [
    "## 2. Compatibility\n",
    "\n",
    "<img align=right style=\"float:right;margin-left:50px;margin-right:50px;\" width=\"300\" src=\"images/incompatible.png\">\n",
    "\n",
    "### 2.1 Making sure the parts work together\n",
    "\n",
    "Parts of a computer need to work together well. Even if you have all the right parts, the brands and versions may not work together. When buying parts, make sure to check its **compatiblity**. \n",
    "\n",
    "Just like you wouldn't use a car battery for your tv remote, you don't want to use incompatible parts. Putting the wrong parts together in a computer can cause other parts to break, make the computer not work, or cause injury.\n",
    "\n",
    "Things to consider with compatibility: \n",
    "- clock speed they operate at \n",
    "- connection ports  they use\n",
    "- intended uses\n",
    "\n",
    "### 2.2 Resources to help choose compatible parts\n",
    "\n",
    "<img align=right style=\"float:right;margin-left:50px;margin-right:50px;\" width=\"400\" src=\"images/buildingcomputer.jpeg\">\n",
    "\n",
    "When buying parts, it helps to look at their specifications, often located on a *Specs Sheet*. These documents detail the different features, options the parts come with, and what they are compatible with.\n",
    "\n",
    "Another excellent resource are websites that give you the tools to easily compare parts and easily identify incompatible parts. \n",
    "\n",
    "Some helpful websites:\n",
    "- [PC Part Picker](https://ca.pcpartpicker.com/)\n",
    "- [Build My PC](https://buildmypc.net/list/)\n",
    "- [NZXT](https://nzxt.com/category/gaming-pcs/build)\n",
    "- [PC Builder](https://pcbuilder.net/)\n",
    "\n",
    "While these tools are handy, use them as a guide and double check your parts for compatibility."
   ]
  },
  {
   "cell_type": "markdown",
   "id": "c1475b0a",
   "metadata": {},
   "source": [
    "## 3. Safety\n",
    "\n",
    "<img align=right style=\"float:right;margin-left:50px;margin-right:50px;\" width=\"150\" src=\"images/highvoltage.png\">\n",
    "\n",
    "\n",
    "Stay safe while you build your computer!\n",
    "\n",
    " 1. Use quality parts from reputable sellers\n",
    " 2. Assemble safely\n",
    " 3. Use safe software"
   ]
  },
  {
   "cell_type": "markdown",
   "id": "adfea017",
   "metadata": {},
   "source": [
    "### 3.1 Safe Purchases\n",
    "\n",
    "<img align=right style=\"float:right;margin-left:50px;margin-right:50px;\" width=\"300\" src=\"images/scammer.jpeg\">\n",
    "\n",
    "Buy your parts safely! \n",
    "- If buying online, make sure the seller is real. Buy only on secure, trustworthy websites.\n",
    "- If buying online, compare the product prices with reputable stores like Memory Express or Best Buy. If the offered price is too good to be true - DON'T buy it! \n",
    "- If possible, buy in person at reputable stores. You can talk with experts who can help you with the process.\n",
    "- Purchase parts from companies that offer insurance or warranties. \n",
    "- Buy the part directly from the product company, or go through their website to find where to buy the parts."
   ]
  },
  {
   "cell_type": "markdown",
   "id": "db565677",
   "metadata": {},
   "source": [
    "### 3.2 Safe Assembly\n",
    "\n",
    "<img align=right style=\"float:right;margin-left:50px;margin-right:50px;\" width=\"300\" src=\"images/computerparts.jpeg\">\n",
    "\n",
    "Assemble your computer safely!\n",
    "- Use the correct tools. A multi-tool screwdriver is a helpful tool to have! \n",
    "- Be gentle and thoughtful. Sharp edges of parts can hurt your skin if you are being too forceful. If it isn't going in, take some time to inspect before pushing harder.\n",
    "- Keep track of all your cables so they don't end up in the wrong spot.\n",
    "- Avoid making static electricity by not wearing fluffy clothing during assembly or not assembling on a carpet. You can also wear an antistatic wristband for extra caution and leave the parts in their antistatic bags before assembling.\n",
    "- Don't use cables with frayed wires. "
   ]
  },
  {
   "cell_type": "markdown",
   "id": "45abc694",
   "metadata": {},
   "source": [
    "### 3.3 Safe Software\n",
    "\n",
    "<img align=right style=\"float:right;margin-left:50px;margin-right:50px;\" width=\"300\" src=\"images/alert.png\">\n",
    "\n",
    "Install safe software on your computer! \n",
    "- You can use CDs, USB drives, the internet, or use pre-installed software for your computer. \n",
    "- Software packages are the fundamental programs you interact with. But, if discs and USBs are damaged, the damage can corrupt the data - making them useless. \n",
    "- With online software sources, be EXTRA careful. Ensure the sourced software is what it claims to be. Use safe and secure websites and use anti-virus software to protect you from unsafe files. "
   ]
  },
  {
   "cell_type": "markdown",
   "id": "27c4468c",
   "metadata": {},
   "source": [
    "## 4. Disassembly\n",
    "\n",
    "Let's tinker! We are going to take apart and rebuild a computer.\n",
    "\n",
    "This is a general guide for our build today - remember that personal computer builds may vary in complexity and process. \n",
    "\n",
    "Ask your teacher if you need help!"
   ]
  },
  {
   "cell_type": "markdown",
   "id": "afdde7d2",
   "metadata": {},
   "source": [
    "### 4.1 Prep\n",
    "<img align=right style=\"float:right;margin-left:50px;margin-right:50px;\" width=\"300\" src=\"images/layoutparts.jpeg\">\n",
    "\n",
    "- Use a large, secure surface to place work on as you remove computer parts.\n",
    "- Review safety tips from before."
   ]
  },
  {
   "cell_type": "markdown",
   "id": "b4cd69dc",
   "metadata": {},
   "source": [
    "### 4.2 Disassemble Time!\n",
    "\n",
    "<img align=right style=\"float:right;margin-left:50px;margin-right:50px;\" width=\"300\" src=\"images/case_open.jpg\">\n",
    "\n",
    "\n",
    "1. Open the computer case by removing the side wall. Usually there is a screw or latch that must be removed to allow the side of the case to slide off.\n",
    "\n",
    "2. Starting from the top, slowly assess and remove parts one by one. Keep track of parts you remove and lay them out in the order you remove them.\n",
    "\n",
    "Can you identify each part as you remove it? "
   ]
  },
  {
   "cell_type": "markdown",
   "id": "28b444c4",
   "metadata": {},
   "source": [
    "## 5. Assembly\n",
    "\n",
    "<img align=right style=\"float:right;margin-left:50px;margin-right:50px;\" width=\"500\" src=\"images/buildcomputer.jpeg\">\n",
    "\n",
    "\n",
    "Let's rebuild! Time to put it all back together.\n"
   ]
  },
  {
   "cell_type": "markdown",
   "id": "b4ee9080",
   "metadata": {},
   "source": [
    "### 5.1 Motherboard\n",
    "\n",
    "The **motherboard** will be secured to your case, so we will keep it there. \n",
    "\n",
    "If building your own: \n",
    "- Assemble the parts of the motherboard outside the case before installing the motherboard to make assembly easier.\n",
    "\n",
    "<img align=right style=\"float:right;margin-left:50px;margin-right:50px;\" width=\"200\" src=\"images/cpu_in.jpg\">\n",
    "\n",
    "### 5.2 CPU\n",
    "\n",
    "Carefully align the **Central Processing Unit (CPU)** pins and shape to the centre of the motherboard. To ensure correct installation, hold the CPU by the sides, and align the markings of the CPU with the CPU casing on the motherboard.\n",
    "\n",
    "Once correctly in place, lower the latch down so it is secured."
   ]
  },
  {
   "cell_type": "markdown",
   "id": "f1826c6a",
   "metadata": {},
   "source": [
    "### 5.3 Heatsink and Fan\n",
    "<img align=right style=\"float:right;margin-left:50px;margin-right:50px;\" width=\"200\" src=\"images/heatsink_and_fan.jpg\">\n",
    "\n",
    "1. Place the **heatsink** and **fan** above the CPU. Align the corners so they can lock into place. Twist, push, and twist the corner tabs for each latch to lock/unlock the pin to the motherboard.\n",
    "\n",
    "2. Once installed, route the **heatsink** and **fan** power cable to an appropriate spot on the motherboard. Plug it in so that when the computer boots up, the fan will have power to spin. \n",
    "\n",
    "If building your own: \n",
    "- For additional cooling, you can apply a *thermal paste* before installing them which helps transfer heat from the CPU to the Heatsink. As a note, some CPUs and Heatsinks come with *thermal paste* pre-applied and may not require any additional amounts.\n"
   ]
  },
  {
   "cell_type": "markdown",
   "id": "d816a4c5",
   "metadata": {},
   "source": [
    "### 5.4 RAM\n",
    "<img align=right style=\"float:right;margin-left:50px;margin-right:50px;\" width=\"300\" src=\"images/ram_insert.jpg\">\n",
    "\n",
    "Next, install the **Random Access Memory (RAM)**. \n",
    "\n",
    "1. Pull the little end tab outwards.\n",
    "2. Slide the RAM into the slot. \n",
    "3. Press down so the tab clicks shut. \n",
    "\n",
    "*Remember: Do not apply too much force! Straining the chip or motherboard can cause fractures and may ruin the parts. If there is significant resistance, ensure it is appropriately aligned and any locking components are not in the way.*"
   ]
  },
  {
   "cell_type": "markdown",
   "id": "71dc01b1",
   "metadata": {},
   "source": [
    "### 5.5 Expansion Slots\n",
    "<img align=right style=\"float:right;margin-left:50px;margin-right:50px;\" width=\"200\" src=\"images/networkcard.png\">\n",
    "\n",
    "If any, add the expansion slots to the motherboard. This could include:\n",
    "- **GPU**\n",
    "- **Network Card**\n",
    "- **Wireless Network Card**\n",
    "- **Sound Card**\n",
    "- **Disc reader**\n",
    "\n",
    "Make sure it is secured and does not morve around while moving the computer case."
   ]
  },
  {
   "cell_type": "markdown",
   "id": "c9d2b7f1",
   "metadata": {},
   "source": [
    "### 5.6 Install Memory\n",
    "<img align=right style=\"float:right;margin-left:50px;margin-right:50px;\" width=\"250\" src=\"images/hd_installed.jpg\">\n",
    "\n",
    "Our **hard drive** has a special mounting bracket. Slide it in and ensure the clips are in place, if available."
   ]
  },
  {
   "cell_type": "markdown",
   "id": "fced4970",
   "metadata": {},
   "source": [
    "### 5.7 Power\n",
    "<img align=right style=\"float:right;margin-left:50px;margin-right:50px;\" width=\"250\" src=\"images/psu.jpg\">\n",
    "\n",
    "Install the **Power Supply Unit (PSU)**. \n",
    "\n",
    "Ensure it is affixed firmly in place and plug in the cables. The smaller cables bring electricity to all the parts in the computer."
   ]
  },
  {
   "cell_type": "markdown",
   "id": "9070cd9b",
   "metadata": {},
   "source": [
    "### 5.8 Double Check!\n",
    "<img align=right style=\"float:right;margin-left:50px;margin-right:50px;\" width=\"250\" src=\"images/cable_management.jpg\">\n",
    "\n",
    "Check your connections! Make sure everything is properly installed and secure to prevent electrical shorts or computer errors. \n",
    "\n",
    "Double check:\n",
    "- cables are plugged in to the right spots \n",
    "- computer parts are all in the correct spot\n",
    "- screws, latches, and brackets are secured"
   ]
  },
  {
   "cell_type": "markdown",
   "id": "f0acf4fa",
   "metadata": {},
   "source": [
    "### 5.9 Turn on your Computer!\n",
    "<img align=right style=\"float:right;margin-left:50px;margin-right:50px;\" width=\"250\" src=\"images/powerbutton.jpeg\">\n",
    "\n",
    "Time to power up your computer! Plug your computer into a power source and turn it on. \n",
    "\n",
    "If your computer is not turning on properly, a little light on the **motherboard** may flash patterns. This flash pattern can be looked up in a manual and can help identify errors and be used to troubleshoot. \n",
    "\n",
    "**SAFETY NOTE:** If you get any errors, turn off your computer and wait a minute for all the power to drain from the computer before attempting to fix anything.\n",
    "\n",
    "**Extra:** Electronics will retain some electricity within them for a time, so giving it a minute will help all that electricity discharge. This is common for all electronics, but expecially for ones that have *capacitors* in them. Those often look like cylinders or towers on the motherboard and other components."
   ]
  },
  {
   "cell_type": "markdown",
   "id": "79892e95",
   "metadata": {},
   "source": [
    "### 5.10 Set up Monitor\n",
    "\n",
    "<img align=right style=\"float:right;margin-left:50px;margin-right:50px;\" width=\"300\" src=\"images/computeron.jpeg\">\n",
    "\n",
    "Next, connect your **monitor**, **mouse**, and **keyboard**. These parts are how the user will be able to interact with the computer! \n"
   ]
  },
  {
   "cell_type": "markdown",
   "id": "47c3fbb2",
   "metadata": {},
   "source": [
    "## 6. Install Software\n",
    "\n",
    "<img align=right style=\"float:right;margin-left:50px;margin-right:50px;\" width=\"100\" src=\"images/windows.png\">\n",
    "<img align=right style=\"float:right;margin-left:50px;margin-right:50px;\" width=\"100\" src=\"images/linux.png\">\n",
    "\n",
    "With the computer hardware ready to go, you can close the case. \n",
    "\n",
    "If you are building your own:\n",
    "- This is the step where you would install software so you can interact with your computer. \n",
    "\n",
    "Common operating system programs used are:\n",
    "- Apple macOS\n",
    "- Microsoft Windows\n",
    "- Linux Operating System\n",
    "\n",
    "This may take a while and will require you to plug in your computer screen, keyboard, and mouse to navigate that process."
   ]
  },
  {
   "cell_type": "markdown",
   "id": "2a2cd69a",
   "metadata": {},
   "source": [
    "## 7. Congrats on building your FIRST computer! \n",
    "\n",
    "<img align=right style=\"float:right;margin-left:50px;margin-right:50px;\" width=\"200\" src=\"images/pinkcustombuild.jpeg\">\n",
    "\n",
    "As you build more, you can get creative by getting fun and fancy computer parts! \n",
    "\n",
    "Enthusiasts get super creative by making customized computers with colour-coded or glowing RGB parts. \n",
    "\n",
    "What does your dream computer look like?\n",
    "\n",
    "<img align=left style=\"float:right;margin-left:50px;margin-right:50px;\" width=\"400\" src=\"images/rgbcomputer.jpeg\">\n"
   ]
  },
  {
   "cell_type": "markdown",
   "id": "d3952c5f",
   "metadata": {},
   "source": [
    "For additional sources, consult your manual for the parts you wish to use, or for additional step by step guides, consult these resourses:\n",
    "- [PC Build Advisor](https://www.pcbuildadvisor.com/how-to-build-a-computer-step-by-step-infographic/)\n",
    "- [Build Gaming Computers](https://www.build-gaming-computers.com/how-to-assemble-a-pc.html)\n",
    "- [Tom's Hardware](https://www.tomshardware.com/reviews/how-to-build-a-pc,5867.html)"
   ]
  },
  {
   "cell_type": "markdown",
   "id": "e6cc1374",
   "metadata": {},
   "source": [
    "## 8 Extra: Virtual Assembly\n",
    "\n",
    "This game is made to quiz you on some of the basic parts of our computer! \n",
    "\n",
    "- Click the < (left) and > (right) arrows to switch between definitions. \n",
    "- For each definition, click GUESS and type in one of the correct names from the top. Click the Checkmark.\n",
    "- Once you've got the names correct, click the v (down) arrow to see the parts you guessed correct. \n",
    "- Drag the parts into the correct spot in this simplified laptop outline."
   ]
  },
  {
   "cell_type": "code",
   "execution_count": null,
   "id": "7768e9e1",
   "metadata": {},
   "outputs": [],
   "source": [
    "# RUN ME\n",
    "from IPython.display import IFrame, HTML\n",
    "url = '<iframe src=\"https://scratch.mit.edu/projects/397931721/embed\" allowtransparency=\"true\" width=\"485\" height=\"402\" frameborder=\"0\" scrolling=\"no\" allowfullscreen></iframe>'\n",
    "# IFrame(\"https://scratch.mit.edu/projects/397931721/embed\", allowtransparency=\"true\", width=\"485\", height=\"402\", frameborder=\"0\", scrolling=\"no\", allowfullscreen=True)\n",
    "HTML('<a url=https://scratch.mit.edu/projects/397931721>Link to Project</a>' + '</p>' + url)"
   ]
  }
 ],
 "metadata": {
  "kernelspec": {
   "display_name": "Python 3 (ipykernel)",
   "language": "python",
   "name": "python3"
  },
  "language_info": {
   "codemirror_mode": {
    "name": "ipython",
    "version": 3
   },
   "file_extension": ".py",
   "mimetype": "text/x-python",
   "name": "python",
   "nbconvert_exporter": "python",
   "pygments_lexer": "ipython3",
   "version": "3.9.6"
  }
 },
 "nbformat": 4,
 "nbformat_minor": 5
}
