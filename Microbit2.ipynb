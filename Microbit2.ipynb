{
 "cells": [
  {
   "cell_type": "markdown",
   "id": "45bd8af7",
   "metadata": {},
   "source": [
    "# Micro:bits Lesson 2\n",
    "\n",
    "<img align=right style=\"float:right;margin-left:100px;margin-right:100px;\" width=\"400\" src=\"MicrobitImages/MicrobitBanner.png\">\n",
    "\n",
    "We will create with Python a:\n",
    " - Smiley Buttons\n",
    " - Stop Watch\n",
    " - Coin Flipper\n",
    "    \n",
    "Student learning outcomes: \n",
    " - I can use *events* in my code to make hardware display visuals when a button is pressed\n",
    " - I can use `random` in my code\n",
    " - I can tinker with a computer and code to perform a task\n",
    "\n",
    "*As you complete each tutorial, remember to click \"Python\"!*"
   ]
  },
  {
   "cell_type": "markdown",
   "id": "d4b9b04d",
   "metadata": {},
   "source": [
    "# 1. Review of Micro:bits\n",
    "\n",
    "<img align=right style=\"float:right;margin-left:100px; margin-right:100px;\" width=\"200\" src=\"MicrobitImages/PersonWithMicrobit.png\">\n",
    "\n",
    "The BBC micro:bit is a pocket-sized computer that introduces you to how software and hardware work together. It has an LED light display, buttons, sensors and many input/output features that, when programmed, let it interact with you and your world.\n"
   ]
  },
  {
   "cell_type": "markdown",
   "id": "33436701",
   "metadata": {},
   "source": [
    "# 2. Smiley Buttons Project\n",
    "<img align=right style=\"float:right;margin-left:100px;margin-right:100px;\" width=\"200\" src=\"MicrobitImages/SmileyButtons.gif\">\n",
    "\n",
    "Code the computer to display different smiley faces when pressing buttons. \n",
    "Pressing a button is an example of an *event* in code.\n",
    "\n",
    "Click on the **Smiley Buttons Tutorial** in the **Tutorials** section on [MakeCode](https://makecode.microbit.org/)\n",
    "\n",
    "<img  align=left width=\"200\" src=\"MicrobitImages/SmileyButtons.png\">\n"
   ]
  },
  {
   "cell_type": "markdown",
   "id": "0746a66c",
   "metadata": {},
   "source": [
    "# 3. Stop Watch Project\n",
    "\n",
    "<img align=right style=\"float:right;margin-left:100px;margin-right:100px;\" width=\"200\" src=\"MicrobitImages/Stopwatch.gif\">\n",
    "\n",
    "\n",
    "Code your Micro:bit to be a stopwatch - One button will start the timer, and another button will display how much time has lapsed! Pressing a button is an example of an *event* in code.\n",
    "\n",
    "Click on the **Stop Watch Tutorial** in the **Tools** section on [MakeCode](https://makecode.microbit.org/)\n",
    "\n",
    "<img align=left style=\"float:right;margin-left:100px;margin-right:100px;\" width=\"200\" src=\"MicrobitImages/Stopwatch2.png\">\n"
   ]
  },
  {
   "cell_type": "markdown",
   "id": "21b3f988",
   "metadata": {},
   "source": [
    "# 4. Coin Flipper Project\n",
    "\n",
    "<img align=right style=\"float:right;margin-left:100px;margin-right:100px;\" width=\"200\" src=\"MicrobitImages/CoinFlipper.gif\">\n",
    "\n",
    "Use `random` in your code to create a digital \"coin toss\". Pressing a button will display *Heads* or *Tails*!\n",
    "\n",
    "Click on the **Coin Flipper Tutorial** in the **Games** section on [MakeCode](https://makecode.microbit.org/)\n",
    "\n",
    "<img align=left style=\"float:right;margin-left:100px;margin-right:100px;\" width=\"200\" src=\"MicrobitImages/CoinFlipper.png\">\n"
   ]
  }
 ],
 "metadata": {
  "kernelspec": {
   "display_name": "Python 3 (ipykernel)",
   "language": "python",
   "name": "python3"
  },
  "language_info": {
   "codemirror_mode": {
    "name": "ipython",
    "version": 3
   },
   "file_extension": ".py",
   "mimetype": "text/x-python",
   "name": "python",
   "nbconvert_exporter": "python",
   "pygments_lexer": "ipython3",
   "version": "3.9.6"
  }
 },
 "nbformat": 4,
 "nbformat_minor": 5
}
