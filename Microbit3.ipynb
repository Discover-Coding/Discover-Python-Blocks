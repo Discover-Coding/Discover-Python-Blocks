{
 "cells": [
  {
   "cell_type": "markdown",
   "id": "45bd8af7",
   "metadata": {},
   "source": [
    "# Micro:bits Lesson 3\n",
    "\n",
    "<img align=right style=\"float:right;margin-left:100px;margin-right:100px;\" width=\"400\" src=\"MicrobitImages/MicrobitBanner.png\">\n",
    "\n",
    "We will create with Python a:\n",
    " - Level\n",
    " - Snap the Dot game\n",
    " - Compass\n",
    "    \n",
    "Student learning outcomes: \n",
    " - I can use `if`, `elif`, and `else` *conditionals* in my code\n",
    " - I can use `input` in my code\n",
    " - I can tinker with a computer and code to perform a task\n",
    "\n",
    "*As you complete each tutorial, remember to click \"Python\"!*"
   ]
  },
  {
   "cell_type": "markdown",
   "id": "d4b9b04d",
   "metadata": {},
   "source": [
    "# 1. Review to Micro:bits\n",
    "\n",
    "<img align=right style=\"float:right;margin-left:100px; margin-right:100px;\" width=\"200\" src=\"MicrobitImages/MicrobitBanner2.png\">\n",
    "\n",
    "The BBC micro:bit is a pocket-sized computer that introduces you to how software and hardware work together. It has an LED light display, buttons, sensors and many input/output features that, when programmed, let it interact with you and your world.\n",
    "\n",
    "Testing"
   ]
  },
  {
   "cell_type": "markdown",
   "id": "33436701",
   "metadata": {},
   "source": [
    "# 2. Level Project\n",
    "\n",
    "<img align=right style=\"float:right;margin-left:100px;margin-right:100px;\" width=\"200\" src=\"MicrobitImages/Level2.png\">\n",
    "\n",
    "Is your table level? Create a digital level that checks how level a surface is! You will use `if`, `elif,` and `else` *conditionals* and `input` in this code.\n",
    "\n",
    "Click on the **Level Tutorial** in the **Tools** section on [MakeCode](https://makecode.microbit.org/)\n",
    "\n",
    "<br>\n",
    "\n",
    "<img  align=left width=\"200\" src=\"MicrobitImages/Level.png\">\n",
    "\n",
    "<br>\n"
   ]
  },
  {
   "cell_type": "markdown",
   "id": "0746a66c",
   "metadata": {},
   "source": [
    "# 3. Snap the Dot Project\n",
    "\n",
    "<img align=right style=\"float:right;margin-left:100px;margin-right:100px;\" width=\"200\" src=\"MicrobitImages/SnapTheDot.gif\">\n",
    "\n",
    "Create a game where a player has to press the button EXACTLY when the dot reaches the center of the screen! You will use `if`, `elif,` and `else` *conditionals* and `input` in this code.\n",
    "\n",
    "Click on the **Snap the dot Tutorial** in the **Games** section on [MakeCode](https://makecode.microbit.org/)\n",
    "\n",
    "<img align=left style=\"float:right;margin-left:100px;margin-right:100px;\" width=\"200\" src=\"MicrobitImages/SnapTheDot.png\">\n"
   ]
  },
  {
   "cell_type": "markdown",
   "id": "21b3f988",
   "metadata": {},
   "source": [
    "# 4. Compass Project\n",
    "\n",
    "<img align=right style=\"float:right;margin-left:100px;margin-right:100px;\" width=\"200\" src=\"MicrobitImages/Compass.gif\">\n",
    "\n",
    "Code your Micro:bit to sense and display the direction the microbit is pointing! You will use `if`, `elif,` and `else` *conditionals* in this code.\n",
    "\n",
    "Click on the **Compass Tutorial** in the **Tools** section on [MakeCode](https://makecode.microbit.org/)\n",
    "\n",
    "<img align=left style=\"float:right;margin-left:100px;margin-right:100px;\" width=\"200\" src=\"MicrobitImages/Compass.png\">\n"
   ]
  }
 ],
 "metadata": {
  "kernelspec": {
   "display_name": "Python 3 (ipykernel)",
   "language": "python",
   "name": "python3"
  },
  "language_info": {
   "codemirror_mode": {
    "name": "ipython",
    "version": 3
   },
   "file_extension": ".py",
   "mimetype": "text/x-python",
   "name": "python",
   "nbconvert_exporter": "python",
   "pygments_lexer": "ipython3",
   "version": "3.9.6"
  }
 },
 "nbformat": 4,
 "nbformat_minor": 5
}
