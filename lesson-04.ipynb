{
 "cells": [
  {
   "cell_type": "markdown",
   "metadata": {},
   "source": [
    "*Run this code block before you begin:*"
   ]
  },
  {
   "cell_type": "code",
   "execution_count": null,
   "metadata": {},
   "outputs": [],
   "source": [
    "from setup import setup_lesson\n",
    "setup_lesson.setup_Lesson4()"
   ]
  },
  {
   "cell_type": "markdown",
   "metadata": {},
   "source": [
    "<img align=right width=\"350\" src=\"images/discovercoding.png\">\n",
    "\n",
    "# Discover Python with Callysto\n",
    "\n",
    "Lesson created and taught by [Discover Coding](https://discovercoding.ca).\n",
    "\n",
    "With support and funding from [Callysto](https://callysto.ca/) and the [Pacific Institute for Mathematical Sciences](https://www.pims.math.ca/).\n",
    "\n",
    "<br>\n",
    "<br>\n",
    "\n",
    "# Lesson 4: if, elif, and else\n",
    "\n",
    "This lesson will explore two things:\n",
    "- 1. REVIEW: `if` & `if`-`else`\n",
    "- 2. The \"else-if\" (`elif`) statement\n",
    "- 3. Practice, practice, practice!\n"
   ]
  },
  {
   "cell_type": "markdown",
   "metadata": {},
   "source": [
    "# Review: `if` & `if-else`\n",
    "\n",
    "## 1.1. The Four Parts of an if-statement\n",
    "\n",
    "1. `if`\n",
    "2. `comparison`\n",
    "3. `:`\n",
    "4. `indent`"
   ]
  },
  {
   "cell_type": "markdown",
   "metadata": {},
   "source": [
    "## 1.2. Reviewing Python `if`-`else` statements\n",
    "\n",
    "Remember the four parts! (`if`, `comparison`, `:`, `indent`):\n",
    "\n",
    "    if COMPARISON IS TRUE :\n",
    "        run_this\n",
    "    else :\n",
    "        run_this_instead"
   ]
  },
  {
   "cell_type": "code",
   "execution_count": null,
   "metadata": {},
   "outputs": [],
   "source": [
    "# DEBUG ME: (What's missing -- if, comparison, colon, or indent?)\n",
    "\n",
    "bus_fare = 3.50\n",
    "if bus_fare == 3.50 :\n",
    "print( \"Thanks for paying,\" )\n",
    "print( \"come on the bus!\" )\n",
    "else :\n",
    "print( \"That's not the EXACT amount...\" )"
   ]
  },
  {
   "cell_type": "code",
   "execution_count": null,
   "metadata": {},
   "outputs": [],
   "source": [
    "# FILL IN THE BLANKS: (Fill in the missing parts of the if-else statement)\n",
    "\n",
    "password1 = input(\"Enter your password: \")\n",
    "password2 = input(\"Enter your password again: \")\n",
    "\n",
    "__ password1 == password2 __\n",
    "    print(\"Looks good! The passwords match.\")\n",
    "____ __\n",
    "    print(\"Sorry, you have to try again. The passwords don't match.\")"
   ]
  },
  {
   "cell_type": "markdown",
   "metadata": {},
   "source": [
    "# 2. `if`-`elif`-`else` Statements\n",
    "\n",
    "<img align=right style=\"float:right;margin-left:30px;\" width=\"500px\" src=\"images/simonsays3.JPG\">\n",
    "\n",
    "Great, we know how to do something if a comparison is `True` and when it's not. But what if we want to test more than one comparison? We can use an *else if* statement to add more comparisons. It works like this:\n",
    "\n",
    "<br>\n",
    "<br>\n",
    "\n",
    "- `if` a **COMPARISON** is `True`\n",
    "    - then run some code\n",
    "    \n",
    "<br> \n",
    "    \n",
    "- `else if` another **COMPARISON** is `True`\n",
    "    - run some other code *INSTEAD*\n",
    "    \n",
    "<br>\n",
    "    \n",
    "- `else`\n",
    "    - run a third piece of code *INSTEAD*\n",
    "\n"
   ]
  },
  {
   "cell_type": "markdown",
   "metadata": {},
   "source": [
    "## 2.1. Blockly Conditional: `if` - `else if` - `else`\n",
    "\n",
    "<img style=\"float:right;\" width=\"500px\" src=\"images/BlocklyHowToCreateIfElifElse.jpg\">\n",
    "\n",
    "\n",
    "### 2.1.1 Blockly Activity: Types of Numbers\n",
    "\n",
    "a. Create a conditional to check if a number is negative, positive or neither:\n",
    "\n",
    "<img width=\"440px\" src=\"images/BlocklyIfElifElseExample.jpg\">\n"
   ]
  },
  {
   "cell_type": "code",
   "execution_count": null,
   "metadata": {},
   "outputs": [],
   "source": [
    "from IPython.display import Javascript, IFrame\n",
    "IFrame('blocks/3-1.html', 900, 700)"
   ]
  },
  {
   "cell_type": "markdown",
   "metadata": {},
   "source": [
    "### 2.1.2 Blockly Activity: Bus Fare\n",
    "\n",
    "b. Create a conditional to check if bus fare is the exact amount, too much or too little.\n",
    "\n",
    "\n",
    "    if busFare is 3.50,\n",
    "        then print \"Thanks for paying! Come on the bus!\"\n",
    "        \n",
    "    Or if `busFare` is greater than 3.50,\n",
    "        then print \"Too much.\"\n",
    "        \n",
    "    Otherwise,\n",
    "        print \"Too little.\""
   ]
  },
  {
   "cell_type": "code",
   "execution_count": null,
   "metadata": {},
   "outputs": [],
   "source": [
    "from IPython.display import Javascript, IFrame\n",
    "IFrame('blocks/3-1.html', 900, 700)"
   ]
  },
  {
   "cell_type": "markdown",
   "metadata": {},
   "source": [
    "## 2.2. Python Conditional: `if`-`elif`-`else` Statement\n",
    "\n",
    "Python looks like this:\n",
    "\n",
    "    if COMPARISON1 :\n",
    "        run_this_code\n",
    "        and_run_this_code\n",
    "        \n",
    "    elif COMPARISON2 :\n",
    "        run_different_code\n",
    "        and_more_different_code\n",
    "        \n",
    "    else :\n",
    "        run_this_code_instead\n",
    "        this_code_too\n",
    "\n",
    "Let's try our conditionals again.\n",
    "\n",
    "a. Try different bus fares to see what happens:"
   ]
  },
  {
   "cell_type": "code",
   "execution_count": null,
   "metadata": {},
   "outputs": [],
   "source": [
    "# FILL IN THE BLANK (set the value of the bus fare)\n",
    "bus_fare = ____\n",
    "if bus_fare == 3.50 :\n",
    "    print( \"Thanks for paying,\" )\n",
    "    print( \"come on the bus!\" )\n",
    "elif bus_fare > 3.50 :\n",
    "    print( \"You paid too much!\" )\n",
    "else :\n",
    "    print( \"You paid too little!\" )"
   ]
  },
  {
   "cell_type": "markdown",
   "metadata": {},
   "source": [
    "b. Fill in the missing statements and try different temperature values:"
   ]
  },
  {
   "cell_type": "code",
   "execution_count": null,
   "metadata": {},
   "outputs": [],
   "source": [
    "# FILL IN THE BLANKS (what words and symbols are missing?)\n",
    "temperature = ____\n",
    "if temperature < -23 :\n",
    "    print( \"Brrr. It's cold.\")\n",
    "    print( \"Indoor recess!\")\n",
    "____ temperature > 30 __\n",
    "    print ( \"So hot. Let's go swimming.\")\n",
    "____ __\n",
    "    print ( \"Go play outside!\" )"
   ]
  },
  {
   "cell_type": "markdown",
   "metadata": {},
   "source": [
    "c. Make a secret password, a SUPER-secret password, and what happens if the password is wrong:"
   ]
  },
  {
   "cell_type": "code",
   "execution_count": null,
   "metadata": {},
   "outputs": [],
   "source": [
    "# FILL IN THE BLANKS: Check for two different passwords.\n",
    "password = input(\"Enter your password: \")\n",
    "if password __ \"______\"\n",
    "    print(\" _______ \")\n",
    "elif password __ \"______\"\n",
    "    print(\" _______ \")\n",
    "else\n",
    "    print(\" _______ \")"
   ]
  },
  {
   "cell_type": "markdown",
   "metadata": {},
   "source": [
    "# 3. Challenges: More `elif` Conditionals\n",
    "\n",
    "a. We can use more than one `elif` in our code! Finish rewriting the AI Driver's code using `elif`:"
   ]
  },
  {
   "cell_type": "code",
   "execution_count": null,
   "metadata": {},
   "outputs": [],
   "source": [
    "# FILL IN THE LINE OF CODE\n",
    "#   Add an *IF* statement so that you tell your driver what to do when they see a light\n",
    "light = input(\"Is the light green, yellow or red: \")\n",
    "if light == \"green\" :\n",
    "    print( \"GO\" )\n",
    "elif light ___ \"yellow\" __\n",
    "    print( \"SLOW\" )\n",
    "elif ________ == \"______\" __\n",
    "    print(\"STOP\")\n",
    "else :\n",
    "    print(\"That's not a traffic light colour!\")\n"
   ]
  },
  {
   "cell_type": "markdown",
   "metadata": {},
   "source": [
    "b. We can use `elif` to check if a number is positive, negative, or zero:"
   ]
  },
  {
   "cell_type": "code",
   "execution_count": null,
   "metadata": {},
   "outputs": [],
   "source": [
    "# FILL IN THE BLANKS:\n",
    "number = input(\"Enter any number: \")\n",
    "__ float(number) > 0 :\n",
    "    print(number + \" is positive.\")\n",
    "____ float(number) < __ :\n",
    "    print(number + \" is negative.\")\n",
    "____ :\n",
    "    print(number + \" is zero!\")"
   ]
  },
  {
   "cell_type": "markdown",
   "metadata": {},
   "source": [
    "c. Each day of the week, you have a different activity. Create a conditional to remind you what activity you have for the day.\n",
    "    \n",
    "    Monday:         swimming\n",
    "    Tuesday:        reading\n",
    "    Wednesday:      hockey\n",
    "    Thursday:       coding\n",
    "    Friday:         hockey\n",
    "    Saturday:       running\n",
    "    Sunday:         rest\n"
   ]
  },
  {
   "cell_type": "code",
   "execution_count": null,
   "metadata": {},
   "outputs": [],
   "source": [
    "# Complete the conditional: (be careful with Capital Letters and \"quotation marks\"!)\n",
    "day = input(\"Enter in the day of the week: \")\n",
    "if day == \"Monday\" :\n",
    "    print(\"swimming\")\n",
    "elif day == \"Tuesday\" :\n",
    "    print(\"reading\")\n",
    "elif day == \"_______\" :\n",
    "    print(\"_______\")\n",
    "elif day == \"_______\" :\n",
    "    print(\"_______\")\n",
    "elif day == \"_______\" :\n",
    "    print(\"_______\")\n",
    "elif ___ __ _________ :\n",
    "    print(\"\")\n",
    "elif ___ __ _________ :\n",
    "    print(\"\")\n",
    "else :\n",
    "    print(\"I didn't understand your input!\")"
   ]
  },
  {
   "cell_type": "markdown",
   "metadata": {},
   "source": [
    "# 4. Extra Challenge: Basic Loops\n",
    "\n",
    "If you made it here, you have the basics of doing `if` then `else`; but let's add something to keep doing the conditional over and over: We will use an **INFINITE LOOP**. \n",
    "\n",
    "An *infinite loop* starts with `while` `True` `:`.\n",
    "\n",
    "And when we want to stop the loop, we'll use `break`.\n",
    "\n",
    "Let's use this to build a very basic game:"
   ]
  },
  {
   "cell_type": "code",
   "execution_count": null,
   "metadata": {},
   "outputs": [],
   "source": [
    "# RUN ME\n",
    "print (\"SAY MY NAME GAME\")\n",
    "while True :\n",
    "    name = input (\"Say my name : \")\n",
    "    if name == \"my name\" :\n",
    "        print (\"You win!\")\n",
    "        break\n",
    "    else :\n",
    "        print (\"Nope. Try again. I said: say my name\")    "
   ]
  },
  {
   "cell_type": "markdown",
   "metadata": {},
   "source": [
    "*Activity:*\n",
    "\n",
    "You now have the basics to write a simple trivia game: *Who am I?* or *What am I?*\n",
    "\n",
    "Here's how your game will work:\n",
    "\n",
    "1. Describe something to the user (i.e. \"I have four legs\", or use some ascii art)\n",
    "1. Use a while True loop\n",
    "1. Ask them for a guess\n",
    "1. Use a conditional to say if the guess is right or wrong\n",
    "1. Use break to exit the loop\n"
   ]
  },
  {
   "cell_type": "code",
   "execution_count": null,
   "metadata": {},
   "outputs": [],
   "source": [
    "# FILL IN THE BLANKS: (where does the break go?)\n",
    "print(\"________\")\n",
    "while True :\n",
    "    ______ = input(\"_________\")\n",
    "    if _____ :\n",
    "        print (\"________\")\n",
    "    _____ :\n",
    "        print (\"_________)"
   ]
  },
  {
   "cell_type": "markdown",
   "metadata": {},
   "source": [
    "# Summary\n",
    "\n",
    "Awesome job! We learned all about `elif` today, which is a really important tool to help computers to make decisions!\n",
    "\n",
    "- **if-elif-else statements**\n",
    "\n",
    "    if COMPARISON1 :\n",
    "        run_this_code\n",
    "        and_run_this_code\n",
    "        \n",
    "    elif COMPARISON2 :\n",
    "        run_different_code\n",
    "        and_more_different_code\n",
    "        \n",
    "    else :\n",
    "        run_this_code_instead\n",
    "        this_code_too"
   ]
  }
 ],
 "metadata": {
  "kernelspec": {
   "display_name": "Python 3 (ipykernel)",
   "language": "python",
   "name": "python3"
  },
  "language_info": {
   "codemirror_mode": {
    "name": "ipython",
    "version": 3
   },
   "file_extension": ".py",
   "mimetype": "text/x-python",
   "name": "python",
   "nbconvert_exporter": "python",
   "pygments_lexer": "ipython3",
   "version": "3.9.6"
  }
 },
 "nbformat": 4,
 "nbformat_minor": 2
}
