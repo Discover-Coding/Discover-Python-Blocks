{
 "cells": [
  {
   "cell_type": "code",
   "execution_count": null,
   "metadata": {},
   "outputs": [],
   "source": [
    "from setup import setup_lesson\n",
    "setup_lesson.setup_Lesson4()"
   ]
  },
  {
   "cell_type": "markdown",
   "metadata": {},
   "source": [
    "<img style=\"float:right;margin-left:50px;margin-right:50px;\" width=\"300\" src=\"images/discovercoding.png\">\n",
    "\n",
    "# Discover Python with Callysto\n",
    "Lesson created and taught by [Discover Coding](https://discovercoding.ca).\n",
    "\n",
    "With support and funding from [Callysto](https://callysto.ca/) and the [Pacific Institute for Mathematical Sciences](https://www.pims.math.ca/)\n",
    "\n",
    "# Lesson 4: Loops\n",
    "\n",
    "This lesson will cover:\n",
    "- Review: math operations, variables and comparisons\n",
    "- Loops\n",
    "- Control Flow with Loops - break\n"
   ]
  },
  {
   "cell_type": "markdown",
   "metadata": {},
   "source": [
    "# 1. Review\n",
    "\n",
    "<a href=\"https://www.elixirofknowledge.com/2017/07/your-guide-to-solving-next-online-viral.html\" target=\"_blank\"><img style=\"float:right;margin-left:100px;margin-right:100px;\" width=\"300\" src=\"images/viralmath2.jpg\"></a>\n",
    "\n",
    "## 1.1. Interesting Math Operations\n",
    "\n",
    "In the previous lessons, we saw some of the basic math operations that computers can do:\n",
    "\n",
    "    ADD:       +\n",
    "    SUBTRACT:  -\n",
    "    MULTIPLY:  *\n",
    "    DIVIDE:    /\n",
    "    \n",
    "Math in Python also follows *order of operation* rules, so it can help solve math riddles.\n",
    "\n",
    "Let's try solving this one:"
   ]
  },
  {
   "cell_type": "code",
   "execution_count": null,
   "metadata": {},
   "outputs": [],
   "source": [
    "# SOLVE ME\n",
    "# Can you write the above question as Python equation?\n",
    "print(6 / 2 _______)"
   ]
  },
  {
   "cell_type": "code",
   "execution_count": null,
   "metadata": {},
   "outputs": [],
   "source": [
    "# RUN ME\n",
    "# Here's the correct solution\n",
    "print ( 6 / 2 * ( 1 + 2 ))"
   ]
  },
  {
   "cell_type": "markdown",
   "metadata": {},
   "source": [
    "Now, let's try some more interesting math operations:\n",
    "\n",
    "    Operation        What it does                                     Operator symbol\n",
    "    --------------   -----------------------------------------------  --------------\n",
    "    MODULO           Find the remainder                               %\n",
    "    FLOOR DIVISION   Divide and round down to the lower whole number  //\n",
    "    POWER            Multiply by the same number many times           **\n",
    "\n",
    "Try running some code using the operations"
   ]
  },
  {
   "cell_type": "code",
   "execution_count": null,
   "metadata": {},
   "outputs": [],
   "source": [
    "# FILL IN THE BLANKS\n",
    "\n",
    "# Find remainder of 7 divided by 2\n",
    "print ( 7 __ 2 )\n",
    "\n",
    "# Find the floor of 7 divided by 2\n",
    "print ( 7 __ 2 )\n",
    "\n",
    "# Calculate 7 to the power of 2\n",
    "print ( _ __ _ )"
   ]
  },
  {
   "cell_type": "markdown",
   "metadata": {},
   "source": [
    "## 1.2. Variables\n",
    "\n",
    "**Variables** are a box that can hold *values* like `\"strings\"` or *numbers*\n",
    "When a number is stored in a variable, we can do math on it.\n",
    "\n",
    "Let's create 2 variables, called `myString` and `myNumber`, then print them"
   ]
  },
  {
   "cell_type": "code",
   "execution_count": null,
   "metadata": {},
   "outputs": [],
   "source": [
    "# FILL IN THE BLANKS\n",
    "my_____ = \"_______\"\n",
    "my______ = _______\n",
    "print( myString )\n",
    "print( _________ )"
   ]
  },
  {
   "cell_type": "code",
   "execution_count": null,
   "metadata": {},
   "outputs": [],
   "source": [
    "# PREDICT ME - what will happen if I try do to math on the variables?\n",
    "myNumber = myNumber + 1\n",
    "print( myNumber )\n",
    "myString = myString + 1"
   ]
  },
  {
   "cell_type": "markdown",
   "metadata": {},
   "source": [
    "Look closely at the output. Did the math operation on the number work? \n",
    "\n",
    "Notice the error message suggests that I can't add (`+`) an `int`eger and `str`ing \n",
    "\n",
    "Go back, remove line 4 and run the code to work."
   ]
  },
  {
   "cell_type": "markdown",
   "metadata": {},
   "source": [
    "## 1.3. Comparisons\n",
    "\n",
    "Recall that Python *compare* numbers and tell us if a *statement* is TRUE or FALSE. We use the following operators to create *BOOLEAN expressions*.\n",
    "\n",
    "    Equal:         ==\n",
    "    Not equal:     !=\n",
    "    Less than:     <\n",
    "    Greater than:  >\n",
    "    Less than, or equal to:    <=\n",
    "    Greater than, or equal to: >=\n",
    "\n",
    "Let's try a couple of comparisons using variables. Use variables to do some math, and then see if a comparison is true or false. For example:"
   ]
  },
  {
   "cell_type": "code",
   "execution_count": null,
   "metadata": {},
   "outputs": [],
   "source": [
    "# RUN ME: set a number, is it less than 5?\n",
    "number = 1\n",
    "number < 5"
   ]
  },
  {
   "cell_type": "code",
   "execution_count": null,
   "metadata": {},
   "outputs": [],
   "source": [
    "# RUN ME: add 3, is it less than or equal to 4?\n",
    "number = number + 3\n",
    "number <= 4"
   ]
  },
  {
   "cell_type": "markdown",
   "metadata": {},
   "source": [
    "*Activities:*\n",
    "\n",
    "a. Let's compare your grade to the averge using variables and comparisons."
   ]
  },
  {
   "cell_type": "code",
   "execution_count": null,
   "metadata": {},
   "outputs": [],
   "source": [
    "# FILL IN THE BLANK: Check if myGrade is greater than or equal to average\n",
    "myGrade = (17/20) * 100\n",
    "average = 75\n",
    "myGrade ___ average"
   ]
  },
  {
   "cell_type": "markdown",
   "metadata": {},
   "source": [
    "b. **Extra Challenge**: Let's try something more advanced now. Let's use advanced operators and compare values in two variables."
   ]
  },
  {
   "cell_type": "code",
   "execution_count": null,
   "metadata": {},
   "outputs": [],
   "source": [
    "# FILL IN THE BLANK:\n",
    "# is 2 to the power of 3 EQUAL TO 17 modulo 9?\n",
    "aPowerNumber = 2 ** 3\n",
    "aRemainder = 17 % 9\n",
    "aPowerNumber __ aRemainder"
   ]
  },
  {
   "cell_type": "markdown",
   "metadata": {},
   "source": [
    "c. Try your own math and comparisons in Python."
   ]
  },
  {
   "cell_type": "code",
   "execution_count": null,
   "metadata": {},
   "outputs": [],
   "source": [
    "# FILL IN THE BLANKS: Try math and comparisons of your own!\n",
    "numberA = \n",
    "numberB = \n",
    "numberA ___ numberB"
   ]
  },
  {
   "cell_type": "markdown",
   "metadata": {},
   "source": [
    "# 2. Control Flow with LOOPS\n",
    "\n",
    "<img style=\"float:right;\" width=\"30%\" src=\"images/loop.gif\">\n",
    "\n",
    "Loops are like conditionals, but help us run code *OVER and OVER and OVER and ...* \n",
    "\n",
    "We keep *looping* as long as the COMPARISON TEST is `True`.\n",
    "\n",
    "Code that is *indented* after the while loop are run each time.\n",
    "\n",
    "## 2.1. Blockly Loops - while\n",
    "\n",
    "a. Try to create the simple loop below. What does it do?\n",
    "\n",
    "<img src=\"images/BlocklyLoopsExample.jpg\">\n",
    "\n",
    "b. Can you change the code so that the output prints numbers from 1 to 5?\n",
    "\n",
    "c. Can you change the code so that the output prints numbers from 6 to 12?\n",
    "\n",
    "d. Can you change the code so that the output prints EVEN nubmers from 0 to 20?"
   ]
  },
  {
   "cell_type": "code",
   "execution_count": null,
   "metadata": {
    "scrolled": false
   },
   "outputs": [],
   "source": [
    "from IPython.display import Javascript, IFrame\n",
    "IFrame('blocks/4-1.html', 900, 800)"
   ]
  },
  {
   "cell_type": "markdown",
   "metadata": {},
   "source": [
    "## 2.2. Python Loops\n",
    "\n",
    "Here is one form of a Python loop:\n",
    "\n",
    "while COMPARISON :\n",
    "\n",
    "    run_this_code\n",
    "    and_run_this_code\n",
    "    \n",
    "We keep *looping* as long as the COMPARISON test is `True`.\n",
    "\n",
    "Code that is *indented* after the while loop are run each time.\n",
    "\n",
    "Try the simple loop below:"
   ]
  },
  {
   "cell_type": "code",
   "execution_count": null,
   "metadata": {},
   "outputs": [],
   "source": [
    "# RUN ME:\n",
    "aNumber = 1\n",
    "while aNumber <= 3:\n",
    "    print (aNumber)\n",
    "    aNumber = aNumber + 1"
   ]
  },
  {
   "cell_type": "markdown",
   "metadata": {},
   "source": [
    "**QUESTION:** When did the loop stop?\n",
    "\n",
    "*(answer: when aNumber was greater than 3, the loop stopped)"
   ]
  },
  {
   "cell_type": "markdown",
   "metadata": {},
   "source": [
    "*Activities:*\n",
    "\n",
    "a. Fill-in-the-blanks to print the number 1 to 5."
   ]
  },
  {
   "cell_type": "code",
   "execution_count": null,
   "metadata": {},
   "outputs": [],
   "source": [
    "# FILL IN THE BLANKS\n",
    "\n",
    "counter = 1\n",
    "\n",
    "______ counter <= 5 __\n",
    "    print (counter)\n",
    "    counter = counter + 1\n",
    "\n",
    "# This code runs once we are done the while loop\n",
    "print (\"Look ma! I can count to 5!\")"
   ]
  },
  {
   "cell_type": "markdown",
   "metadata": {},
   "source": [
    "b. Fill-in-the-blanks to print the numbers 6 to 12."
   ]
  },
  {
   "cell_type": "code",
   "execution_count": null,
   "metadata": {},
   "outputs": [],
   "source": [
    "# FILL IN: the number to start at\n",
    "index = ___\n",
    "\n",
    "# FILL IN: keep looping if index is less than or equal to ...\n",
    "while _____ <= ___ :\n",
    "    print(index)\n",
    "    index = index + 1\n"
   ]
  },
  {
   "cell_type": "markdown",
   "metadata": {},
   "source": [
    "c. Fill-in-the-blanks to print EVEN numbers between 0 and 20."
   ]
  },
  {
   "cell_type": "code",
   "execution_count": null,
   "metadata": {},
   "outputs": [],
   "source": [
    "# CHALLENGE: find even numbers between 0 and 20\n",
    "# FILL IN: the number to start at\n",
    "index = ___\n",
    "\n",
    "# FILL IN: keep looping if index is less than or equal to ...\n",
    "while _____ <= ___ :\n",
    "    print(index)\n",
    "    index = index + ___"
   ]
  },
  {
   "cell_type": "markdown",
   "metadata": {},
   "source": [
    "d. Fill-in-the-blank to print EVEN numbers between 10 and 30. "
   ]
  },
  {
   "cell_type": "code",
   "execution_count": null,
   "metadata": {},
   "outputs": [],
   "source": [
    "# FILL IN THE BLANK \n",
    "\n",
    "index = ___\n",
    "\n",
    "# FILL IN: keep looping if index is less than or equal to ...\n",
    "____ _____ <= ___ __\n",
    "    print(index)\n",
    "    index = index + ___"
   ]
  },
  {
   "cell_type": "markdown",
   "metadata": {},
   "source": [
    "# 3. Extra Challenge: More Loops\n",
    "\n",
    "*Activities:*\n",
    "\n",
    "a. Code the loop to print numbers BACKWARDS from 5 to 1."
   ]
  },
  {
   "cell_type": "code",
   "execution_count": null,
   "metadata": {},
   "outputs": [],
   "source": [
    "# CODING CHALLENGE: print numbers BACKWARDS from 5 to 1\n"
   ]
  },
  {
   "cell_type": "markdown",
   "metadata": {},
   "source": [
    "b. Code the loop to print multiples of 5 from 50 to 100."
   ]
  },
  {
   "cell_type": "code",
   "execution_count": null,
   "metadata": {},
   "outputs": [],
   "source": [
    "# CODING CHALLENGE: print multiples of 5 from 50 to 100\n"
   ]
  },
  {
   "cell_type": "markdown",
   "metadata": {},
   "source": [
    "c. Code the loop to print SQUARES of 1 to 5. HINT: Use `**`\n",
    "\n",
    "Output:\n",
    "\n",
    "        1\n",
    "        4\n",
    "        9\n",
    "        16\n",
    "        25"
   ]
  },
  {
   "cell_type": "code",
   "execution_count": null,
   "metadata": {},
   "outputs": [],
   "source": [
    "# CODING CHALLENGE: print the SQUARES (a number to the POWER of 2) of 1 to 5\n"
   ]
  },
  {
   "cell_type": "markdown",
   "metadata": {},
   "source": [
    "d. Code the loop to print the EXPONENTIAL series of 2. \n",
    "    \n",
    "Output:\n",
    "\n",
    "        2\n",
    "        4\n",
    "        8\n",
    "        16\n",
    "        32"
   ]
  },
  {
   "cell_type": "code",
   "execution_count": null,
   "metadata": {},
   "outputs": [],
   "source": [
    "# CODING CHALLENGE: print the EXPONENTIAL series of 2\n",
    "#  This is 2 to the power 1, then to the power 2, then to the power 3, etc...\n"
   ]
  },
  {
   "cell_type": "markdown",
   "metadata": {},
   "source": [
    "# 4. Extra Challenge: Python Break\n",
    "\n",
    "But what if you want to **STOP** a loop early? Use keyword `break` -- it will exit the loop right away!\n",
    "\n",
    "This is a good way to combine loops with **conditionals**\n",
    "\n",
    "Here's an example: we keep looping looking for an answer. The loop is *ALWAYS TRUE*, so it will never stop.... or will it?"
   ]
  },
  {
   "cell_type": "code",
   "execution_count": null,
   "metadata": {},
   "outputs": [],
   "source": [
    "# RUN ME\n",
    "print(r' ^(*(oo)*)^ ')\n",
    "\n",
    "while True :\n",
    "    answer = input(\"What am I?\")\n",
    "    if answer == \"pig\":\n",
    "        print (\"Oink Oink!\")\n",
    "        break\n",
    "    else:\n",
    "        print (\"I am NOT a \" + answer)"
   ]
  },
  {
   "cell_type": "markdown",
   "metadata": {},
   "source": [
    "**QUESTION:** When did the loop stop?\n",
    "\n",
    "*(answer: when the user says \"pig\", we `break` the loop)\n",
    "\n",
    "Now you try! Code a program that does the following:\n",
    "\n",
    "1. print an ascii picture of something.\n",
    "1. make a loop that asks for input\n",
    "1. if the input was the correct answer, so something funny and `break`\n",
    "1. otherwise, keep looping"
   ]
  },
  {
   "cell_type": "code",
   "execution_count": null,
   "metadata": {},
   "outputs": [],
   "source": [
    "# FILL IN THE BLANKS\n",
    "print(\"______\")\n",
    "\n",
    "while True :\n",
    "    ______ = input (\"_____\")\n",
    "    if _____ == ______ :\n",
    "        print (\"_______\")\n",
    "        break\n",
    "    else :\n",
    "        print (\"_______\")"
   ]
  },
  {
   "cell_type": "markdown",
   "metadata": {},
   "source": [
    "# Summary\n",
    "\n",
    "In this lesson you learned to create a `while` loop to run code over and over again:\n",
    "\n",
    "while COMPARISON :\n",
    "\n",
    "    run_this_code\n",
    "    and_run_this_code"
   ]
  }
 ],
 "metadata": {
  "kernelspec": {
   "display_name": "Python 3 (ipykernel)",
   "language": "python",
   "name": "python3"
  },
  "language_info": {
   "codemirror_mode": {
    "name": "ipython",
    "version": 3
   },
   "file_extension": ".py",
   "mimetype": "text/x-python",
   "name": "python",
   "nbconvert_exporter": "python",
   "pygments_lexer": "ipython3",
   "version": "3.9.6"
  }
 },
 "nbformat": 4,
 "nbformat_minor": 2
}
