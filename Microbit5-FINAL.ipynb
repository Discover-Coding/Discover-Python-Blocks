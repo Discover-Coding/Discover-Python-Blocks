{
 "cells": [
  {
   "cell_type": "markdown",
   "id": "45bd8af7",
   "metadata": {},
   "source": [
    "# Micro:bits Lesson 5\n",
    "\n",
    "<img align=right style=\"float:right;margin-left:100px;margin-right:100px;\" width=\"400\" src=\"https://learn.discovercoding.ca/jupyter/MicrobitImages/MicrobitBanner.png\">\n",
    "\n",
    "We will create with Python a:\n",
    " - Falling Block Game\n",
    "    \n",
    "Student learning outcomes: \n",
    " - I can use *events* and *loops* in my code\n",
    " - I can use `random` in my code\n",
    " - I can use `if`, `elif,` and `else` *conditionals* in my code \n"
   ]
  },
  {
   "cell_type": "markdown",
   "id": "d4b9b04d",
   "metadata": {},
   "source": [
    "# 1. Review of Micro:bits\n",
    "\n",
    "<img align=right style=\"float:right;margin-left:100px; margin-right:100px;\" width=\"200\" src=\"https://learn.discovercoding.ca/jupyter/MicrobitImages/PersonWithMicrobit.png\">\n",
    "\n",
    "The BBC micro:bit is a pocket-sized computer that introduces you to how software and hardware work together. It has an LED light display, buttons, sensors and many input/output features that, when programmed, let it interact with you and your world.\n"
   ]
  },
  {
   "cell_type": "markdown",
   "id": "33436701",
   "metadata": {},
   "source": [
    "# 2. Falling Block Project\n",
    "<img align=right style=\"float:right;margin-left:100px;margin-right:100px;\" width=\"200\" src=\"https://learn.discovercoding.ca/jupyter/MicrobitImages/FallingBlock.gif\">\n",
    "\n",
    "Code a game where a player needs to \"catch\" a falling block.\n",
    "Pressing a button is an example of an *event* in code.\n",
    "\n",
    "Click on **New Project** on [MakeCode](https://makecode.microbit.org/)\n",
    "\n",
    "*Remember to code in \"Python\"!*\n",
    "\n",
    "<img  align=left width=\"200\" src=\"https://learn.discovercoding.ca/jupyter/MicrobitImages/NewProject.png\">\n"
   ]
  },
  {
   "cell_type": "markdown",
   "id": "731c83a4",
   "metadata": {},
   "source": [
    "## Step 1\n",
    "<img align=right style=\"float:right;margin-left:100px;margin-right:100px;\" width=\"200\" src=\"https://learn.discovercoding.ca/jupyter/MicrobitImages/FallingBlockStep01.png\">\n",
    "\n",
    "Initialize your game by setting up the variables:\n",
    "- `sprite` (your player sprite)\n",
    "- `item` (the falling block)\n",
    "- `game.set_life()` (Number of lives player has)\n",
    "\n",
    "\n",
    "<img  align=left width=\"500\" src=\"https://learn.discovercoding.ca/jupyter/MicrobitImages/FallingBlockStep1.png\">\n"
   ]
  },
  {
   "cell_type": "markdown",
   "id": "20fc0bdb",
   "metadata": {},
   "source": [
    "## Step 2\n",
    "<img align=right style=\"float:right;margin-left:100px;margin-right:100px;\" width=\"200\" src=\"https://learn.discovercoding.ca/jupyter/MicrobitImages/FallingBlockStep02.png\">\n",
    "\n",
    "Set up the A button to make your `sprite` move left once every time it is pressed.\n",
    "\n",
    "<img  align=left width=\"500\" src=\"https://learn.discovercoding.ca/jupyter/MicrobitImages/FallingBlockStep2.png\">\n"
   ]
  },
  {
   "cell_type": "markdown",
   "id": "a4021953",
   "metadata": {},
   "source": [
    "## Step 3\n",
    "<img align=right style=\"float:right;margin-left:100px;margin-right:100px;\" width=\"200\" src=\"https://learn.discovercoding.ca/jupyter/MicrobitImages/FallingBlockStep03.png\">\n",
    "\n",
    "Set up the B button to make your `sprite` move right once every time it is pressed.\n",
    "\n",
    "<img  align=left width=\"500\" src=\"https://learn.discovercoding.ca/jupyter/MicrobitImages/FallingBlockStep3.png\">\n"
   ]
  },
  {
   "cell_type": "markdown",
   "id": "80443f72",
   "metadata": {},
   "source": [
    "## Step 4\n",
    "\n",
    "<img align=right style=\"float:right;margin-left:100px;margin-right:100px;\" width=\"200\" src=\"https://learn.discovercoding.ca/jupyter/MicrobitImages/FallingBlockStep04.png\">\n",
    "\n",
    "Create a forever loop that: \n",
    "- sets the `item` to face the correct rotation\n",
    "- moves the `item` by 1\n",
    "\n",
    "<img  align=left width=\"500\" src=\"https://learn.discovercoding.ca/jupyter/MicrobitImages/FallingBlockStep4.5.png\">\n"
   ]
  },
  {
   "cell_type": "markdown",
   "id": "7f69bac8",
   "metadata": {},
   "source": [
    "## Step 5\n",
    "\n",
    "<img align=right style=\"float:right;margin-left:100px;margin-right:100px;\" width=\"200\" src=\"https://learn.discovercoding.ca/jupyter/MicrobitImages/FallingBlockStep05.png\">\n",
    "\n",
    "\n",
    "Inside your existing forever loop, create a conditional:\n",
    "\n",
    "`if` the `item` reaches the bottom row: \n",
    "- place the `item` at 0 on the y-axis \n",
    "- place the `item` randomly somewhere on the x-axis\n",
    "- remove 1 life\n",
    "\n",
    "<img  align=left width=\"500\" src=\"https://learn.discovercoding.ca/jupyter/MicrobitImages/FallingBlockStep4.png\">\n"
   ]
  },
  {
   "cell_type": "markdown",
   "id": "7fac4c5d",
   "metadata": {},
   "source": [
    "## Step 6\n",
    "\n",
    "<img align=right style=\"float:right;margin-left:100px;margin-right:100px;\" width=\"200\" src=\"https://learn.discovercoding.ca/jupyter/MicrobitImages/FallingBlockStep06.png\">\n",
    "\n",
    "\n",
    "Inside your existing forever loop, create a conditional:\n",
    "\n",
    "`if` the `sprite` is touching the `item`: \n",
    "- place the `item` at 0 on the y-axis \n",
    "- place the `item` randomly somewhere on the x-axis\n",
    "- add 1 point to the score\n",
    "\n",
    "<img  align=left width=\"500\" src=\"https://learn.discovercoding.ca/jupyter/MicrobitImages/FallingBlockStep5.png\">\n"
   ]
  },
  {
   "cell_type": "markdown",
   "id": "e7d1cfb4",
   "metadata": {},
   "source": [
    "# Step 7\n",
    "\n",
    "<img align=right style=\"float:right;margin-left:100px;margin-right:100px;\" width=\"400\" src=\"https://learn.discovercoding.ca/jupyter/MicrobitImages/PlayVideoGame.gif\">\n",
    "\n",
    "Congrats! You have now made a Falling Block game! \n",
    "\n",
    "Now play and beat your game!"
   ]
  }
 ],
 "metadata": {
  "kernelspec": {
   "display_name": "Python 3 (ipykernel)",
   "language": "python",
   "name": "python3"
  },
  "language_info": {
   "codemirror_mode": {
    "name": "ipython",
    "version": 3
   },
   "file_extension": ".py",
   "mimetype": "text/x-python",
   "name": "python",
   "nbconvert_exporter": "python",
   "pygments_lexer": "ipython3",
   "version": "3.9.6"
  }
 },
 "nbformat": 4,
 "nbformat_minor": 5
}
