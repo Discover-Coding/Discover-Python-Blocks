{
 "cells": [
  {
   "cell_type": "markdown",
   "id": "45bd8af7",
   "metadata": {},
   "source": [
    "# Micro:bits Lesson 1\n",
    "\n",
    "<img align=right style=\"float:right;margin-left:100px;margin-right:100px;\" width=\"400\" src=\"MicrobitImages/MicrobitBanner.png\">\n",
    "\n",
    "We will create with Python a:\n",
    " - Flashing Heart\n",
    " - Name Tag\n",
    " - Dice\n",
    "    \n",
    "Student learning outcomes: \n",
    " - I can `show` images (`print`) in my code to make hardware display visuals \n",
    " - I can tinker with a computer and code to perform a task\n",
    "\n",
    "*As you complete each tutorial, remember to click \"Python\"!*"
   ]
  },
  {
   "cell_type": "markdown",
   "id": "d4b9b04d",
   "metadata": {},
   "source": [
    "# 1. Intro to Micro:bits\n",
    "\n",
    "<img align=right style=\"float:right;margin-left:100px; margin-right:100px;\" width=\"200\" src=\"MicrobitImages/PersonWithMicrobit.png\">\n",
    "\n",
    "The BBC micro:bit is a pocket-sized computer that introduces you to how software and hardware work together. It has an LED light display, buttons, sensors and many input/output features that, when programmed, let it interact with you and your world.\n",
    "\n",
    "The new micro:bit with (version 2.0) sound adds a built-in microphone and speaker, as well as an extra touch input button and a power button.\n",
    "\n",
    "See video: [Introduction to Micro:bits](https://www.youtube.com/watch?v=u2u7UJSRuko)"
   ]
  },
  {
   "cell_type": "markdown",
   "id": "33436701",
   "metadata": {},
   "source": [
    "# 2. Flashing Heart Project\n",
    "<img align=right style=\"float:right;margin-left:100px;margin-right:100px;\" width=\"200\" src=\"MicrobitImages/flashing_heart.gif\">\n",
    "\n",
    "Code a heart display to flash using `show` , a command that is similar to `print`.\n",
    "\n",
    "Click on the **Flashing Heart Tutorial** in the **Tutorial** section on [MakeCode](https://makecode.microbit.org/)\n",
    "\n",
    "<br>\n",
    "\n",
    "<img  align=left width=\"200\" src=\"MicrobitImages/FlashingHeart1.png\">\n",
    "\n",
    "<br>\n"
   ]
  },
  {
   "cell_type": "markdown",
   "id": "0746a66c",
   "metadata": {},
   "source": [
    "# 3. Name Tag Project\n",
    "\n",
    "<img align=right style=\"float:right;margin-left:100px;margin-right:100px;\" width=\"200\" src=\"MicrobitImages/name-tag.gif\">\n",
    "\n",
    "\n",
    "Code your name to scroll on the Micro:bit using `show` , a command that is similar to `print`.\n",
    "\n",
    "Click on the **Name Tag Tutorial** in the **Tutorial** section on [MakeCode](https://makecode.microbit.org/)\n",
    "\n",
    "<img align=left style=\"float:right;margin-left:100px;margin-right:100px;\" width=\"200\" src=\"MicrobitImages/NameTag2.png\">\n"
   ]
  },
  {
   "cell_type": "markdown",
   "id": "21b3f988",
   "metadata": {},
   "source": [
    "# 4. Dice Project\n",
    "\n",
    "<img align=right style=\"float:right;margin-left:100px;margin-right:100px;\" width=\"200\" src=\"MicrobitImages/Dice.gif\">\n",
    "\n",
    "Code your Micro:bit to \"roll\" the dice when you shake your Micro:bit!\n",
    "\n",
    "Click on the **Dice Tutorial** in the **Tutorial** section on [MakeCode](https://makecode.microbit.org/)\n",
    "\n",
    "<img align=left style=\"float:right;margin-left:100px;margin-right:100px;\" width=\"200\" src=\"MicrobitImages/Dice2.png\">\n"
   ]
  }
 ],
 "metadata": {
  "kernelspec": {
   "display_name": "Python 3 (ipykernel)",
   "language": "python",
   "name": "python3"
  },
  "language_info": {
   "codemirror_mode": {
    "name": "ipython",
    "version": 3
   },
   "file_extension": ".py",
   "mimetype": "text/x-python",
   "name": "python",
   "nbconvert_exporter": "python",
   "pygments_lexer": "ipython3",
   "version": "3.9.6"
  }
 },
 "nbformat": 4,
 "nbformat_minor": 5
}
