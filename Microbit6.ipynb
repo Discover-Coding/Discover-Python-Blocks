{
 "cells": [
  {
   "cell_type": "markdown",
   "id": "45bd8af7",
   "metadata": {},
   "source": [
    "# Micro:bits Lesson 6\n",
    "\n",
    "<img align=right style=\"float:right;margin-left:100px;margin-right:100px;\" width=\"400\" src=\"MicrobitImages/MicrobitBanner.png\">\n",
    "\n",
    "We will create with Python:\n",
    " - Music\n",
    "    \n",
    "Student learning outcomes: \n",
    " - I can use *events* in my code\n",
    " - I can use *loops* in my code\n",
    " - I can use code to create my own music and melodies\n",
    " \n",
    "*As you complete each tutorial, remember to click \"Python\"!*"
   ]
  },
  {
   "cell_type": "markdown",
   "id": "d4b9b04d",
   "metadata": {},
   "source": [
    "# 1. Review of Micro:bits\n",
    "\n",
    "<img align=right style=\"float:right;margin-left:100px; margin-right:100px;\" width=\"200\" src=\"MicrobitImages/PersonWithMicrobit.png\">\n",
    "\n",
    "The BBC micro:bit is a pocket-sized computer that introduces you to how software and hardware work together. It has an LED light display, buttons, sensors and many input/output features that, when programmed, let it interact with you and your world.\n"
   ]
  },
  {
   "cell_type": "markdown",
   "id": "33436701",
   "metadata": {},
   "source": [
    "# 2. Music Making Project\n",
    "<img align=right style=\"float:right;margin-left:100px;margin-right:100px;\" width=\"200\" src=\"MicrobitImages/SheetMusic.jpeg\">\n",
    "\n",
    "You can code your Micro:bit to produce sound! \n",
    "Time to code a musical melody.\n"
   ]
  },
  {
   "cell_type": "markdown",
   "id": "43eadd0b",
   "metadata": {},
   "source": [
    "## STEP 1: \n",
    "\n",
    "Start a new project on [MakeCode](https://makecode.microbit.org/)\n",
    "\n",
    "<img  align=left width=\"200\" src=\"MicrobitImages/NewProject.png\">\n",
    "\n"
   ]
  },
  {
   "cell_type": "markdown",
   "id": "ceebc31e",
   "metadata": {},
   "source": [
    "## STEP 2: \n",
    "\n",
    "Code the Micro:bit to play a melody when a button is pressed.\n",
    "\n",
    "Type the following code into your program:\n",
    "\n",
    "<img  align=left width=\"600\" src=\"MicrobitImages/MusicCode.png\">"
   ]
  },
  {
   "cell_type": "markdown",
   "id": "70e24671",
   "metadata": {},
   "source": [
    "## STEP 3: \n",
    "\n",
    "Next, enter the parameters of the melody. (\"*Notes played*\",*tempo*)\n",
    "\n",
    "<img  align=left width=\"600\" src=\"MicrobitImages/MusicCode1.png\">"
   ]
  },
  {
   "cell_type": "markdown",
   "id": "b18c0e87",
   "metadata": {},
   "source": [
    "## STEP 4: \n",
    "<img align=right style=\"float:right;margin-left:100px;margin-right:100px;\" width=\"200\" src=\"MicrobitImages/HeadphonesSheetMusic.jpeg\">\n",
    "\n",
    "Play with the code to create your own melody! A piano has 7 octaves. As you reach higher sounds, the octave gets higher. Micro:bits have 8 octaves. To change the octave of your note, add a number after the note. \n",
    "\n",
    "Example: C5 = note \"C\" in the 5th octave.\n",
    "\n",
    "\n",
    "<img  align=left width=\"300\" src=\"MicrobitImages/Octave.png\">\n",
    "<img  align=left width=\"600\" src=\"MicrobitImages/PianoOctaves.png\">\n",
    "\n",
    "\n",
    "<br></br>\n",
    "\n",
    "\n",
    "Here are some popular tunes you could try: \n",
    "\n",
    "**Star Wars Main theme:** C4 - G - F E D C5 - G - F E D C5 - G - F E F D\n",
    "\n",
    "**Mario theme:** C4 G3 E3 A3 B3 A#3 A3 G3 E4 G4 A4 F4 G4 E4 C4 D4 B3"
   ]
  }
 ],
 "metadata": {
  "kernelspec": {
   "display_name": "Python 3 (ipykernel)",
   "language": "python",
   "name": "python3"
  },
  "language_info": {
   "codemirror_mode": {
    "name": "ipython",
    "version": 3
   },
   "file_extension": ".py",
   "mimetype": "text/x-python",
   "name": "python",
   "nbconvert_exporter": "python",
   "pygments_lexer": "ipython3",
   "version": "3.9.6"
  }
 },
 "nbformat": 4,
 "nbformat_minor": 5
}
