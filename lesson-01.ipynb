{
 "cells": [
  {
   "cell_type": "code",
   "execution_count": null,
   "metadata": {
    "scrolled": true
   },
   "outputs": [],
   "source": [
    "from setup import setup_lesson\n",
    "setup_lesson.setup_Lesson1()"
   ]
  },
  {
   "cell_type": "markdown",
   "metadata": {},
   "source": [
    "[//]: # (Cell 2)\n",
    "^^^ *Try to `Run` this top block of code before we get started!* ^^^\n",
    "<img align=right style=\"float:right;margin-left:50px;margin-right:50px;\" width=\"300\" src=\"https://learn.discovercoding.ca/jupyter/images/discovercoding.png\">\n",
    "\n",
    "# Discover Python with Callysto\n",
    "Lesson created and taught by [Discover Coding](https://discovercoding.ca).\n",
    "\n",
    "With support and funding from [Callysto](https://callysto.ca/) and the [Pacific Institute for Mathematical Sciences](https://www.pims.math.ca/)\n",
    "\n",
    "# Lesson 1: Introduction\n",
    "\n",
    "This lesson will introduce:\n",
    "- Callysto and Jupyter notebooks\n",
    "- Basics of coding with Python\n",
    "\n",
    "# 1. What is all this *STUFF*?"
   ]
  },
  {
   "cell_type": "markdown",
   "metadata": {},
   "source": [
    "[//]: # (Cell 3)\n",
    "<img align=right style=\"float:right;margin-left:50px;margin-right:50px;\" width=\"350\" src=\"https://learn.discovercoding.ca/jupyter/images/library.jpg\">\n",
    "\n",
    "## What is Callysto?\n",
    "\n",
    "**Callysto** is a free and online collection of special, interactive textbooks specially designed for Canadian students. \n",
    "\n",
    "It's like your own personal school library of the future.\n"
   ]
  },
  {
   "cell_type": "markdown",
   "metadata": {},
   "source": [
    "[//]: # (Cell 4)\n",
    "<img align=right style=\"float:left;margin-left:50px;margin-right:50px;\" width=\"350\" src=\"https://learn.discovercoding.ca/jupyter/images/notebook.jpg\">\n",
    "\n",
    "## What is Jupyter?\n",
    "\n",
    "Callysto uses **Jupyter** notebooks to display text, images, videos, and even code! It's a notebook where you **WRITE** and **RUN** code!\n",
    "\n",
    "It's the same tool used in universities  by programmers and data scientists! "
   ]
  },
  {
   "cell_type": "markdown",
   "metadata": {},
   "source": [
    "[//]: # (Cell 5)\n",
    "\n",
    "## What is Python?\n",
    "\n",
    "<img align=right style=\"float:right;margin-left:100px;margin-right:100px;\" width=\"200\" src=\"https://learn.discovercoding.ca/jupyter/images/python.png\">\n",
    "\n",
    "**Python** is a kind of *programming language* that a computer can understand. It is a text-based language, where the syntax is a little different.\n",
    "\n",
    "When we write *Python code*, we are telling a computer what to do. \n",
    "\n",
    "There are many programming languages that exist, but Python is fairly easy to write; plus, we can run Python code *inside* this notebook!\n"
   ]
  },
  {
   "cell_type": "markdown",
   "metadata": {},
   "source": [
    "[//]: # (Cell 6)\n",
    "\n",
    "## What is Blockly?\n",
    "\n",
    "<img align=right style=\"float:right;margin-left:100px;margin-right:100px;\" width=\"180\" src=\"https://learn.discovercoding.ca/jupyter/images/blockly_logo_only.png\">\n",
    "\n",
    "Blockly is a drag-and-drop block programming language. We will use this to learn coding concepts and logic before trying problems in Python. \n",
    "\n",
    "With Blockly, you can snap lego-like blocks together to create instructions for the computer to follow. "
   ]
  },
  {
   "cell_type": "markdown",
   "metadata": {},
   "source": [
    "[//]: # (Cell 7)\n",
    "# 2. Print\n",
    "\n",
    "Today, we're going to be like computer scientists and engineers by placing text on the screen.\n",
    "\n",
    "You will use the `print` function to make the computer screen say what YOU want it to say!"
   ]
  },
  {
   "cell_type": "markdown",
   "metadata": {},
   "source": [
    "[//]: # (Cell 8)\n",
    "# 2.1 Blockly Printing\n",
    "\n",
    "a. `Run Code` to see how *print* works.\n",
    "\n",
    "b. Click and drag a *print* and text block into the workspace.\n",
    "\n",
    "c. Edit text in between the pair of quotation marks `\"`   to create your own message. `Run Code` to test."
   ]
  },
  {
   "cell_type": "code",
   "execution_count": null,
   "metadata": {
    "scrolled": false,
    "tags": [
     "hide-input"
    ]
   },
   "outputs": [],
   "source": [
    "from IPython.display import Javascript, IFrame\n",
    "IFrame('https://learn.discovercoding.ca/jupyter/blocks/1-2.html', 900, 700)"
   ]
  },
  {
   "cell_type": "markdown",
   "metadata": {},
   "source": [
    "[//]: # (Cell 10)\n",
    "\n",
    "## 2.2 Python Printing\n",
    "\n",
    "<img align=right style=\"float:left;margin-left:50px;margin-right:50px;\" width=\"150\" src=\"https://learn.discovercoding.ca/jupyter/images/run-button.png\">\n",
    "\n",
    "This notebook lets us run *Python* code directly inside it! Callysto is like a textbook you can write, draw, and code in!\n",
    "\n",
    "a. Let's run our first program! Select the code block below and click `run` or press `Ctrl+Enter` on the keyboard.\n",
    "\n",
    "b. Try changing the text in between the pair of quotation marks `\" \"`.\n",
    "\n",
    "c. On line 2, type your own `print(\"...\")` statement. Run the code again. What happens?\n",
    "\n",
    "*Note: If you're on a Chromebook, make sure the keyboard is set to `US`, not `INTL`, so the `\" \"` quotes work!*"
   ]
  },
  {
   "cell_type": "code",
   "execution_count": null,
   "metadata": {
    "scrolled": true
   },
   "outputs": [],
   "source": [
    "print(\"Hello World!\")\n"
   ]
  },
  {
   "cell_type": "markdown",
   "metadata": {},
   "source": [
    "[//]: # (Cell 12)\n",
    "The most basic program uses a `print()` statement to write messages to the screen. \n",
    "\n",
    "We're going to use this a lot so that our programs can tell us what it's doing."
   ]
  },
  {
   "cell_type": "markdown",
   "metadata": {},
   "source": [
    "[//]: # (Cell 13)\n",
    "\n",
    "\n",
    "# 3. Comments\n",
    "\n",
    "Before we start writing too much Python code, let's learn how to write *comments*.\n",
    "\n",
    "A *comment* is code that is not run. It is not a computer instruction.\n",
    "\n",
    "- It is useful for writing comments (notes) in your code.\n",
    "- It is also useful to DEBUG and prevent code from running.\n",
    "\n",
    "As we use Blockly, it can be easy to lose track of what we need to do.<br>\n",
    "Click on Comment blocks (the blue question mark) to get a hint!\n",
    "\n",
    "\n"
   ]
  },
  {
   "cell_type": "markdown",
   "metadata": {},
   "source": [
    "[//]: # (Cell 14)\n",
    "## 3.1 Blockly Comment\n",
    "<img align=right style=\"float:left;margin-left:50px;margin-right:50px;\" width=\"120\" src=\"https://learn.discovercoding.ca/jupyter/images/blockly_comment.png\">\n",
    "\n",
    "To view comments in Blockly, click on the blue question mark to open the comment.\n",
    "\n",
    "a. `Run Code`, then follow the directions in the comment below.\n",
    "\n",
    "b. Right-click on a block and click `Add Comment` to create your own.\n"
   ]
  },
  {
   "cell_type": "code",
   "execution_count": null,
   "metadata": {
    "scrolled": false
   },
   "outputs": [],
   "source": [
    "from IPython.display import Javascript, IFrame\n",
    "IFrame('https://learn.discovercoding.ca/jupyter/blocks/1-3.html', 900, 700)"
   ]
  },
  {
   "cell_type": "markdown",
   "metadata": {},
   "source": [
    "[//]: # (Cell 16)\n",
    "\n",
    "## 3.2 Python Comment\n",
    "In Python, comments start with a *hashtag* `#` at the start of the line.\n",
    "\n",
    "This next code block has a bad line of code on line 3. We can **comment it out** instead of fixing it.\n",
    "\n",
    "a. Run the code below (click `run` or press `Ctrl+Enter`).\n",
    "\n",
    "b. Add your name to the line 1 comment.\n",
    "\n",
    "b. *Comment out* line 3 by adding a `#` in front of it."
   ]
  },
  {
   "cell_type": "code",
   "execution_count": null,
   "metadata": {
    "scrolled": false
   },
   "outputs": [],
   "source": [
    "# This notebook has been modified by: Your Name\n",
    "print(\"This code is good!\")\n",
    "print(This code is bad. Comment it out!\")"
   ]
  },
  {
   "cell_type": "markdown",
   "metadata": {},
   "source": [
    "[//]: # (Cell 18)\n",
    "# 4. Primitive Data Types 🌎\n",
    "\n",
    "All computer programs, including *Python*, use different kinds of **Data Types** to store information. \n",
    "\n",
    "The most basic, or *primative*, data types store words, numbers, or true/false.  Here are the basic ones we'll use:\n",
    "\n",
    "    Data Type     Description                Examples\n",
    "    ----------    ------------------------   ------------------------------------\n",
    "    int           Integer or whole numbers   35\n",
    "    float         decimal numbers            12.3\n",
    "    str           String or words            \"This is text\" or 'This is text too'\n",
    "    bool          true or false              True or False\n",
    "    "
   ]
  },
  {
   "cell_type": "markdown",
   "metadata": {},
   "source": [
    "[//]: # (Cell 19)\n",
    "## 4.1 Numbers & Math 🧠\n",
    "\n",
    "Number data types, such as *int* (integer) or *float* let us do math and calculations.\n",
    "\n",
    "We can use the following *OPERATORS* (i.e. *symbols*) to add, subtract, multiply, and divide numbers:\n",
    "\n",
    "    ADD:       +\n",
    "    SUBTRACT:  -\n",
    "    MULTIPLY:  *\n",
    "    DIVIDE:    /\n",
    "\n",
    "<img align=right style=\"float:left;margin-left:0px;margin-right:50px;\" width=\"200\" src=\"https://learn.discovercoding.ca/jupyter/images/Math_Operations.jpg\">\n",
    "\n",
    "\n",
    "## 4.2 Blockly Math 🙇‍♀️\n",
    "\n",
    "Let's build the code to do math operations in Blockly:\n",
    "\n",
    "a. Predict what the following code will do. Then `Run Code`\n",
    "\n",
    "b. Print 3 or more math operations. `Run Code` to see results.\n",
    "\n",
    "c. **EXTRA CHALLENGE**: Try creating more math operations. Try this one: (2 * 5) + (20 / 4)\n"
   ]
  },
  {
   "cell_type": "code",
   "execution_count": null,
   "metadata": {
    "scrolled": false
   },
   "outputs": [],
   "source": [
    "from IPython.display import Javascript, IFrame\n",
    "IFrame('https://learn.discovercoding.ca/jupyter/blocks/1-4.html', 900, 700)"
   ]
  },
  {
   "cell_type": "markdown",
   "metadata": {},
   "source": [
    "[//]: # (Cell 21)\n",
    "## 4.3 Discovering Python Math\n",
    "\n",
    "Now let's try in Python!\n",
    "\n",
    "a. **PREDICT** what each code block will do!\n",
    "\n",
    "b. Run code with `Ctrl+Enter` to see if your prediction was correct."
   ]
  },
  {
   "cell_type": "code",
   "execution_count": null,
   "metadata": {
    "scrolled": true
   },
   "outputs": [],
   "source": [
    "# RUN ME:\n",
    "print (3+2)"
   ]
  },
  {
   "cell_type": "code",
   "execution_count": null,
   "metadata": {
    "scrolled": true
   },
   "outputs": [],
   "source": [
    "# RUN ME:\n",
    "print (1+2.2)"
   ]
  },
  {
   "cell_type": "code",
   "execution_count": null,
   "metadata": {
    "scrolled": true
   },
   "outputs": [],
   "source": [
    "# RUN ME:\n",
    "print (\"1\"+\"2\")"
   ]
  },
  {
   "cell_type": "code",
   "execution_count": null,
   "metadata": {
    "scrolled": true
   },
   "outputs": [],
   "source": [
    "# RUN ME:\n",
    "print (\"one\"+\"2\")"
   ]
  },
  {
   "cell_type": "markdown",
   "metadata": {},
   "source": [
    "[//]: # (Cell 26)\n",
    "\n",
    "## What did we just learn?\n",
    "\n",
    "There's two things you should have noticed:\n",
    "\n",
    "1. It's ok to mix *int* and *float* numbers. \n",
    "1. If a number is in \"quotes\", then it becomes a *string*; and *adding* two strings is **NOT** MATH!\n",
    "\n",
    "\n",
    "Try experimenting with more numbers and math operations:"
   ]
  },
  {
   "cell_type": "markdown",
   "metadata": {},
   "source": [
    "[//]: # (Cell 28)\n",
    "## 4.4 Creating Python Math\n",
    "\n",
    "a. **Remove the __**, then fill in with numbers.\n",
    "\n",
    "b. **Extra Challenge**: Try your own math equations! What's 1000 * 1000 * 5000 + 50?"
   ]
  },
  {
   "cell_type": "code",
   "execution_count": null,
   "metadata": {
    "scrolled": true
   },
   "outputs": [],
   "source": [
    "# FILL IN THE BLANKS:\n",
    "print( __ + __ )\n",
    "print( __ - __ )\n",
    "print( __ / __ )\n",
    "print( __ * __ )"
   ]
  },
  {
   "cell_type": "code",
   "execution_count": null,
   "metadata": {},
   "outputs": [],
   "source": [
    "# Create your own math in Python. Use print() so you can see the answer:\n"
   ]
  },
  {
   "cell_type": "markdown",
   "metadata": {},
   "source": [
    "[//]: # (Cell 31)"
   ]
  },
  {
   "cell_type": "markdown",
   "metadata": {},
   "source": [
    "[//]: # (Cell 32)\n",
    "\n",
    "# 5 Strings and Join\n",
    "\n",
    "A **string** is a sequence of characters: letters, numbers and special characters like `! ?` and `%`. \n",
    "\n",
    "Strings are defined by these characters in between a pair of quotes `' '` or double-quotes `\" \"`.\n",
    "\n",
    "## 5.1 Joining Strings in Blockly\n",
    "\n",
    "a. `Run Code` to see what the `create text with` block does.\n",
    "\n",
    "b. Try joining your own strings.\n",
    "\n",
    "c. **Extra Challenge**: Try joining in numbers and math operations. Ex. \"This year I'm turning (2022-2010)\""
   ]
  },
  {
   "cell_type": "code",
   "execution_count": null,
   "metadata": {
    "scrolled": false
   },
   "outputs": [],
   "source": [
    "from IPython.display import Javascript, IFrame\n",
    "IFrame('https://learn.discovercoding.ca/jupyter/blocks/1-5.html', 900, 700)"
   ]
  },
  {
   "cell_type": "markdown",
   "metadata": {},
   "source": [
    "### HINT:\n",
    "<img src=\"https://learn.discovercoding.ca/jupyter/images/Joining_Strings.jpg\">"
   ]
  },
  {
   "cell_type": "markdown",
   "metadata": {},
   "source": [
    "[//]: # (Cell 35)\n",
    "\n",
    "## 5.2 Joining Strings in Python\n",
    "\n",
    "Strings are represented with text in between a pair of single `'` or double `\"` quotation marks.\n",
    "\n",
    "a. Predict output and Run code with `Ctrl+Enter`\n",
    "\n",
    "b. Try deleting one of the quotation marks and run code to see what happens!"
   ]
  },
  {
   "cell_type": "code",
   "execution_count": null,
   "metadata": {
    "scrolled": true
   },
   "outputs": [],
   "source": [
    "# RUN ME:\n",
    "print(\"Hello World\")\n",
    "print(\"123\")\n",
    "print('Hello World 2.0!')\n",
    "print(\"🎃\")"
   ]
  },
  {
   "cell_type": "markdown",
   "metadata": {},
   "source": [
    "We can join multiple strings together using `+`"
   ]
  },
  {
   "cell_type": "code",
   "execution_count": null,
   "metadata": {
    "scrolled": true
   },
   "outputs": [],
   "source": [
    "# RUN ME:\n",
    "print(\"Hello! \" + \"What year \" + \"is it?\" )"
   ]
  },
  {
   "cell_type": "markdown",
   "metadata": {},
   "source": [
    "We can join strings and ints (integers). Use this function to convert an integer to a string: `str(...)`"
   ]
  },
  {
   "cell_type": "code",
   "execution_count": null,
   "metadata": {
    "scrolled": true
   },
   "outputs": [],
   "source": [
    "# RUN ME:\n",
    "print(\"This year is \" + str(2022))"
   ]
  },
  {
   "cell_type": "markdown",
   "metadata": {},
   "source": [
    "c. Try creating your own print message using joining strings.\n",
    "\n",
    "   For example: \n",
    "```   \n",
    "\"I am \" + str(2022-2009) + \" years old\"\n",
    "```"
   ]
  },
  {
   "cell_type": "code",
   "execution_count": null,
   "metadata": {},
   "outputs": [],
   "source": [
    "# Use print with + to print your own message:\n"
   ]
  },
  {
   "cell_type": "markdown",
   "metadata": {},
   "source": [
    "[//]: # (Cell 38)\n",
    "\n",
    "## 5.3 Debug Python\n",
    "\n",
    "This following code has a **BUG** in it. Try running it to see what happens.\n",
    "\n",
    "Can you fix it?"
   ]
  },
  {
   "cell_type": "code",
   "execution_count": null,
   "metadata": {
    "scrolled": true
   },
   "outputs": [],
   "source": [
    "# DEBUG THIS\n",
    "print ( \"1\" + 2 )"
   ]
  },
  {
   "cell_type": "markdown",
   "metadata": {},
   "source": [
    "# 6. EXTRA: Special Characters\n",
    "\n",
    "Sometimes, we want to print special characters such as quote(`'`) or double-quote(`\"`). \n",
    "\n",
    "*BUT NOT SO FAST!* We can't just use it in our string because those are supposed to surround our string. \n",
    "\n",
    "For example, let's try running this code:"
   ]
  },
  {
   "cell_type": "code",
   "execution_count": null,
   "metadata": {
    "scrolled": false
   },
   "outputs": [],
   "source": [
    "# RUN ME - What is wrong?\n",
    "print(\"I use double-quote (\") to print a string\" )"
   ]
  },
  {
   "cell_type": "markdown",
   "metadata": {},
   "source": [
    "To print special characters, we can *ESCAPE* them\n",
    "\n",
    "    To print this:      Use this in your code:\n",
    "    -----------------   ----------------------\n",
    "    ' (quote)           \\'\n",
    "    \" (double-quote)    \\\"\n",
    "    \\ (backslash)       \\\\\n",
    "      (newline)         \\n\n",
    "      (tab)             \\t\n",
    "\n",
    "Try running the sample code to see how we can insert tabs and newlines into a string."
   ]
  },
  {
   "cell_type": "code",
   "execution_count": null,
   "metadata": {
    "scrolled": true
   },
   "outputs": [],
   "source": [
    "# RUN ME:\n",
    "# Can you predict what the output will look like?\n",
    "print(\" You \\n Are \\n Super \\t Awesome \\t !\")"
   ]
  },
  {
   "cell_type": "markdown",
   "metadata": {},
   "source": [
    "Using a backslash, fix the code:"
   ]
  },
  {
   "cell_type": "code",
   "execution_count": null,
   "metadata": {
    "scrolled": true
   },
   "outputs": [],
   "source": [
    "# DEBUG ME: Add the backslash before the quotation mark\n",
    "print(\"I use double-quote (\") to print a string\" )"
   ]
  },
  {
   "cell_type": "markdown",
   "metadata": {},
   "source": [
    "## 6.1. Raw strings\n",
    "Another way to put special characters in your string is to use RAW strings.\n",
    "These are just strings with the letter `r` in front of them. \n",
    "\n",
    "For example:"
   ]
  },
  {
   "cell_type": "code",
   "execution_count": null,
   "metadata": {
    "scrolled": true
   },
   "outputs": [],
   "source": [
    "# RUN ME:\n",
    "# Here's a big spider:\n",
    "print(\"This spider is missing his right leg:\")\n",
    "print(\"//\\(oo)/\\\\\")\n",
    "print('\\n')\n",
    "print(\"This spider is printed as a RAW string. His leg is back!\")\n",
    "print(r\"//\\(oo)/\\\\\")"
   ]
  },
  {
   "cell_type": "markdown",
   "metadata": {},
   "source": [
    "## 6.2. Multi-line strings\n",
    "\n",
    "What if I wanted to print multiple lines?\n",
    "I could use multiple print statements. Or I can use a TRIPLE-QUOTE (`'''`) or (`\"\"\"`)\n",
    "\n",
    "For example:"
   ]
  },
  {
   "cell_type": "code",
   "execution_count": null,
   "metadata": {
    "scrolled": true
   },
   "outputs": [],
   "source": [
    "# RUN ME:\n",
    "print(r\"\"\"\n",
    " /\\_/\\\n",
    "((@v@))\n",
    "():::()\n",
    " VV-VV\n",
    "\"\"\")"
   ]
  },
  {
   "cell_type": "markdown",
   "metadata": {},
   "source": [
    "Now you try!\n",
    "Create your own creative ascii art for a email signature!\n",
    "\n",
    "    _________|----------------------------------------|________\n",
    "    \\       :| )\\   /(      Your Name         )\\   /( |:      /\n",
    "      \\     :|  )\\_/(                          )\\_/(  |:    /\n",
    "        >   :| (/^|^\\)    \"Coding is fun\"     (/^|^\\) |:  <\n",
    "      /     :|  \\*|*/                          \\*|*/  |:    \\\n",
    "    /_______:/---\\|/----------------------------\\|/---\\:______\\\n",
    "                  V                              V\n",
    "              "
   ]
  },
  {
   "cell_type": "code",
   "execution_count": null,
   "metadata": {
    "scrolled": true
   },
   "outputs": [],
   "source": [
    "print(r\"\"\"\n",
    "\n",
    "\"\"\")"
   ]
  }
 ],
 "metadata": {
  "kernelspec": {
   "display_name": "Python 3 (ipykernel)",
   "language": "python",
   "name": "python3"
  },
  "language_info": {
   "codemirror_mode": {
    "name": "ipython",
    "version": 3
   },
   "file_extension": ".py",
   "mimetype": "text/x-python",
   "name": "python",
   "nbconvert_exporter": "python",
   "pygments_lexer": "ipython3",
   "version": "3.11.4"
  },
  "varInspector": {
   "cols": {
    "lenName": 16,
    "lenType": 16,
    "lenVar": 40
   },
   "kernels_config": {
    "python": {
     "delete_cmd_postfix": "",
     "delete_cmd_prefix": "del ",
     "library": "var_list.py",
     "varRefreshCmd": "print(var_dic_list())"
    },
    "r": {
     "delete_cmd_postfix": ") ",
     "delete_cmd_prefix": "rm(",
     "library": "var_list.r",
     "varRefreshCmd": "cat(var_dic_list()) "
    }
   },
   "types_to_exclude": [
    "module",
    "function",
    "builtin_function_or_method",
    "instance",
    "_Feature"
   ],
   "window_display": false
  }
 },
 "nbformat": 4,
 "nbformat_minor": 2
}
