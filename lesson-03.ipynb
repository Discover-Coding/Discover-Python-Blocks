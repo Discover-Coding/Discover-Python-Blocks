{
 "cells": [
  {
   "cell_type": "markdown",
   "metadata": {},
   "source": [
    "*Run this code block before you begin:*"
   ]
  },
  {
   "cell_type": "code",
   "execution_count": null,
   "metadata": {},
   "outputs": [],
   "source": [
    "from setup import setup_lesson\n",
    "setup_lesson.setup_Lesson3()"
   ]
  },
  {
   "cell_type": "markdown",
   "metadata": {},
   "source": [
    "<img style=\"float:right;margin-left:50px;margin-right:50px;\" width=\"300\" src=\"images/discovercoding.png\">\n",
    "\n",
    "# Discover Python with Callysto\n",
    "Lesson created and taught by [Discover Coding](https://discovercoding.ca).\n",
    "\n",
    "With support and funding from [Callysto](https://callysto.ca/) and the [Pacific Institute for Mathematical Sciences](https://www.pims.math.ca/)\n",
    "\n",
    "<br>\n",
    "<br>\n",
    "\n",
    "# Lesson 3: More Conditionals\n",
    "\n",
    "This lesson will explore more:\n",
    "- 1. REVIEW: variables, comparisons, if statements\n",
    "- 2. if-else statements\n",
    "- 3. Practice!\n"
   ]
  },
  {
   "cell_type": "markdown",
   "metadata": {},
   "source": [
    "<img align=right style=\"float:right;\" width=\"400px\" src=\"images/variable.jpg\">\n",
    "\n",
    "# 1. Review\n",
    "\n",
    "## 1.1. Variables\n",
    "\n",
    "A **VARIABLE** is a *named box* that holds a value.\n",
    "\n",
    "    -It can hold numbers or strings.\n",
    "    -It starts with a lower case letter and has no spaces.\n"
   ]
  },
  {
   "cell_type": "code",
   "execution_count": null,
   "metadata": {},
   "outputs": [],
   "source": [
    "# RUN ME: (variable review)\n",
    "mynumber = 10\n",
    "mystring = \"a secret message\"\n",
    "print(mynumber)\n",
    "print(mystring)"
   ]
  },
  {
   "cell_type": "markdown",
   "metadata": {},
   "source": [
    "<img align=right style=\"float:right;\" width=\"160px\" src=\"images/BlocklyComparisons2.jpg\">\n",
    "\n",
    "## 1.2. Comparisons\n",
    "\n",
    "Python uses the following comparison operators:\n",
    "\n",
    "    Is Equal:              ==\n",
    "    Not equal:             !=\n",
    "    Less than:             <\n",
    "    Greater than:          >\n",
    "    Less than or equal:    <=\n",
    "    Greater than or equal: >="
   ]
  },
  {
   "cell_type": "code",
   "execution_count": null,
   "metadata": {},
   "outputs": [],
   "source": [
    "# RUN ME:\n",
    "\"hello\" == \"HELLO\""
   ]
  },
  {
   "cell_type": "code",
   "execution_count": null,
   "metadata": {},
   "outputs": [],
   "source": [
    "# RUN ME:\n",
    "10 < (10+2)"
   ]
  },
  {
   "cell_type": "markdown",
   "metadata": {},
   "source": [
    "## 1.3. Blockly Conditionals: `if`-statements\n",
    "\n",
    "<img align=right style=\"float:right;\" width=\"350px\" src=\"images/BlocklyIfStatement.jpg\">\n",
    "\n",
    "CONDITIONALS are how programs make decisions. \n",
    "\n",
    "Here is the most basic form of a comparison:\n",
    "\n",
    "    if COMPARISON :\n",
    "        run_this_code\n",
    "        and_run_this_code\n",
    "\n",
    "To get on a bus you need $3.50 or more. This if statement checks if you have enough bus fare to get on the bus.\n",
    "\n"
   ]
  },
  {
   "cell_type": "markdown",
   "metadata": {},
   "source": [
    "**ACTIVITY:** Create a conditional if-statement in Blockly: \n",
    "\n",
    "If the battery level is less than 3 bars, print \"charge your phone.\""
   ]
  },
  {
   "cell_type": "code",
   "execution_count": null,
   "metadata": {},
   "outputs": [],
   "source": [
    "from IPython.display import Javascript, IFrame\n",
    "IFrame('blocks/3-1.html', 900, 700)"
   ]
  },
  {
   "cell_type": "markdown",
   "metadata": {},
   "source": [
    "## 1.4. Python Conditionals: `if`-statement\n",
    "\n",
    "<img align=right style=\"float:right;\" width=\"500px\" src=\"images/ConditionalExample.jpg\">\n",
    "\n",
    "Here is the most basic form of a Python conditional:\n",
    "\n",
    "    if COMPARISON :\n",
    "        run_this_code\n",
    "        and_run_this_code\n",
    "        \n",
    "4 parts of a if-statement:\n",
    "\n",
    "1. Starts with `if`\n",
    "2. Has a `comparison`\n",
    "3. Has a `:` (colon) after the comparison\n",
    "4. Has an `indent` (`four spaces`) in front of the code inside the conditional\n",
    "\n",
    "The if-statement ends when there are no spaces before lines of code."
   ]
  },
  {
   "cell_type": "code",
   "execution_count": null,
   "metadata": {},
   "outputs": [],
   "source": [
    "# RUN ME: (what's the correct password?)\n",
    "\n",
    "password = input(\"Enter your password: \")\n",
    "if password == \"qwerty\" :\n",
    "    print(\" Open Sesame! A door opens \")"
   ]
  },
  {
   "cell_type": "code",
   "execution_count": null,
   "metadata": {},
   "outputs": [],
   "source": [
    "# DEBUG ME: (what's missing on line 5?)\n",
    "\n",
    "age = 25\n",
    "if age >= 18 \n",
    "print(\"You can vote!\")"
   ]
  },
  {
   "cell_type": "code",
   "execution_count": null,
   "metadata": {},
   "outputs": [],
   "source": [
    "# FILL IN THE BLANKS (test if a number is negative, positive or neither)\n",
    "\n",
    "myNumber = -6\n",
    "__ myNumber __ 0 __\n",
    "    print( \"This is a negative number\" )\n",
    "    \n",
    "__ myNumber __ 0 __\n",
    "    print( \"This is a positive number\" )"
   ]
  },
  {
   "cell_type": "markdown",
   "metadata": {},
   "source": [
    "## 2. Conditional: `if`-`else` Statement\n",
    "<img style=\"float:left;margin-right:30px;\" width=\"500px\" src=\"images/simonsays2.JPG\">\n",
    "\n",
    "So we know how to run some code *IF* the comparison is true. Now, let's run some different code when the comparison is *NOT* true. We will add an `else` block that works like this:\n",
    "\n",
    "- If (`if`) a **COMPARISON** is `True`, then run some code; \n",
    "- Otherwise (`else`), run other code *INSTEAD*\n",
    "\n",
    "\n"
   ]
  },
  {
   "cell_type": "markdown",
   "metadata": {},
   "source": [
    "## 2.1. Blockly Conditional: `if`-`else` Statement\n",
    "\n",
    "<img  width=\"700px\" src=\"images/howToCreateIfElseStatement.jpg\">\n",
    "\n",
    "*Activities:*\n",
    "\n",
    "<img align=right style=\"float:right;\" width=\"400px\" src=\"images/BlocklyIfElseExample.jpg\">\n",
    "\n",
    "a. If you are 18 or over you can vote. Try creating this conditional to check if you are 18 or over, then print \"You can vote!\". Otherwise, print \"You are not old enough to vote.\"\n"
   ]
  },
  {
   "cell_type": "code",
   "execution_count": null,
   "metadata": {},
   "outputs": [],
   "source": [
    "from IPython.display import Javascript, IFrame\n",
    "IFrame('blocks/3-1.html', 900, 700)"
   ]
  },
  {
   "cell_type": "markdown",
   "metadata": {},
   "source": [
    "b. If you have $3.50 or more bus fare, then print \"Thanks for paying, you may get on the bus.\" Otherwise, print \"Sorry, that is not enough.\"\n",
    "\n",
    "<img style=\"float:right;\" src=\"images/PythonIfElse.jpg\">\n"
   ]
  },
  {
   "cell_type": "code",
   "execution_count": null,
   "metadata": {},
   "outputs": [],
   "source": [
    "from IPython.display import Javascript, IFrame\n",
    "IFrame('blocks/3-1.html', 900, 700)"
   ]
  },
  {
   "cell_type": "markdown",
   "metadata": {},
   "source": [
    "## 2.2. Python Conditional: `if`-`else` Statement\n",
    "\n",
    "In Python, the conditional code looks like this:\n",
    "\n",
    "    if COMPARISON :\n",
    "        run_this_code\n",
    "        and_run_this_code\n",
    "        \n",
    "    else :\n",
    "        run_this_code_instead\n",
    "        this_code_too\n",
    "\n",
    "**NOTICE** the colon (`:`) at the end.\n",
    "\n",
    "**NOTICE** the `indent` (`4 spaces`) in front of the code that is part of the `else`. The code that is grouped together with the same number of spaces in front is called a **code block**.\n",
    "\n",
    "Let's try running these new conditionals. For each one, try:\n",
    "\n",
    "1. Fill in a value for each variable\n",
    "1. What happens when the comparison is true?\n",
    "1. *NOW* what happens when the comparison is false?\n"
   ]
  },
  {
   "cell_type": "code",
   "execution_count": null,
   "metadata": {},
   "outputs": [],
   "source": [
    "# FILL IN THE BLANK: (set the value of the bus fare)\n",
    "\n",
    "bus_fare = ____\n",
    "if bus_fare == 3.50 :\n",
    "    print( \"Thanks for paying,\" )\n",
    "    print( \"come on the bus!\" )\n",
    "else :\n",
    "    print( \"That's not the EXACT amount...\" )"
   ]
  },
  {
   "cell_type": "code",
   "execution_count": null,
   "metadata": {},
   "outputs": [],
   "source": [
    "# DEBUG ME:\n",
    "\n",
    "a = 5\n",
    "b = 8\n",
    "if a > b :\n",
    "    print (\"a is greater than b\")\n",
    "else\n",
    "print (\"a is less than or equal b\")"
   ]
  },
  {
   "cell_type": "code",
   "execution_count": null,
   "metadata": {},
   "outputs": [],
   "source": [
    "# FILL IN THE BLANK: (What word and symbol is missing?)\n",
    "\n",
    "temperature = ____\n",
    "if temperature < -23 :\n",
    "    print( \"Brrr. It's cold.\")\n",
    "    print( \"Indoor recess!\")\n",
    "_____ __\n",
    "    print ( \"Go play outside!\" )"
   ]
  },
  {
   "cell_type": "code",
   "execution_count": null,
   "metadata": {},
   "outputs": [],
   "source": [
    "# FILL IN THE LINE OF CODE:\n",
    "\n",
    "password = input(\"Enter your password: \")\n",
    "__ ________ == \"______\" __\n",
    "    print(\" Open Sesame! A door opens \")\n",
    "____ __\n",
    "    print(\" You cannot enter\")"
   ]
  },
  {
   "cell_type": "markdown",
   "metadata": {},
   "source": [
    "## 3. Practice with `if` and `if`-`else` Conditionals\n",
    "\n",
    "a. Create a conditional to check if *myNumber* is a negative or positive number:"
   ]
  },
  {
   "cell_type": "code",
   "execution_count": null,
   "metadata": {},
   "outputs": [],
   "source": [
    "# FILL IN THE BLANKS: (test if a number is negative, positive or neither)\n",
    "\n",
    "myNumber = -6\n",
    "__ myNumber __ 0 __\n",
    "    print( \"This is a negative number \")\n",
    "__ myNumber __ 0 __\n",
    "    print( \"This is a positive number \")"
   ]
  },
  {
   "cell_type": "markdown",
   "metadata": {},
   "source": [
    "b. Green means GO. Yellow means SLOW. Red means STOP. Create conditionals to tell the AI driver what to do when the light changes colour:"
   ]
  },
  {
   "cell_type": "code",
   "execution_count": null,
   "metadata": {},
   "outputs": [],
   "source": [
    "# FILL IN THE BLANKS:\n",
    "# Add an *IF* statement so that you tell your driver what to do when they see a light\n",
    "\n",
    "light = input(\"Is the light green, yellow or red: \")\n",
    "\n",
    "if light == \"green\" :\n",
    "    print( \"GO,\" )\n",
    "    \n",
    "__ light ___ \"yellow\" __\n",
    "    print( \"SLOW,\" )\n",
    "    \n",
    "__ ________ == \"______\" __\n",
    "    ________________ "
   ]
  },
  {
   "cell_type": "markdown",
   "metadata": {},
   "source": [
    "c. When you are 16 or over, you are eligible to get your drivers license. Create a conditional to check if the user can drive. If they are too young, tell them how many years until they can drive:"
   ]
  },
  {
   "cell_type": "code",
   "execution_count": null,
   "metadata": {},
   "outputs": [],
   "source": [
    "# FILL IN THE BLANKS:\n",
    "#   Add an *IF* statement so you can tell the user if they are 16 or over, then they can drive\n",
    "\n",
    "age = ___ \n",
    "__ ________ __ \"______\" __\n",
    "    print(\" Yay, you can drive \")\n",
    "    \n",
    "#   Add an *IF* statement so you can tell the user if they are  16, then tell them how many users until they can drive\n",
    "\n",
    "__ ________ __ \"______\" __\n",
    "    print(\" Sorry, but you have \" + (16-age) + \" years until you can drive.\" )"
   ]
  },
  {
   "cell_type": "markdown",
   "metadata": {},
   "source": [
    "d. If you are 18 or over you can vote. Create a conditional to check if you are old enough to vote:"
   ]
  },
  {
   "cell_type": "code",
   "execution_count": null,
   "metadata": {},
   "outputs": [],
   "source": [
    "# FILL IN THE BLANKS:\n",
    "age = ___ \n",
    "__ ________ __ \"______\" __\n",
    "    print(\" Yes! You're 18 or older, so you can vote.\")\n"
   ]
  },
  {
   "cell_type": "markdown",
   "metadata": {},
   "source": [
    "## 3.1 Extra Challenge\n",
    "\n",
    "e. Finish the conditional to have someone guess a number between 1 and 10:"
   ]
  },
  {
   "cell_type": "code",
   "execution_count": null,
   "metadata": {},
   "outputs": [],
   "source": [
    "# FILL IN THE BLANKS:\n",
    "guess = input(\"Guess a number between 1 and 10: \")\n",
    "__ guess == \"6\" __\n",
    "    print(\"Yes! You guessed it!\")\n",
    "else __\n",
    "    print(\"Nope! Wrong.\")"
   ]
  },
  {
   "cell_type": "markdown",
   "metadata": {},
   "source": [
    "# Summary\n",
    "\n",
    "Well done!! In this lesson, you learned to use the following conditionals to code decisions, tests or checks:\n",
    "\n",
    "- **if-else statements**\n",
    "\n",
    "    if COMPARISON :\n",
    "        run_this_code\n",
    "        and_run_this_code\n",
    "        \n",
    "    else :\n",
    "        run_this_code_instead\n",
    "        this_code_too"
   ]
  }
 ],
 "metadata": {
  "kernelspec": {
   "display_name": "Python 3 (ipykernel)",
   "language": "python",
   "name": "python3"
  },
  "language_info": {
   "codemirror_mode": {
    "name": "ipython",
    "version": 3
   },
   "file_extension": ".py",
   "mimetype": "text/x-python",
   "name": "python",
   "nbconvert_exporter": "python",
   "pygments_lexer": "ipython3",
   "version": "3.9.6"
  }
 },
 "nbformat": 4,
 "nbformat_minor": 2
}
